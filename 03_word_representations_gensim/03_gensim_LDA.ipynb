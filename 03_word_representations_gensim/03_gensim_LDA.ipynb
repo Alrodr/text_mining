{
 "cells": [
  {
   "cell_type": "markdown",
   "metadata": {},
   "source": [
    "# Non supervised text topic detection\n",
    "\n",
    "## LDA with Gensim"
   ]
  },
  {
   "cell_type": "code",
   "execution_count": null,
   "metadata": {},
   "outputs": [],
   "source": [
    "import os\n",
    "import re\n",
    "import string\n",
    "\n",
    "#import pandas as pd\n",
    "\n",
    "data = '../data'"
   ]
  },
  {
   "cell_type": "code",
   "execution_count": null,
   "metadata": {},
   "outputs": [],
   "source": [
    "from sklearn.datasets import fetch_20newsgroups\n",
    "\n",
    "twenty_train = fetch_20newsgroups(subset='train',\n",
    "                 remove=('headers', 'footers', 'quotes'), shuffle=True, random_state=42)\n",
    "print(len(twenty_train['data']))"
   ]
  },
  {
   "cell_type": "code",
   "execution_count": null,
   "metadata": {},
   "outputs": [],
   "source": [
    "from nltk.tokenize import sent_tokenize\n",
    "from nltk.tokenize import TreebankWordTokenizer\n",
    "\n",
    "def tokenize_doc(text):\n",
    "    sents = sent_tokenize(text)\n",
    "    tokens = []\n",
    "    for s in sents:\n",
    "        for t in TreebankWordTokenizer().tokenize(s):\n",
    "            if len(t)<2 or '\\n' in t or '\\t' in t or t.isnumeric():\n",
    "                continue\n",
    "            else:\n",
    "                tokens += [t.lower()]\n",
    "    return tokens"
   ]
  },
  {
   "cell_type": "code",
   "execution_count": null,
   "metadata": {},
   "outputs": [],
   "source": [
    "%%time\n",
    "\n",
    "docs_tokenized = []\n",
    "for text in twenty_train['data']:\n",
    "    docs_tokenized += [tokenize_doc(text)]\n",
    "print(len(docs_tokenized))"
   ]
  },
  {
   "cell_type": "code",
   "execution_count": null,
   "metadata": {},
   "outputs": [],
   "source": [
    "# Get the NLTK stopwords list\n",
    "import nltk\n",
    "\n",
    "def nltk_stopwords():\n",
    "    return set(nltk.corpus.stopwords.words('english'))"
   ]
  },
  {
   "cell_type": "code",
   "execution_count": null,
   "metadata": {},
   "outputs": [],
   "source": [
    "# create dictionary and bag of words corpus\n",
    "\n",
    "from gensim.corpora import Dictionary, MmCorpus\n",
    "    \n",
    "print('Building dictionary...')\n",
    "dictionary = Dictionary(docs_tokenized)\n",
    "\n",
    "# Stopwords\n",
    "\n",
    "additional_stopwords=set(['...', '\\'s','\\'\\'',  \"``\", \"n\\'t\", \"\\'re\", \"\\'m\", \"\\'ve\",\n",
    "                          '--', '\"', \"\\'ax\", 'max', 'q,3'])\n",
    "\n",
    "#additional_stopwords=set()\n",
    "\n",
    "stopwords = nltk_stopwords().union(additional_stopwords)\n",
    "stopword_ids = map(dictionary.token2id.get, stopwords)\n",
    "dictionary.filter_tokens(stopword_ids)\n",
    "dictionary.compactify()\n",
    "\n",
    "# Filter extremes\n",
    "dictionary.filter_extremes(no_below=5, no_above=0.95, keep_n=None)\n",
    "dictionary.compactify()\n",
    "\n",
    "print('Building corpus...')\n",
    "corpus = [dictionary.doc2bow(doc) for doc in docs_tokenized]"
   ]
  },
  {
   "cell_type": "code",
   "execution_count": null,
   "metadata": {},
   "outputs": [],
   "source": [
    "%%time\n",
    "\n",
    "# Train the LDA model\n",
    "\n",
    "from gensim import models\n",
    "\n",
    "lda = models.ldamodel.LdaModel(corpus=corpus, id2word=dictionary, num_topics=25, passes=10)\n",
    "                                      \n",
    "lda.save(os.path.join(data,'newsgroups_50_lda.model'))"
   ]
  },
  {
   "cell_type": "code",
   "execution_count": null,
   "metadata": {},
   "outputs": [],
   "source": [
    "lda.show_topics()"
   ]
  },
  {
   "cell_type": "code",
   "execution_count": null,
   "metadata": {},
   "outputs": [],
   "source": [
    "lda.get_document_topics(corpus[:10])"
   ]
  },
  {
   "cell_type": "code",
   "execution_count": null,
   "metadata": {},
   "outputs": [],
   "source": [
    "for i in range(lda.num_topics):\n",
    "    print(i, lda.show_topic(i))\n",
    "    print('\\n')"
   ]
  },
  {
   "cell_type": "markdown",
   "metadata": {},
   "source": [
    "# Visualization"
   ]
  },
  {
   "cell_type": "code",
   "execution_count": null,
   "metadata": {},
   "outputs": [],
   "source": [
    "import pyLDAvis\n",
    "\n",
    "pyLDAvis.enable_notebook()"
   ]
  },
  {
   "cell_type": "code",
   "execution_count": null,
   "metadata": {
    "scrolled": true
   },
   "outputs": [],
   "source": [
    "import pyLDAvis.gensim\n",
    "\n",
    "pyLDAvis.gensim.prepare(lda, corpus, dictionary)"
   ]
  },
  {
   "cell_type": "code",
   "execution_count": null,
   "metadata": {},
   "outputs": [],
   "source": []
  }
 ],
 "metadata": {
  "kernelspec": {
   "display_name": "Python [conda env:tm]",
   "language": "python",
   "name": "conda-env-tm-py"
  },
  "language_info": {
   "codemirror_mode": {
    "name": "ipython",
    "version": 3
   },
   "file_extension": ".py",
   "mimetype": "text/x-python",
   "name": "python",
   "nbconvert_exporter": "python",
   "pygments_lexer": "ipython3",
   "version": "3.6.5"
  }
 },
 "nbformat": 4,
 "nbformat_minor": 2
}
