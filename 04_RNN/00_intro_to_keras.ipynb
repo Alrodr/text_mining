{
 "cells": [
  {
   "cell_type": "markdown",
   "metadata": {},
   "source": [
    "# Intro to keras as part of Tensorflow\n",
    "    - Load MNIST dataset\n",
    "    - Linear model\n",
    "    - Neural model\n",
    "    - Convolutional model"
   ]
  },
  {
   "cell_type": "code",
   "execution_count": null,
   "metadata": {},
   "outputs": [],
   "source": [
    "from __future__ import print_function\n",
    "\n",
    "#Basic libraries\n",
    "import numpy as np\n",
    "import tensorflow as tf\n",
    "print('Tensorflow version: ', tf.__version__)\n",
    "import time\n",
    "\n",
    "#Show images\n",
    "import matplotlib.pyplot as plt\n",
    "%matplotlib inline\n",
    "# plt configuration\n",
    "plt.rcParams['figure.figsize'] = (10, 10)        # size of images\n",
    "plt.rcParams['image.interpolation'] = 'nearest'  # show exact image\n",
    "plt.rcParams['image.cmap'] = 'gray'  # use grayscale \n"
   ]
  },
  {
   "cell_type": "code",
   "execution_count": null,
   "metadata": {},
   "outputs": [],
   "source": [
    "# Select GPU\n",
    "import os\n",
    "os.environ[\"CUDA_DEVICE_ORDER\"]=\"PCI_BUS_ID\"\n",
    "os.environ[\"CUDA_VISIBLE_DEVICES\"]=\"0\"\n",
    "\n",
    "from tensorflow.python.client import device_lib\n",
    "print(device_lib.list_local_devices())"
   ]
  },
  {
   "cell_type": "markdown",
   "metadata": {},
   "source": [
    "## Get some data"
   ]
  },
  {
   "cell_type": "code",
   "execution_count": null,
   "metadata": {
    "scrolled": false
   },
   "outputs": [],
   "source": [
    "# Import mnist dataset and rescale between [0,1]\n",
    "\n",
    "(X_train, y_train), (X_test, y_test) = tf.keras.datasets.mnist.load_data(path='mnist.npz')\n",
    "X_train = X_train.astype('float32')\n",
    "X_test = X_test.astype('float32')\n",
    "X_train /= 255.\n",
    "X_test /= 255.\n",
    "\n",
    "print('X train shape: ',X_train.shape)\n",
    "print('y train shape: ',y_train.shape)\n",
    "print('X test shape: ', X_test.shape)\n",
    "print('y test shape: ', y_test.shape)"
   ]
  },
  {
   "cell_type": "code",
   "execution_count": null,
   "metadata": {},
   "outputs": [],
   "source": [
    "#Examine the data\n",
    "plt.rcParams['figure.figsize'] = (10, 10)\n",
    "\n",
    "fig = plt.figure()\n",
    "for n, i in enumerate(range(32)): \n",
    "    a = fig.add_subplot(4,8,n+1)\n",
    "    a.set_title(str(y_test[i]))\n",
    "    fig.tight_layout()\n",
    "    plt.imshow(X_test[i])\n",
    "    "
   ]
  },
  {
   "cell_type": "markdown",
   "metadata": {},
   "source": [
    "## Linear model"
   ]
  },
  {
   "cell_type": "code",
   "execution_count": null,
   "metadata": {
    "scrolled": true
   },
   "outputs": [],
   "source": [
    "print('Linear model...')\n",
    "images = tf.keras.layers.Input(batch_shape=(None, 28, 28), dtype='float32', name='Images') \n",
    "flat = tf.keras.layers.Flatten(name='Flat_image')(images)\n",
    "output = tf.keras.layers.Dense(10, activation='softmax', name='Dense_output')(flat)\n",
    "\n",
    "# Model Architecture defined\n",
    "model_linear = tf.keras.models.Model(inputs=images, outputs=output)\n",
    "model_linear.summary()\n"
   ]
  },
  {
   "cell_type": "code",
   "execution_count": null,
   "metadata": {},
   "outputs": [],
   "source": [
    "# Select optimizer and compile model\n",
    "sgd_optimizer = tf.keras.optimizers.SGD(lr=0.01)\n",
    "model_linear.compile(loss='sparse_categorical_crossentropy', \n",
    "                     optimizer=sgd_optimizer, metrics=['accuracy'])"
   ]
  },
  {
   "cell_type": "code",
   "execution_count": null,
   "metadata": {
    "scrolled": true
   },
   "outputs": [],
   "source": [
    "# Train the model\n",
    "start = time.time()\n",
    "\n",
    "tb_callback_ln = tf.keras.callbacks.TensorBoard(log_dir='../data/tensorboard/keras/linear/')\n",
    "\n",
    "history_linear = model_linear.fit(X_train, y_train, batch_size=128, epochs=50,\n",
    "                                  verbose=1, validation_data=(X_test, y_test), callbacks=[tb_callback_ln])\n",
    "\n",
    "print('Seconds to train: ', time.time() - start)"
   ]
  },
  {
   "cell_type": "code",
   "execution_count": null,
   "metadata": {},
   "outputs": [],
   "source": [
    "plt.rcParams['figure.figsize'] = (10, 10)\n",
    "\n",
    "plt.plot(history_linear.history['acc'], label='acc')\n",
    "plt.plot(history_linear.history['val_acc'], label='val acc')\n",
    "plt.legend(loc='lower right')\n",
    "plt.show()"
   ]
  },
  {
   "cell_type": "code",
   "execution_count": null,
   "metadata": {},
   "outputs": [],
   "source": [
    "# Score and select prediction with max prob\n",
    "import numpy as np\n",
    "p_test = model_linear.predict(X_test)\n",
    "pred_test = np.argmax(p_test, axis=1)\n",
    "\n",
    "#Evaluate the confusion matrix\n",
    "from sklearn.metrics import confusion_matrix\n",
    "print(confusion_matrix(y_test,pred_test))"
   ]
  },
  {
   "cell_type": "markdown",
   "metadata": {},
   "source": [
    "## Neural network model "
   ]
  },
  {
   "cell_type": "code",
   "execution_count": null,
   "metadata": {},
   "outputs": [],
   "source": [
    "print('NN model...')\n",
    "\n",
    "images = tf.keras.layers.Input(batch_shape=(None, 28, 28), dtype='float32', name='Images') \n",
    "flat   = tf.keras.layers.Flatten(name='Flat_image')(images)\n",
    "dense  = tf.keras.layers.Dense(500, activation='relu', name='Dense_layer')(flat)\n",
    "output = tf.keras.layers.Dense(10, activation='softmax', name='Dense_output')(dense)\n",
    "\n",
    "# Model Architecture defined\n",
    "model_nn = tf.keras.models.Model(inputs=images, outputs=output)\n",
    "model_nn.summary()\n"
   ]
  },
  {
   "cell_type": "code",
   "execution_count": null,
   "metadata": {},
   "outputs": [],
   "source": [
    "sgd_optimizer = tf.keras.optimizers.SGD(lr=0.01)\n",
    "model_nn.compile(loss='sparse_categorical_crossentropy', \n",
    "                 optimizer=sgd_optimizer, metrics=['accuracy'])\n"
   ]
  },
  {
   "cell_type": "code",
   "execution_count": null,
   "metadata": {},
   "outputs": [],
   "source": [
    "# Train the model\n",
    "start = time.time()\n",
    "\n",
    "tb_callback_nn = tf.keras.callbacks.TensorBoard(log_dir='../data/tensorboard/keras/neural/')\n",
    "\n",
    "history_nn = model_nn.fit(X_train, y_train, batch_size=128, epochs=50,\n",
    "                    verbose=1, validation_data=(X_test, y_test), callbacks=[tb_callback_nn])\n",
    "\n",
    "print('Seconds to train: ', time.time() - start)"
   ]
  },
  {
   "cell_type": "code",
   "execution_count": null,
   "metadata": {},
   "outputs": [],
   "source": [
    "# Plot train vs valid\n",
    "plt.rcParams['figure.figsize'] = (10, 10)\n",
    "\n",
    "plt.plot(history_nn.history['acc'], label='acc')\n",
    "plt.plot(history_nn.history['val_acc'], label='val acc')\n",
    "plt.legend(loc='lower right')\n",
    "plt.show()"
   ]
  },
  {
   "cell_type": "code",
   "execution_count": null,
   "metadata": {},
   "outputs": [],
   "source": [
    "# Compare the two models\n",
    "plt.rcParams['figure.figsize'] = (10, 10)\n",
    "\n",
    "plt.plot(history_linear.history['val_acc'], label='Linear')\n",
    "plt.plot(history_nn.history['val_acc'], label='NN')\n",
    "plt.legend(loc='lower right')\n",
    "plt.show()"
   ]
  },
  {
   "cell_type": "markdown",
   "metadata": {},
   "source": [
    "## Convolutional model"
   ]
  },
  {
   "cell_type": "code",
   "execution_count": null,
   "metadata": {},
   "outputs": [],
   "source": [
    "#Define the model\n",
    "print('Convolutional model...')\n",
    "print('LeNet architecture.')\n",
    "\n",
    "#Inputs\n",
    "images = tf.keras.layers.Input(batch_shape=(None, 28, 28, 1), dtype='float32', name='Images')\n",
    "\n",
    "#First convolutional layer\n",
    "conv1 = tf.keras.layers.Conv2D(20, (5,5))(images)\n",
    "pool1 = tf.keras.layers.MaxPooling2D(pool_size=(2, 2))(conv1)\n",
    "\n",
    "#Second convolutional layer\n",
    "conv2 = tf.keras.layers.Conv2D(20, (5,5))(pool1)\n",
    "pool2 = tf.keras.layers.MaxPooling2D(pool_size=(2, 2))(conv2)\n",
    "\n",
    "#Flatten convolution output\n",
    "flat = tf.keras.layers.Flatten(name='Flat_image')(pool2)\n",
    "\n",
    "# First dense layer\n",
    "dense1 = tf.keras.layers.Dense(500, activation='relu', name='Dense_1')(flat)\n",
    "\n",
    "# Second dense layer\n",
    "output = tf.keras.layers.Dense(10, activation='softmax', name='Dense_output')(dense1)\n",
    "\n",
    "# Model Architecture defined\n",
    "model_conv = tf.keras.models.Model(inputs=images, outputs=output)\n",
    "model_conv.summary()\n"
   ]
  },
  {
   "cell_type": "code",
   "execution_count": null,
   "metadata": {},
   "outputs": [],
   "source": [
    "# Compile model and select optimizer\n",
    "sgd_optimizer = tf.keras.optimizers.SGD(lr=0.01)\n",
    "model_conv.compile(loss='sparse_categorical_crossentropy', optimizer=sgd_optimizer, metrics=['accuracy'])\n"
   ]
  },
  {
   "cell_type": "code",
   "execution_count": null,
   "metadata": {},
   "outputs": [],
   "source": [
    "# Train the model\n",
    "X_train_img = X_train.reshape(X_train.shape[0], 28, 28, 1) \n",
    "X_test_img = X_test.reshape(X_test.shape[0], 28, 28, 1)\n",
    "\n",
    "start = time.time()\n",
    "\n",
    "tb_callback_cnn = tf.keras.callbacks.TensorBoard(log_dir='../data/tensorboard/keras/CNN/')\n",
    "\n",
    "history = model_conv.fit(X_train_img, y_train, batch_size=128, epochs=10,\n",
    "                    verbose=1, validation_data=(X_test_img, y_test), callbacks=[tb_callback_cnn])\n",
    "\n",
    "print('Seconds to train: ', time.time() - start)"
   ]
  },
  {
   "cell_type": "code",
   "execution_count": null,
   "metadata": {},
   "outputs": [],
   "source": [
    "#Compare with previous\n",
    "plt.rcParams['figure.figsize'] = (10, 10)\n",
    "\n",
    "plt.plot(history_linear.history['val_acc'], label='Linear')\n",
    "plt.plot(history_nn.history['val_acc'], label='NN')\n",
    "plt.plot(history.history['val_acc'], label='Conv')\n",
    "plt.legend(loc='lower right')\n",
    "plt.show()\n"
   ]
  },
  {
   "cell_type": "code",
   "execution_count": null,
   "metadata": {},
   "outputs": [],
   "source": [
    "# Score and select prediction with max prob\n",
    "import numpy as np\n",
    "p_test = model_conv.predict(X_test_img)\n",
    "pred_test = np.argmax(p_test, axis=1)\n",
    "\n",
    "#Evaluate the confusion matrix\n",
    "from sklearn.metrics import confusion_matrix\n",
    "print(confusion_matrix(y_test, pred_test))"
   ]
  },
  {
   "cell_type": "code",
   "execution_count": null,
   "metadata": {},
   "outputs": [],
   "source": [
    "\n",
    "#Print probabilities to the first erros\n",
    "test_errors=[]\n",
    "test_errors_real=[]\n",
    "test_errors_predict=[]\n",
    "num_errors = 32\n",
    "n = 0\n",
    "for i in range(len(pred_test)):\n",
    "    if pred_test[i] != y_test[i] and n < num_errors: #Error!\n",
    "        n += 1\n",
    "        test_errors += [X_test_img[i,:,:,0]]\n",
    "        test_errors_real += [y_test[i]]\n",
    "        test_errors_predict += [pred_test[i]]\n",
    "        \n",
    "        #Print first propabilities\n",
    "        index = p_test[i].argsort()[::-1]\n",
    "        print('n: %2i - Pred 1: %1i(%0.3f) - Pred 2: %1i(%0.3f)' % (n,\n",
    "              index[0], p_test[i][index[0]], index[1], p_test[i][index[1]]))\n",
    "        \n",
    "print(\"Num errors: \", len(test_errors))\n",
    "\n",
    "\n",
    "#Plot 32 images wrong classified.\n",
    "plt.rcParams['figure.figsize'] = (10, 10)\n",
    "\n",
    "fig = plt.figure()\n",
    "for n, i in enumerate(range(32)): \n",
    "    a = fig.add_subplot(5, 8, n+1)\n",
    "    a.set_title('R:'+str(test_errors_real[i])+' - P:'+str(test_errors_predict[i]))\n",
    "    fig.tight_layout()\n",
    "    plt.imshow(test_errors[i])\n",
    "    "
   ]
  },
  {
   "cell_type": "markdown",
   "metadata": {},
   "source": [
    "# Input batch example\n",
    "    - Define a batch generator\n",
    "    - Use it in the train process"
   ]
  },
  {
   "cell_type": "code",
   "execution_count": null,
   "metadata": {},
   "outputs": [],
   "source": [
    "# New model. Equal to the last.\n",
    "model_conv2 = tf.keras.models.Model(inputs=images, outputs=output)\n",
    "\n",
    "sgd_optimizer = tf.keras.optimizers.SGD(lr=0.01, momentum=0.99, decay=0.005, nesterov=True)\n",
    "model_conv2.compile(loss='sparse_categorical_crossentropy', optimizer=sgd_optimizer, metrics=['accuracy'])\n"
   ]
  },
  {
   "cell_type": "code",
   "execution_count": null,
   "metadata": {},
   "outputs": [],
   "source": [
    "# Define a generator to X_train. Same code to an HDF5 source\n",
    "def batch_generator(X, y, batch_size=64):\n",
    "    data_size = X.shape[0]\n",
    "    while 1:\n",
    "        # Randomize batches in each epoch\n",
    "        batch_randomized = np.random.permutation(range(0, data_size-batch_size, batch_size))\n",
    "        # Iterate over each batch\n",
    "        for batch in batch_randomized:\n",
    "            x_batch = X[batch : batch+batch_size]\n",
    "            y_batch = y[batch : batch+batch_size]\n",
    "            yield x_batch, y_batch"
   ]
  },
  {
   "cell_type": "code",
   "execution_count": null,
   "metadata": {},
   "outputs": [],
   "source": [
    "#Test the generator\n",
    "seq = batch_generator(X_train_img, y_train)    \n",
    "next_seq = next(seq)\n",
    "print(next_seq[0][0].shape)\n",
    "print(next_seq[1])\n"
   ]
  },
  {
   "cell_type": "code",
   "execution_count": null,
   "metadata": {},
   "outputs": [],
   "source": [
    "# Train using the fit_generator function\n",
    "\n",
    "# Number of steps to use all the train data in a epoch.\n",
    "steps = X_train.shape[0]//64\n",
    "\n",
    "history = model_conv2.fit_generator(batch_generator(X_train_img, y_train, batch_size=64),\n",
    "                                    steps_per_epoch=steps, epochs=10,\n",
    "                                    verbose=1, validation_data=(X_test_img, y_test))\n"
   ]
  },
  {
   "cell_type": "code",
   "execution_count": null,
   "metadata": {},
   "outputs": [],
   "source": []
  }
 ],
 "metadata": {
  "anaconda-cloud": {},
  "kernelspec": {
   "display_name": "Python [conda env:tm]",
   "language": "python",
   "name": "conda-env-tm-py"
  },
  "language_info": {
   "codemirror_mode": {
    "name": "ipython",
    "version": 3
   },
   "file_extension": ".py",
   "mimetype": "text/x-python",
   "name": "python",
   "nbconvert_exporter": "python",
   "pygments_lexer": "ipython3",
   "version": "3.6.5"
  }
 },
 "nbformat": 4,
 "nbformat_minor": 2
}
