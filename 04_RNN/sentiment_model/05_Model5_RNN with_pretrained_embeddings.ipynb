{
 "cells": [
  {
   "cell_type": "markdown",
   "metadata": {},
   "source": [
    "# Model with pretrained embeddings\n",
    "    - Glove embeddings. Vectors of 300 dim.\n",
    "    - Model: Basic LSTM.\n"
   ]
  },
  {
   "cell_type": "code",
   "execution_count": 1,
   "metadata": {},
   "outputs": [
    {
     "name": "stderr",
     "output_type": "stream",
     "text": [
      "/Users/jorge/anaconda3/envs/tm/lib/python3.6/site-packages/h5py/__init__.py:36: FutureWarning: Conversion of the second argument of issubdtype from `float` to `np.floating` is deprecated. In future, it will be treated as `np.float64 == np.dtype(float).type`.\n",
      "  from ._conv import register_converters as _register_converters\n"
     ]
    },
    {
     "name": "stdout",
     "output_type": "stream",
     "text": [
      "Tensorflow version:  1.7.0\n"
     ]
    }
   ],
   "source": [
    "# Header\n",
    "from __future__ import print_function\n",
    "\n",
    "import numpy as np\n",
    "import tensorflow as tf\n",
    "print('Tensorflow version: ', tf.__version__)\n",
    "import time\n",
    "\n",
    "#Show images\n",
    "import matplotlib.pyplot as plt\n",
    "%matplotlib inline\n",
    "# plt configuration\n",
    "plt.rcParams['figure.figsize'] = (10, 10) \n",
    "plt.rcParams['image.interpolation'] = 'nearest'\n",
    "\n"
   ]
  },
  {
   "cell_type": "markdown",
   "metadata": {},
   "source": [
    "## Preprocess data"
   ]
  },
  {
   "cell_type": "code",
   "execution_count": 2,
   "metadata": {},
   "outputs": [
    {
     "name": "stdout",
     "output_type": "stream",
     "text": [
      "(25000, 200) (25000,)\n",
      "(25000, 200) (25000,)\n"
     ]
    }
   ],
   "source": [
    "# Import train and test data\n",
    "\n",
    "data_path = '../../data/aclImdb/'\n",
    "\n",
    "X_train = np.load(data_path + 'X_train.npy')\n",
    "y_train = np.load(data_path + 'y_train.npy')\n",
    "X_test  = np.load(data_path + 'X_test.npy')\n",
    "y_test  = np.load(data_path + 'y_test.npy')\n",
    "\n",
    "print(X_train.shape, y_train.shape)\n",
    "print(X_test.shape,  y_test.shape)"
   ]
  },
  {
   "cell_type": "markdown",
   "metadata": {},
   "source": [
    "## Load embeddings and join with the current dictionary"
   ]
  },
  {
   "cell_type": "code",
   "execution_count": 3,
   "metadata": {},
   "outputs": [
    {
     "name": "stdout",
     "output_type": "stream",
     "text": [
      "Merged words:  45941\n",
      "Dictionary length:  45941\n"
     ]
    }
   ],
   "source": [
    "#Load embeddings\n",
    "import pandas as pd\n",
    "import csv\n",
    "import pickle\n",
    "\n",
    "# Load worddict\n",
    "with open(data_path + 'worddict.pickle', 'rb') as pfile:\n",
    "    worddict = pickle.load(pfile)\n",
    "\n",
    "embed_dim = 100\n",
    "df_glove = pd.read_csv(\"../../data/glove.6B.\"+str(embed_dim)+\"d.txt\", index_col=0 ,sep=' ',\n",
    "                   header = None, quoting=csv.QUOTE_NONE, encoding='utf-8')\n",
    "\n",
    "#Merge with the dictionary of the current texts: Inner join, only words in the corpus and in glove.\n",
    "df_glove = df_glove.merge(pd.DataFrame.from_dict(worddict, orient='index'), left_index=True, right_index=True)\n",
    "print('Merged words: ', df_glove.shape[0])\n",
    "\n",
    "#Create dictionary: word_number_id --> [glove vector associated]\n",
    "glove={}\n",
    "for i,r in df_glove[:].iterrows():\n",
    "    glove[int(r[0])] = [r[j] for j in range(1,embed_dim+1)]\n",
    "print('Dictionary length: ', len(glove))"
   ]
  },
  {
   "cell_type": "markdown",
   "metadata": {},
   "source": [
    "## Prepare sequences to model\n"
   ]
  },
  {
   "cell_type": "code",
   "execution_count": 4,
   "metadata": {},
   "outputs": [
    {
     "name": "stdout",
     "output_type": "stream",
     "text": [
      "Train shape: (25000, 100, 100)\n",
      "Test shape: (25000, 100, 100)\n"
     ]
    }
   ],
   "source": [
    "#Create embeddings 3D tensors\n",
    "max_len = 100\n",
    "\n",
    "def embedd(x):\n",
    "    r = np.zeros((max_len, embed_dim))\n",
    "    pos = max_len-1\n",
    "    for i in range(len(x),0,-1):\n",
    "        found = True\n",
    "        try:\n",
    "            v = np.array([glove[x[i-1]]])\n",
    "        except:\n",
    "            found = False\n",
    "        if found and pos>=0:\n",
    "            r[pos,:] = v \n",
    "            pos += -1\n",
    "    return r\n",
    "        \n",
    "X_train = np.array([embedd(s) for s in X_train], dtype=np.float32)\n",
    "print('Train shape:', X_train.shape)\n",
    "\n",
    "X_test = np.array([embedd(s) for s in X_test], dtype=np.float32)\n",
    "print('Test shape:', X_test.shape)"
   ]
  },
  {
   "cell_type": "raw",
   "metadata": {},
   "source": [
    "# Save data in HDF5 to use with a batch generator\n",
    "import h5py\n",
    "with h5py.File(data_path + 'sentiment_glove_data.h5') as hdf5_f:\n",
    "    hdf5_f.create_dataset('X_train', data=np.array(X_train))\n",
    "    hdf5_f.create_dataset('y_train', data=np.array(y_train))\n",
    "    hdf5_f.create_dataset('X_test' , data=np.array(X_test ))\n",
    "    hdf5_f.create_dataset('y_test' , data=np.array(y_test ))\n"
   ]
  },
  {
   "cell_type": "markdown",
   "metadata": {},
   "source": [
    "## Build model"
   ]
  },
  {
   "cell_type": "code",
   "execution_count": 5,
   "metadata": {},
   "outputs": [
    {
     "name": "stdout",
     "output_type": "stream",
     "text": [
      "WARNING:tensorflow:From /Users/jorge/anaconda3/envs/tm/lib/python3.6/site-packages/tensorflow/contrib/learn/python/learn/datasets/base.py:198: retry (from tensorflow.contrib.learn.python.learn.datasets.base) is deprecated and will be removed in a future version.\n",
      "Instructions for updating:\n",
      "Use the retry module or similar alternatives.\n",
      "Build model 1 - Basic model...\n",
      "_________________________________________________________________\n",
      "Layer (type)                 Output Shape              Param #   \n",
      "=================================================================\n",
      "input_1 (InputLayer)         (None, 100, 100)          0         \n",
      "_________________________________________________________________\n",
      "Forward1 (LSTM)              (None, 100, 128)          117248    \n",
      "_________________________________________________________________\n",
      "Forward2 (LSTM)              (None, 128)               131584    \n",
      "_________________________________________________________________\n",
      "dense_1 (Dense)              (None, 2)                 258       \n",
      "=================================================================\n",
      "Total params: 249,090\n",
      "Trainable params: 249,090\n",
      "Non-trainable params: 0\n",
      "_________________________________________________________________\n"
     ]
    }
   ],
   "source": [
    "# Model\n",
    "num_hidden_rnn = 128 #Num of neurons in the Recurent network \n",
    "\n",
    "from tensorflow.contrib.keras import layers, models, optimizers\n",
    "\n",
    "print('Build model 1 - Basic model...')\n",
    "\n",
    "# LAYER 1: inputs\n",
    "seq_prev_input = tf.keras.layers.Input(shape=(max_len, embed_dim), dtype='float32',) \n",
    "\n",
    "# LAYER 2: Create embedings\n",
    "#embeds = tf.keras.layers.Embedding(max_features, dim_embedings, input_length=max_len)(seq_prev_input)\n",
    "\n",
    "# LAYERS 3: RNN - forwards LSTM with dropout\n",
    "forward = tf.keras.layers.LSTM(num_hidden_rnn, return_sequences=True,\n",
    "                 dropout=0.3, recurrent_dropout=0.3, name='Forward1')(seq_prev_input)\n",
    "rnn_out = tf.keras.layers.LSTM(num_hidden_rnn, return_sequences=False,\n",
    "                 dropout=0.3, recurrent_dropout=0.3, name='Forward2')(forward)\n",
    "\n",
    "\n",
    "# LAYER 4: Dense layer to outputs - softmax activation\n",
    "output = tf.keras.layers.Dense(2, activation='softmax')(rnn_out)\n",
    "\n",
    "# Model Architecture defined\n",
    "model_1 = tf.keras.models.Model(inputs=seq_prev_input, outputs=output)\n",
    "model_1.summary()\n",
    "\n",
    "# Compile model and select optimizer\n",
    "model_1.compile(loss='sparse_categorical_crossentropy', optimizer='Adam', metrics=['accuracy'])\n"
   ]
  },
  {
   "cell_type": "code",
   "execution_count": 6,
   "metadata": {},
   "outputs": [
    {
     "name": "stdout",
     "output_type": "stream",
     "text": [
      "Train...\n",
      "Train on 25000 samples, validate on 25000 samples\n",
      "Epoch 1/20\n",
      "25000/25000 [==============================] - 121s 5ms/step - loss: 0.6538 - acc: 0.6091 - val_loss: 0.5627 - val_acc: 0.7132\n",
      "Epoch 2/20\n",
      "25000/25000 [==============================] - 111s 4ms/step - loss: 0.5471 - acc: 0.7274 - val_loss: 0.4674 - val_acc: 0.7815\n",
      "Epoch 3/20\n",
      "25000/25000 [==============================] - 122s 5ms/step - loss: 0.4925 - acc: 0.7660 - val_loss: 0.4544 - val_acc: 0.7833\n",
      "Epoch 4/20\n",
      "25000/25000 [==============================] - 119s 5ms/step - loss: 0.4733 - acc: 0.7753 - val_loss: 0.4296 - val_acc: 0.7965\n",
      "Epoch 5/20\n",
      "25000/25000 [==============================] - 112s 4ms/step - loss: 0.4538 - acc: 0.7884 - val_loss: 0.4069 - val_acc: 0.8128\n",
      "Epoch 6/20\n",
      "25000/25000 [==============================] - 111s 4ms/step - loss: 0.4411 - acc: 0.7938 - val_loss: 0.3978 - val_acc: 0.8167\n",
      "Epoch 7/20\n",
      "25000/25000 [==============================] - 108s 4ms/step - loss: 0.4224 - acc: 0.8033 - val_loss: 0.3935 - val_acc: 0.8180\n",
      "Epoch 8/20\n",
      "25000/25000 [==============================] - 109s 4ms/step - loss: 0.4169 - acc: 0.8025 - val_loss: 0.3787 - val_acc: 0.8279\n",
      "Epoch 9/20\n",
      "25000/25000 [==============================] - 107s 4ms/step - loss: 0.4053 - acc: 0.8130 - val_loss: 0.3882 - val_acc: 0.8214\n",
      "Epoch 10/20\n",
      "25000/25000 [==============================] - 108s 4ms/step - loss: 0.3954 - acc: 0.8183 - val_loss: 0.3677 - val_acc: 0.8337\n",
      "Epoch 11/20\n",
      "25000/25000 [==============================] - 108s 4ms/step - loss: 0.3892 - acc: 0.8227 - val_loss: 0.3736 - val_acc: 0.8264\n",
      "Epoch 12/20\n",
      "25000/25000 [==============================] - 108s 4ms/step - loss: 0.3792 - acc: 0.8282 - val_loss: 0.3582 - val_acc: 0.8405\n",
      "Epoch 13/20\n",
      "25000/25000 [==============================] - 107s 4ms/step - loss: 0.3692 - acc: 0.8328 - val_loss: 0.3471 - val_acc: 0.8428\n",
      "Epoch 14/20\n",
      "25000/25000 [==============================] - 109s 4ms/step - loss: 0.3663 - acc: 0.8330 - val_loss: 0.3480 - val_acc: 0.8441\n",
      "Epoch 15/20\n",
      "25000/25000 [==============================] - 107s 4ms/step - loss: 0.3581 - acc: 0.8378 - val_loss: 0.3440 - val_acc: 0.8447\n",
      "Epoch 16/20\n",
      "25000/25000 [==============================] - 107s 4ms/step - loss: 0.3529 - acc: 0.8410 - val_loss: 0.3483 - val_acc: 0.8426\n",
      "Epoch 17/20\n",
      "25000/25000 [==============================] - 107s 4ms/step - loss: 0.3438 - acc: 0.8459 - val_loss: 0.3501 - val_acc: 0.8418\n",
      "Epoch 18/20\n",
      "25000/25000 [==============================] - 108s 4ms/step - loss: 0.3459 - acc: 0.8448 - val_loss: 0.3386 - val_acc: 0.8500\n",
      "Epoch 19/20\n",
      "25000/25000 [==============================] - 107s 4ms/step - loss: 0.3338 - acc: 0.8524 - val_loss: 0.3390 - val_acc: 0.8482\n",
      "Epoch 20/20\n",
      "25000/25000 [==============================] - 107s 4ms/step - loss: 0.3271 - acc: 0.8536 - val_loss: 0.3454 - val_acc: 0.8486\n"
     ]
    }
   ],
   "source": [
    "# Train\n",
    "batch_size = 128\n",
    "\n",
    "print(\"Train...\")\n",
    "tbCallBack = tf.keras.callbacks.TensorBoard(log_dir='../../data/tensorboard/PretrainedEmbeds')\n",
    "history = model_1.fit(X_train, y_train, batch_size=batch_size, epochs=20,\n",
    "                      validation_data=(X_test, y_test), callbacks=[tbCallBack])"
   ]
  },
  {
   "cell_type": "code",
   "execution_count": 7,
   "metadata": {},
   "outputs": [
    {
     "data": {
      "image/png": "[encoded data removed]",
      "text/plain": [
       "<Figure size 432x288 with 1 Axes>"
      ]
     },
     "metadata": {},
     "output_type": "display_data"
    }
   ],
   "source": [
    "#Plot graphs in the notebook output\n",
    "import matplotlib.pyplot as plt\n",
    "%matplotlib inline\n",
    "\n",
    "plt.plot(history.history['acc'])\n",
    "plt.plot(history.history['val_acc'])\n",
    "plt.show()"
   ]
  },
  {
   "cell_type": "markdown",
   "metadata": {},
   "source": [
    "## Validate it"
   ]
  },
  {
   "cell_type": "code",
   "execution_count": 8,
   "metadata": {},
   "outputs": [
    {
     "name": "stdout",
     "output_type": "stream",
     "text": [
      "(25000, 2)\n"
     ]
    }
   ],
   "source": [
    "# Score and obtain probabilities\n",
    "pred_test = model_1.predict(X_test)\n",
    "print(pred_test.shape)"
   ]
  },
  {
   "cell_type": "code",
   "execution_count": 9,
   "metadata": {},
   "outputs": [
    {
     "name": "stdout",
     "output_type": "stream",
     "text": [
      "Accuracy:  0.84864\n",
      "AUC:  0.9314401408000001\n"
     ]
    },
    {
     "data": {
      "text/plain": [
       "[<matplotlib.lines.Line2D at 0x12ab8c828>]"
      ]
     },
     "execution_count": 9,
     "metadata": {},
     "output_type": "execute_result"
    },
    {
     "data": {
      "image/png": "[encoded data removed]",
      "text/plain": [
       "<Figure size 432x288 with 1 Axes>"
      ]
     },
     "metadata": {},
     "output_type": "display_data"
    }
   ],
   "source": [
    "#Import metrics\n",
    "from sklearn.metrics import roc_curve, auc, accuracy_score\n",
    "\n",
    "#Calculate accuracy with sklearn\n",
    "print('Accuracy: ',accuracy_score(y_test, [1 if p>0.5 else 0 for p in pred_test[:,1]]))\n",
    "\n",
    "#Calculate ROC curve\n",
    "fpr, tpr, _ = roc_curve(y_test, pred_test[:,1])\n",
    "print('AUC: ', auc(fpr, tpr) ) \n",
    "\n",
    "#Plot ROC curve\n",
    "plt.plot(fpr, tpr)"
   ]
  },
  {
   "cell_type": "code",
   "execution_count": null,
   "metadata": {
    "collapsed": true
   },
   "outputs": [],
   "source": []
  },
  {
   "cell_type": "code",
   "execution_count": null,
   "metadata": {},
   "outputs": [],
   "source": []
  }
 ],
 "metadata": {
  "anaconda-cloud": {},
  "kernelspec": {
   "display_name": "Python [conda env:tm]",
   "language": "python",
   "name": "conda-env-tm-py"
  },
  "language_info": {
   "codemirror_mode": {
    "name": "ipython",
    "version": 3
   },
   "file_extension": ".py",
   "mimetype": "text/x-python",
   "name": "python",
   "nbconvert_exporter": "python",
   "pygments_lexer": "ipython3",
   "version": "3.6.5"
  }
 },
 "nbformat": 4,
 "nbformat_minor": 2
}
