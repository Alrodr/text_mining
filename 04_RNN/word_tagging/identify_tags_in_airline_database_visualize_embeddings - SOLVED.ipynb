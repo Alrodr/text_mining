{
 "cells": [
  {
   "cell_type": "markdown",
   "metadata": {},
   "source": [
    "# Word tagging\n",
    "\n",
    "Annotate relevant tags in texts. Example: name entities.\n",
    "\n"
   ]
  },
  {
   "cell_type": "code",
   "execution_count": 1,
   "metadata": {},
   "outputs": [
    {
     "name": "stderr",
     "output_type": "stream",
     "text": [
      "/Users/jorge/anaconda3/envs/tm/lib/python3.6/site-packages/h5py/__init__.py:36: FutureWarning: Conversion of the second argument of issubdtype from `float` to `np.floating` is deprecated. In future, it will be treated as `np.float64 == np.dtype(float).type`.\n",
      "  from ._conv import register_converters as _register_converters\n"
     ]
    },
    {
     "name": "stdout",
     "output_type": "stream",
     "text": [
      "1.7.0\n"
     ]
    }
   ],
   "source": [
    "from __future__ import print_function\n",
    "\n",
    "import os \n",
    "import sys\n",
    "\n",
    "import numpy as np\n",
    "import tensorflow as tf \n",
    "\n",
    "print(tf.__version__)\n",
    "\n"
   ]
  },
  {
   "cell_type": "markdown",
   "metadata": {},
   "source": [
    "## Dataset transformation"
   ]
  },
  {
   "cell_type": "code",
   "execution_count": 2,
   "metadata": {},
   "outputs": [
    {
     "name": "stdout",
     "output_type": "stream",
     "text": [
      "ID_PAD:  572\n",
      "X trn shape:  (56590, 10)\n",
      "X_tst shape:  (9198, 10)\n",
      "y_trn shape:  (56590,)\n",
      "y_tst shape:  (9198,)\n",
      "Num labels:  121\n",
      "Num words:  572\n"
     ]
    }
   ],
   "source": [
    "# Read data\n",
    "import pickle\n",
    "import sys\n",
    "\n",
    "atis_file = '../../data/atis/atis.pkl'\n",
    "\n",
    "with open(atis_file,'rb') as f:\n",
    "    if sys.version_info.major==2:\n",
    "        train, test, dicts = pickle.load(f) #python2.7\n",
    "    else:\n",
    "        train, test, dicts = pickle.load(f, encoding='bytes') #python3\n",
    "\n",
    "#Dictionaries and train test partition\n",
    "w2idx, ne2idx, labels2idx = dicts[b'words2idx'], dicts[b'tables2idx'], dicts[b'labels2idx']\n",
    "    \n",
    "idx2w  = dict((v,k) for k,v in w2idx.items())\n",
    "idx2la = dict((v,k) for k,v in labels2idx.items())\n",
    "\n",
    "train_x, _, train_label = train\n",
    "test_x,  _,  test_label  = test\n",
    "\n",
    "\n",
    "# Max value of word coding to assign the ID_PAD\n",
    "ID_PAD = np.max([np.max(tx) for tx in train_x]) + 1\n",
    "print('ID_PAD: ', ID_PAD)\n",
    "\n",
    "def context(l, size=3):\n",
    "    l = list(l)\n",
    "    lpadded = size // 2 * [ID_PAD] + l + size // 2 * [ID_PAD]\n",
    "    out = [lpadded[i:(i + size)] for i in range(len(l))]\n",
    "    return out\n",
    "\n",
    "\n",
    "# Create train and test X y.\n",
    "X_trn=[]\n",
    "for s in train_x:\n",
    "    X_trn += context(s,size=10)\n",
    "X_trn = np.array(X_trn)\n",
    "\n",
    "X_tst=[]\n",
    "for s in test_x:\n",
    "    X_tst += context(s,size=10)\n",
    "X_tst = np.array(X_tst)\n",
    "print('X trn shape: ', X_trn.shape)\n",
    "print('X_tst shape: ',X_tst.shape)\n",
    "\n",
    "y_trn=[]\n",
    "for s in train_label:\n",
    "    y_trn += list(s)\n",
    "y_trn = np.array(y_trn)\n",
    "print('y_trn shape: ',y_trn.shape)\n",
    "\n",
    "y_tst=[]\n",
    "for s in test_label:\n",
    "    y_tst += list(s)\n",
    "y_tst = np.array(y_tst)\n",
    "print('y_tst shape: ',y_tst.shape)\n",
    "\n",
    "print('Num labels: ',len(set(y_trn)))\n",
    "print('Num words: ',len(set(idx2w)))"
   ]
  },
  {
   "cell_type": "markdown",
   "metadata": {},
   "source": [
    "# Simpe LSTM model\n",
    "\n",
    "## Architecture\n",
    "    - tf.nn.embedding_lookup\n",
    "    - tf.nn.dynamic_rnn layer\n",
    "    - Dense layer: tf.nn.relu(tf.matmul(x, W) + b)\n",
    "    \n",
    "## Features\n",
    "    - Dropout\n",
    "    - Saver\n",
    "    - Cross entropy with loss regularization\n",
    "    - Score function"
   ]
  },
  {
   "cell_type": "code",
   "execution_count": 3,
   "metadata": {},
   "outputs": [],
   "source": [
    "#General parameters\n",
    "LOG_DIR = '../../data/tensorboard/airline/embeddings_visualize'\n",
    "\n",
    "# data attributes\n",
    "input_seq_length = X_trn.shape[1]\n",
    "input_vocabulary_size = len(set(idx2w)) + 1\n",
    "output_length = 127\n",
    "\n",
    "#Model parameters\n",
    "embedding_size=64\n",
    "num_hidden_lstm = 128\n"
   ]
  },
  {
   "cell_type": "code",
   "execution_count": 4,
   "metadata": {},
   "outputs": [],
   "source": [
    "# Save words and labels for embedding visualization\n",
    "if not os.path.exists(os.path.join(LOG_DIR, 'train')):\n",
    "    os.makedirs(os.path.join(LOG_DIR, 'train'))\n",
    "    \n",
    "with open(os.path.join(LOG_DIR, 'train', 'records.tsv'), \"w\") as record_file:\n",
    "    for item in idx2w.items():\n",
    "        if sys.version_info.major==2:\n",
    "            record_file.write(item[1].encode('utf-8')+'\\n') #python2.7\n",
    "        else:\n",
    "            record_file.write(item[1].decode('ascii')+'\\n') #python3\n",
    "    record_file.write('z\\n')\n",
    "\n",
    "records_path = os.path.abspath(os.path.join(LOG_DIR, 'train', 'records.tsv'))"
   ]
  },
  {
   "cell_type": "code",
   "execution_count": null,
   "metadata": {},
   "outputs": [],
   "source": []
  },
  {
   "cell_type": "code",
   "execution_count": 5,
   "metadata": {},
   "outputs": [
    {
     "name": "stdout",
     "output_type": "stream",
     "text": [
      "WARNING:tensorflow:From /Users/jorge/anaconda3/envs/tm/lib/python3.6/site-packages/tensorflow/contrib/learn/python/learn/datasets/base.py:198: retry (from tensorflow.contrib.learn.python.learn.datasets.base) is deprecated and will be removed in a future version.\n",
      "Instructions for updating:\n",
      "Use the retry module or similar alternatives.\n",
      "embedding_layer:  Tensor(\"Embeddings/embedding_lookup:0\", shape=(?, 10, 64), dtype=float32)\n",
      "lstm_outputs:  Tensor(\"RNN/rnn/transpose_1:0\", shape=(?, 10, 128), dtype=float32)\n",
      "dense_output:  Tensor(\"Dense/Relu:0\", shape=(?, 127), dtype=float32)\n",
      "INFO:tensorflow:Summary name cross entropy is illegal; using cross_entropy instead.\n"
     ]
    }
   ],
   "source": [
    "from tensorflow.contrib.tensorboard.plugins import projector\n",
    "\n",
    "# Define the tensorflow graph\n",
    "\n",
    "graph = tf.Graph()\n",
    "\n",
    "with graph.as_default():\n",
    "    # graph definition\n",
    "    # Inputs\n",
    "    with tf.name_scope('Inputs') as scope:\n",
    "        x = tf.placeholder(tf.int32, shape=[None, input_seq_length], name='x')\n",
    "        y = tf.placeholder(tf.int64, shape=[None], name='y')\n",
    "        keep_prob = tf.placeholder(tf.float32, name='keep_prob')\n",
    "\n",
    "    with tf.name_scope('Embeddings') as scope:\n",
    "        W_embedding = tf.Variable(tf.random_uniform([input_vocabulary_size, embedding_size], -1.0, 1.0) ,name=\"W_vis\")\n",
    "        embedding_layer = tf.nn.embedding_lookup(W_embedding, x)\n",
    "        print('embedding_layer: ', embedding_layer)\n",
    "\n",
    "    \n",
    "    with tf.name_scope('RNN') as scope:\n",
    "        cell_1 = tf.contrib.rnn.LSTMCell(num_hidden_lstm, initializer=tf.random_uniform_initializer(-0.1, 0.1, seed=123))\n",
    "        cell_1 = tf.contrib.rnn.DropoutWrapper(cell_1, output_keep_prob=keep_prob)\n",
    "        lstm_outputs, lstm_state = tf.nn.dynamic_rnn(cell_1, embedding_layer, dtype=tf.float32)\n",
    "        print('lstm_outputs: ', lstm_outputs)\n",
    " \n",
    "\n",
    "    #Dense layer form RNN outs to prediction\n",
    "    with tf.name_scope('Dense') as scope:\n",
    "        W_dense = tf.Variable(tf.truncated_normal([num_hidden_lstm, output_length], stddev=0.1), name='W_dense')\n",
    "        b_dense = tf.Variable(tf.constant(0.1, shape=[output_length]), name='b_dense')\n",
    "        dense_output = tf.nn.relu(tf.matmul(lstm_outputs[:,-1,:], W_dense) + b_dense)\n",
    "        print('dense_output: ', dense_output)\n",
    "\n",
    "        \n",
    "\n",
    "    # Loss function\n",
    "    with tf.name_scope(\"xent\") as scope:\n",
    "        cross_entropy = tf.nn.sparse_softmax_cross_entropy_with_logits(logits=dense_output,\n",
    "                                                                       labels=y, name='cross_entropy')\n",
    "        ce_summ = tf.summary.histogram(\"cross entropy\", cross_entropy) #TENSORBOARD\n",
    "\n",
    "\n",
    "    #Optimizer\n",
    "    with tf.name_scope(\"train\") as scope:\n",
    "        learning_rate = tf.placeholder(tf.float32, name='learning_rate')\n",
    "        optimizer = tf.train.AdamOptimizer(learning_rate)\n",
    "        train_op = optimizer.minimize(cross_entropy, name='train_op')\n",
    "\n",
    "\n",
    "    #Accuracy\n",
    "    with tf.name_scope(\"test\") as scope:\n",
    "        #Prediction\n",
    "        y_pred = tf.nn.softmax(dense_output, name='y_pred')\n",
    "        #Accuracy\n",
    "        correct_prediction = tf.equal(tf.argmax(dense_output,1), y)\n",
    "        accuracy = tf.reduce_mean(tf.cast(correct_prediction, tf.float32), name='accuracy')\n",
    "        accuracy_summary = tf.summary.scalar(\"accuracy\", accuracy) #TENSORBOARD\n",
    "\n",
    "        \n",
    "    # Create a saver to save weigths.\n",
    "    saver = tf.train.Saver()\n",
    "\n",
    "    \n",
    "    # Merge all the summaries and write them out to /tmp/mnist_logs\n",
    "    # Merge all the summaries\n",
    "    with tf.name_scope('summaries') as scope:\n",
    "        merged = tf.summary.merge_all()\n"
   ]
  },
  {
   "cell_type": "code",
   "execution_count": 6,
   "metadata": {},
   "outputs": [
    {
     "name": "stdout",
     "output_type": "stream",
     "text": [
      "(array([[554, 241, 481, 165, 193, 197, 208, 379, 502,  64],\n",
      "       [193, 514, 208,  77, 502, 137, 359, 544,  40, 481],\n",
      "       [232, 331, 237, 358,  13, 193, 208,  77, 502, 137],\n",
      "       [ 32, 194,  40, 183, 208, 137, 502, 415, 205, 572],\n",
      "       [232, 331,  13, 277, 353, 194, 208, 452, 375, 195],\n",
      "       [572, 193, 348, 208, 313, 502, 282,  71, 358, 249],\n",
      "       [193, 208, 128, 502, 415, 205, 572, 572, 572, 572],\n",
      "       [358, 481, 174, 353,  65, 524, 435, 572, 572, 572],\n",
      "       [208, 481,  29, 234, 379, 502, 159, 572, 572, 572],\n",
      "       [572, 572, 572, 439, 301, 481, 194, 208, 415, 205],\n",
      "       [481, 265, 193, 208,  64, 502, 137, 358, 248, 435],\n",
      "       [157,  37,  26, 221, 561,  13, 105, 353, 430, 111],\n",
      "       [534, 358, 481, 190, 105,  37,  26, 193, 208, 376],\n",
      "       [572, 572, 572, 383, 276, 530, 194,  73,  77,  40],\n",
      "       [572, 572, 572, 572, 554, 194,  50, 389,  86,  37],\n",
      "       [481, 193, 501, 481, 321, 358, 530,  26, 200, 426],\n",
      "       [572, 572, 572, 572,  13, 190, 105, 193, 358,  37],\n",
      "       [502, 268, 448, 234, 481, 321, 572, 572, 572, 572],\n",
      "       [ 50, 481, 183, 208, 128, 502, 415, 205, 358, 193],\n",
      "       [572, 572, 572, 572, 572, 383, 212, 217, 512,  62]]), array([126,  78, 126,  48, 126, 126, 123,  27, 126, 126, 126, 126,   2,\n",
      "         2, 126, 126,  18,  33, 126, 126], dtype=int32))\n"
     ]
    }
   ],
   "source": [
    "#batch generator\n",
    "def batch_generator(x=X_trn, y=y_trn, batch_size=128):\n",
    "    from sklearn.utils import shuffle\n",
    "    x_shuffle, y_shuffle = shuffle(x, y, random_state=0)\n",
    "    for i in range(0, x.shape[0]-batch_size, batch_size):\n",
    "        x_batch = x_shuffle[i:i+batch_size,:]\n",
    "        y_batch = y_shuffle[i:i+batch_size]\n",
    "        yield x_batch, y_batch\n",
    "    \n",
    "seq = batch_generator(x=X_trn, y=y_trn, batch_size=20)\n",
    "print(next(seq))"
   ]
  },
  {
   "cell_type": "code",
   "execution_count": 7,
   "metadata": {},
   "outputs": [
    {
     "name": "stdout",
     "output_type": "stream",
     "text": [
      "Initializing\n",
      "Epoch - Loss(trn) -  Acc(trn)   -   Loss(tst) -   Acc(tst)\n",
      "0   -   1.8736353   -   0.6301258   -   1.4640127   -   0.66272324\n",
      "1   -   1.1327195   -   0.7434071   -   0.98812604   -   0.77845985\n",
      "2   -   0.7392341   -   0.83791715   -   0.67924255   -   0.86473215\n",
      "3   -   0.51914227   -   0.8889282   -   0.51637167   -   0.90122765\n",
      "4   -   0.3900575   -   0.92125636   -   0.43332055   -   0.9175223\n",
      "5   -   0.31177056   -   0.9367223   -   0.36246315   -   0.92756695\n",
      "6   -   0.25744435   -   0.9494132   -   0.3100823   -   0.94140625\n",
      "7   -   0.2215897   -   0.95736706   -   0.28388372   -   0.94486606\n",
      "8   -   0.19291957   -   0.9641014   -   0.2757721   -   0.9483259\n",
      "9   -   0.17172964   -   0.96804297   -   0.26503608   -   0.9513393\n",
      "10   -   0.156705   -   0.9715074   -   0.24986465   -   0.95390624\n",
      "11   -   0.14587137   -   0.97410566   -   0.24739489   -   0.95524555\n",
      "12   -   0.13360824   -   0.9757848   -   0.24257243   -   0.9574777\n",
      "13   -   0.1281536   -   0.9767039   -   0.24229467   -   0.95714283\n",
      "14   -   0.1207182   -   0.9785598   -   0.24465242   -   0.95814735\n",
      "15   -   0.115941316   -   0.978984   -   0.2357455   -   0.9594866\n",
      "16   -   0.11141064   -   0.97937286   -   0.23080929   -   0.9608259\n",
      "17   -   0.10347678   -   0.9814232   -   0.24120764   -   0.96026784\n",
      "18   -   0.09838853   -   0.98174137   -   0.25252542   -   0.95591515\n",
      "19   -   0.09896143   -   0.9816883   -   0.23494266   -   0.9621652\n",
      "Time to train: 178.84828996658325\n"
     ]
    }
   ],
   "source": [
    "# Execute the graph to train a network\n",
    "import time\n",
    "\n",
    "batch_size = 256\n",
    "nEpochs = 20\n",
    "\n",
    "start = time.time()\n",
    "\n",
    "gpu_options = tf.GPUOptions(allow_growth = True)\n",
    "with tf.Session(graph=graph, config=tf.ConfigProto(gpu_options=gpu_options)) as session:\n",
    "\n",
    "    #Create sumaries writers\n",
    "    train_writer = tf.summary.FileWriter(os.path.join(LOG_DIR, 'train'), session.graph, flush_secs=2)\n",
    "    test_writer  = tf.summary.FileWriter(os.path.join(LOG_DIR, 'test'), flush_secs=2)\n",
    "\n",
    "    \n",
    "    # Define the embeddings in tensorboard\n",
    "    config = projector.ProjectorConfig()\n",
    "    # Create the embedding tensorboard container\n",
    "    embedding = config.embeddings.add()\n",
    "    # Link to the embeddings tensor\n",
    "    embedding.tensor_name = W_embedding.name\n",
    "    # Link this tensor to its metadata file (e.g. labels).\n",
    "    embedding.metadata_path = records_path\n",
    "    # Saves a configuration file that TensorBoard will read during startup.\n",
    "    projector.visualize_embeddings(train_writer, config)\n",
    "\n",
    "        \n",
    "    print('Initializing')\n",
    "    print('Epoch - Loss(trn) -  Acc(trn)   -   Loss(tst) -   Acc(tst)')\n",
    "    session.run(tf.global_variables_initializer())\n",
    "    for epoch in range(nEpochs):\n",
    "        ce_c=[]\n",
    "        acc_c=[]\n",
    "        ce_c_tst=[]\n",
    "        acc_c_tst=[]\n",
    "        \n",
    "        batch_list = batch_generator(x=X_trn, y=y_trn, batch_size=batch_size)\n",
    "        for i, batch in enumerate(batch_list):\n",
    "            feedDict = {x: batch[0], y: batch[1], keep_prob: 0.5, learning_rate: 0.001} # dictionary of batch data to run the graph\n",
    "            _, ce, acc = session.run([train_op, cross_entropy, accuracy], feed_dict=feedDict)\n",
    "            ce_c += [ce]\n",
    "            acc_c += [acc]\n",
    "            \n",
    "        batch_list_tst = batch_generator(x=X_tst, y=y_tst, batch_size=batch_size)\n",
    "        for x_batch, y_batch in batch_list_tst:\n",
    "            feedDict = {x: x_batch, y: y_batch, keep_prob: 1} # dictionary of batch data to run the graph\n",
    "            ce_tst, acc_tst = session.run([cross_entropy, accuracy], feed_dict=feedDict)\n",
    "            ce_c_tst += [ce_tst]\n",
    "            acc_c_tst += [acc_tst]\n",
    "            \n",
    "        saver.save(session, os.path.join(LOG_DIR, 'train', 'model.ckpt'), epoch)\n",
    "        \n",
    "        print(epoch, np.mean(ce_c), np.mean(acc_c), np.mean(ce_c_tst), np.mean(acc_c_tst), sep='   -   ')\n",
    "print('Time to train:', time.time() - start)\n",
    "# 235 secs in CPU i7 Mac tf 1.2\n",
    "# 121 secs in GPU GT750 tf 1.2\n",
    "# 61  secs in GPU titan X tf 1.2\n",
    "# 180 secs in CPU i7 Mac tf 1.7"
   ]
  },
  {
   "cell_type": "code",
   "execution_count": null,
   "metadata": {
    "collapsed": true
   },
   "outputs": [],
   "source": []
  }
 ],
 "metadata": {
  "anaconda-cloud": {},
  "kernelspec": {
   "display_name": "Python [conda env:tm]",
   "language": "python",
   "name": "conda-env-tm-py"
  },
  "language_info": {
   "codemirror_mode": {
    "name": "ipython",
    "version": 3
   },
   "file_extension": ".py",
   "mimetype": "text/x-python",
   "name": "python",
   "nbconvert_exporter": "python",
   "pygments_lexer": "ipython3",
   "version": "3.6.5"
  }
 },
 "nbformat": 4,
 "nbformat_minor": 2
}
