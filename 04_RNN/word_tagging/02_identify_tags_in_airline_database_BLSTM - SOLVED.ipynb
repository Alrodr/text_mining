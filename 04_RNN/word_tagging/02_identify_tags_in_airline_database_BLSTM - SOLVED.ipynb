{
 "cells": [
  {
   "cell_type": "markdown",
   "metadata": {},
   "source": [
    "# Identify tags in airline database\n",
    "\n",
    "## Deep LSTM networks\n",
    "\n",
    "    - Bidirectional LSTM\n",
    "    - Stacked LSTM\n",
    "    - Bidirectional stacked LSTM"
   ]
  },
  {
   "cell_type": "code",
   "execution_count": 1,
   "metadata": {},
   "outputs": [
    {
     "name": "stderr",
     "output_type": "stream",
     "text": [
      "/Users/jorge/anaconda3/envs/tm/lib/python3.6/site-packages/h5py/__init__.py:36: FutureWarning: Conversion of the second argument of issubdtype from `float` to `np.floating` is deprecated. In future, it will be treated as `np.float64 == np.dtype(float).type`.\n",
      "  from ._conv import register_converters as _register_converters\n"
     ]
    },
    {
     "name": "stdout",
     "output_type": "stream",
     "text": [
      "1.7.0\n"
     ]
    }
   ],
   "source": [
    "from __future__ import print_function\n",
    "\n",
    "import sys\n",
    "import os \n",
    "import numpy as np \n",
    "import tensorflow as tf \n",
    "print(tf.__version__)\n",
    "\n",
    "#Show images\n",
    "import matplotlib.pyplot as plt\n",
    "%matplotlib inline\n",
    "# plt configuration\n",
    "plt.rcParams['figure.figsize'] = (10, 10)\n"
   ]
  },
  {
   "cell_type": "markdown",
   "metadata": {},
   "source": [
    "## Dataset transformation\n"
   ]
  },
  {
   "cell_type": "code",
   "execution_count": 2,
   "metadata": {},
   "outputs": [
    {
     "name": "stdout",
     "output_type": "stream",
     "text": [
      "ID_PAD:  572\n",
      "X trn shape:  (56590, 10)\n",
      "X_tst shape:  (9198, 10)\n",
      "y_trn shape:  (56590,)\n",
      "y_tst shape:  (9198,)\n",
      "Num labels:  121\n",
      "Num words:  572\n"
     ]
    }
   ],
   "source": [
    "# Read data\n",
    "import pickle\n",
    "\n",
    "atis_file = '../../data/atis/atis.pkl'\n",
    "\n",
    "with open(atis_file,'rb') as f:\n",
    "    if sys.version_info.major==2:\n",
    "        train, test, dicts = pickle.load(f) #python2.7\n",
    "    else:\n",
    "        train, test, dicts = pickle.load(f, encoding='bytes') #python3\n",
    "\n",
    "#Dictionaries and train test partition\n",
    "w2idx, ne2idx, labels2idx = dicts[b'words2idx'], dicts[b'tables2idx'], dicts[b'labels2idx']\n",
    "    \n",
    "idx2w  = dict((v,k) for k,v in w2idx.items())\n",
    "idx2la = dict((v,k) for k,v in labels2idx.items())\n",
    "\n",
    "train_x, _, train_label = train\n",
    "test_x,  _,  test_label  = test\n",
    "\n",
    "\n",
    "# Max value of word coding to assign the ID_PAD\n",
    "ID_PAD = np.max([np.max(tx) for tx in train_x]) + 1\n",
    "print('ID_PAD: ', ID_PAD)\n",
    "\n",
    "def context(l, size=3):\n",
    "    l = list(l)\n",
    "    lpadded = size // 2 * [ID_PAD] + l + size // 2 * [ID_PAD]\n",
    "    out = [lpadded[i:(i + size)] for i in range(len(l))]\n",
    "    return out\n",
    "\n",
    "\n",
    "# Create train and test X y.\n",
    "X_trn=[]\n",
    "for s in train_x:\n",
    "    X_trn += context(s,size=10)\n",
    "X_trn = np.array(X_trn)\n",
    "\n",
    "X_tst=[]\n",
    "for s in test_x:\n",
    "    X_tst += context(s,size=10)\n",
    "X_tst = np.array(X_tst)\n",
    "\n",
    "print('X trn shape: ', X_trn.shape)\n",
    "print('X_tst shape: ',X_tst.shape)\n",
    "\n",
    "\n",
    "y_trn=[]\n",
    "for s in train_label:\n",
    "    y_trn += list(s)\n",
    "y_trn = np.array(y_trn)\n",
    "print('y_trn shape: ',y_trn.shape)\n",
    "\n",
    "y_tst=[]\n",
    "for s in test_label:\n",
    "    y_tst += list(s)\n",
    "y_tst = np.array(y_tst)\n",
    "print('y_tst shape: ',y_tst.shape)\n",
    "\n",
    "\n",
    "print('Num labels: ',len(set(y_trn)))\n",
    "print('Num words: ',len(set(idx2w)))"
   ]
  },
  {
   "cell_type": "code",
   "execution_count": 3,
   "metadata": {},
   "outputs": [],
   "source": [
    "# data attributes\n",
    "input_seq_length = X_trn.shape[1]\n",
    "input_vocabulary_size = len(set(idx2w)) + 1\n",
    "output_length = 127\n",
    "\n",
    "#Model parameters\n",
    "embedding_size=64\n",
    "num_hidden_lstm = 128\n"
   ]
  },
  {
   "cell_type": "code",
   "execution_count": 4,
   "metadata": {},
   "outputs": [
    {
     "name": "stdout",
     "output_type": "stream",
     "text": [
      "WARNING:tensorflow:From /Users/jorge/anaconda3/envs/tm/lib/python3.6/site-packages/tensorflow/contrib/learn/python/learn/datasets/base.py:198: retry (from tensorflow.contrib.learn.python.learn.datasets.base) is deprecated and will be removed in a future version.\n",
      "Instructions for updating:\n",
      "Use the retry module or similar alternatives.\n"
     ]
    }
   ],
   "source": [
    "from tensorflow.contrib.keras import layers, models, optimizers, utils, callbacks"
   ]
  },
  {
   "cell_type": "markdown",
   "metadata": {},
   "source": [
    "# Bidirectional LSTM model\n"
   ]
  },
  {
   "cell_type": "code",
   "execution_count": 5,
   "metadata": {},
   "outputs": [
    {
     "name": "stdout",
     "output_type": "stream",
     "text": [
      "Build model 1\n",
      "__________________________________________________________________________________________________\n",
      "Layer (type)                    Output Shape         Param #     Connected to                     \n",
      "==================================================================================================\n",
      "prev (InputLayer)               (None, 10)           0                                            \n",
      "__________________________________________________________________________________________________\n",
      "embedding_1 (Embedding)         (None, 10, 64)       36672       prev[0][0]                       \n",
      "__________________________________________________________________________________________________\n",
      "Forward (LSTM)                  (None, 128)          98816       embedding_1[0][0]                \n",
      "__________________________________________________________________________________________________\n",
      "Backward (LSTM)                 (None, 128)          98816       embedding_1[0][0]                \n",
      "__________________________________________________________________________________________________\n",
      "Forward_Backward (Concatenate)  (None, 256)          0           Forward[0][0]                    \n",
      "                                                                 Backward[0][0]                   \n",
      "__________________________________________________________________________________________________\n",
      "dense_1 (Dense)                 (None, 127)          32639       Forward_Backward[0][0]           \n",
      "==================================================================================================\n",
      "Total params: 266,943\n",
      "Trainable params: 266,943\n",
      "Non-trainable params: 0\n",
      "__________________________________________________________________________________________________\n",
      "Train on 56590 samples, validate on 9198 samples\n",
      "Epoch 1/20\n",
      "56590/56590 [==============================] - 16s 275us/step - loss: 1.4084 - acc: 0.6983 - val_loss: 1.0008 - val_acc: 0.7811\n",
      "Epoch 2/20\n",
      "56590/56590 [==============================] - 16s 281us/step - loss: 0.5136 - acc: 0.8775 - val_loss: 0.3896 - val_acc: 0.9114\n",
      "Epoch 3/20\n",
      "56590/56590 [==============================] - 16s 291us/step - loss: 0.2031 - acc: 0.9517 - val_loss: 0.2444 - val_acc: 0.9477\n",
      "Epoch 4/20\n",
      "56590/56590 [==============================] - 17s 294us/step - loss: 0.1239 - acc: 0.9706 - val_loss: 0.2047 - val_acc: 0.9576\n",
      "Epoch 5/20\n",
      "56590/56590 [==============================] - 17s 296us/step - loss: 0.0850 - acc: 0.9797 - val_loss: 0.1694 - val_acc: 0.9649\n",
      "Epoch 6/20\n",
      "56590/56590 [==============================] - 17s 299us/step - loss: 0.0701 - acc: 0.9825 - val_loss: 0.1826 - val_acc: 0.9652\n",
      "Epoch 7/20\n",
      "56590/56590 [==============================] - 17s 305us/step - loss: 0.0563 - acc: 0.9858 - val_loss: 0.1548 - val_acc: 0.9701\n",
      "Epoch 8/20\n",
      "56590/56590 [==============================] - 16s 291us/step - loss: 0.0491 - acc: 0.9870 - val_loss: 0.1623 - val_acc: 0.9694\n",
      "Epoch 9/20\n",
      "56590/56590 [==============================] - 18s 314us/step - loss: 0.0435 - acc: 0.9880 - val_loss: 0.1473 - val_acc: 0.9731\n",
      "Epoch 10/20\n",
      "56590/56590 [==============================] - 17s 308us/step - loss: 0.0353 - acc: 0.9904 - val_loss: 0.1477 - val_acc: 0.9727\n",
      "Epoch 11/20\n",
      "56590/56590 [==============================] - 18s 315us/step - loss: 0.0334 - acc: 0.9907 - val_loss: 0.1727 - val_acc: 0.9699\n",
      "Epoch 12/20\n",
      "56590/56590 [==============================] - 16s 286us/step - loss: 0.0295 - acc: 0.9914 - val_loss: 0.1479 - val_acc: 0.9729\n",
      "Epoch 13/20\n",
      "56590/56590 [==============================] - 18s 316us/step - loss: 0.0259 - acc: 0.9924 - val_loss: 0.1577 - val_acc: 0.9697\n",
      "Epoch 14/20\n",
      "56590/56590 [==============================] - 17s 292us/step - loss: 0.0232 - acc: 0.9932 - val_loss: 0.1478 - val_acc: 0.9735\n",
      "Epoch 15/20\n",
      "56590/56590 [==============================] - 16s 287us/step - loss: 0.0204 - acc: 0.9937 - val_loss: 0.1605 - val_acc: 0.9741\n",
      "Epoch 16/20\n",
      "56590/56590 [==============================] - 18s 315us/step - loss: 0.0187 - acc: 0.9943 - val_loss: 0.1737 - val_acc: 0.9733\n",
      "Epoch 17/20\n",
      "56590/56590 [==============================] - 16s 285us/step - loss: 0.0153 - acc: 0.9951 - val_loss: 0.1721 - val_acc: 0.9710\n",
      "Epoch 18/20\n",
      "56590/56590 [==============================] - 15s 269us/step - loss: 0.0137 - acc: 0.9955 - val_loss: 0.1912 - val_acc: 0.9696\n",
      "Epoch 19/20\n",
      "56590/56590 [==============================] - 15s 271us/step - loss: 0.0158 - acc: 0.9951 - val_loss: 0.1892 - val_acc: 0.9690\n",
      "Epoch 20/20\n",
      "56590/56590 [==============================] - 15s 270us/step - loss: 0.0136 - acc: 0.9959 - val_loss: 0.1628 - val_acc: 0.9745\n"
     ]
    }
   ],
   "source": [
    "# build the model: Simple LSTM with embedings\n",
    "print('Build model 1')\n",
    "seq_input = tf.keras.layers.Input(shape=([input_seq_length]), name='prev') \n",
    "    \n",
    "embeds = tf.keras.layers.Embedding(input_vocabulary_size, embedding_size)(seq_input)\n",
    "\n",
    "# Bidirectional LSTM\n",
    "forwards  = tf.keras.layers.LSTM(num_hidden_lstm, return_sequences=False, name='Forward')(embeds)\n",
    "backwards = tf.keras.layers.LSTM(num_hidden_lstm, return_sequences=False, go_backwards=True, name='Backward')(embeds)\n",
    "rnn_out = tf.keras.layers.concatenate([forwards, backwards], axis=-1, name='Forward_Backward')\n",
    "\n",
    "output = tf.keras.layers.Dense(output_length, activation='softmax')(rnn_out)\n",
    "\n",
    "model1 = tf.keras.models.Model(inputs=seq_input, outputs=output)\n",
    "model1.summary()\n",
    "\n",
    "# Optimizer\n",
    "adam_optimizer = tf.keras.optimizers.Adam()\n",
    "model1.compile(loss='sparse_categorical_crossentropy', optimizer=adam_optimizer, metrics=['accuracy'])\n",
    "\n",
    "#Fit model\n",
    "tb_callback_bilstm = tf.keras.callbacks.TensorBoard(log_dir='../../data/tensorboard/airline/BILSTM/')\n",
    "history1 = model1.fit(X_trn, y_trn, batch_size=128, epochs=20,\n",
    "                      validation_data=(X_tst, y_tst), callbacks=[tb_callback_bilstm])\n"
   ]
  },
  {
   "cell_type": "markdown",
   "metadata": {},
   "source": [
    "# Stacked LSTM model"
   ]
  },
  {
   "cell_type": "code",
   "execution_count": 6,
   "metadata": {},
   "outputs": [
    {
     "name": "stdout",
     "output_type": "stream",
     "text": [
      "Build model 1\n",
      "_________________________________________________________________\n",
      "Layer (type)                 Output Shape              Param #   \n",
      "=================================================================\n",
      "prev (InputLayer)            (None, 10)                0         \n",
      "_________________________________________________________________\n",
      "embedding_2 (Embedding)      (None, 10, 64)            36672     \n",
      "_________________________________________________________________\n",
      "Forward1 (LSTM)              (None, 10, 128)           98816     \n",
      "_________________________________________________________________\n",
      "Forward2 (LSTM)              (None, 128)               131584    \n",
      "_________________________________________________________________\n",
      "dense_2 (Dense)              (None, 127)               16383     \n",
      "=================================================================\n",
      "Total params: 283,455\n",
      "Trainable params: 283,455\n",
      "Non-trainable params: 0\n",
      "_________________________________________________________________\n",
      "Train on 56590 samples, validate on 9198 samples\n",
      "Epoch 1/20\n",
      "56590/56590 [==============================] - 20s 346us/step - loss: 1.5543 - acc: 0.6794 - val_loss: 1.1824 - val_acc: 0.7416\n",
      "Epoch 2/20\n",
      "56590/56590 [==============================] - 19s 336us/step - loss: 0.7553 - acc: 0.8230 - val_loss: 0.6569 - val_acc: 0.8484\n",
      "Epoch 3/20\n",
      "56590/56590 [==============================] - 20s 346us/step - loss: 0.4339 - acc: 0.8921 - val_loss: 0.4660 - val_acc: 0.8913\n",
      "Epoch 4/20\n",
      "56590/56590 [==============================] - 19s 338us/step - loss: 0.2957 - acc: 0.9278 - val_loss: 0.3283 - val_acc: 0.9236\n",
      "Epoch 5/20\n",
      "56590/56590 [==============================] - 19s 331us/step - loss: 0.2095 - acc: 0.9496 - val_loss: 0.2710 - val_acc: 0.9384\n",
      "Epoch 6/20\n",
      "56590/56590 [==============================] - 19s 328us/step - loss: 0.1644 - acc: 0.9598 - val_loss: 0.2497 - val_acc: 0.9449\n",
      "Epoch 7/20\n",
      "56590/56590 [==============================] - 19s 328us/step - loss: 0.1307 - acc: 0.9687 - val_loss: 0.2200 - val_acc: 0.9523\n",
      "Epoch 8/20\n",
      "56590/56590 [==============================] - 19s 328us/step - loss: 0.1042 - acc: 0.9756 - val_loss: 0.1842 - val_acc: 0.9633\n",
      "Epoch 9/20\n",
      "56590/56590 [==============================] - 19s 335us/step - loss: 0.0869 - acc: 0.9791 - val_loss: 0.1813 - val_acc: 0.9628\n",
      "Epoch 10/20\n",
      "56590/56590 [==============================] - 19s 339us/step - loss: 0.0746 - acc: 0.9823 - val_loss: 0.1772 - val_acc: 0.9655\n",
      "Epoch 11/20\n",
      "56590/56590 [==============================] - 19s 339us/step - loss: 0.0651 - acc: 0.9839 - val_loss: 0.1704 - val_acc: 0.9668\n",
      "Epoch 12/20\n",
      "56590/56590 [==============================] - 19s 330us/step - loss: 0.0570 - acc: 0.9858 - val_loss: 0.1966 - val_acc: 0.9583\n",
      "Epoch 13/20\n",
      "56590/56590 [==============================] - 20s 351us/step - loss: 0.0575 - acc: 0.9853 - val_loss: 0.1650 - val_acc: 0.9684\n",
      "Epoch 14/20\n",
      "56590/56590 [==============================] - 21s 362us/step - loss: 0.0454 - acc: 0.9882 - val_loss: 0.1718 - val_acc: 0.9675\n",
      "Epoch 15/20\n",
      "56590/56590 [==============================] - 21s 372us/step - loss: 0.0433 - acc: 0.9888 - val_loss: 0.1624 - val_acc: 0.9685\n",
      "Epoch 16/20\n",
      "56590/56590 [==============================] - 20s 348us/step - loss: 0.0384 - acc: 0.9898 - val_loss: 0.1620 - val_acc: 0.9709\n",
      "Epoch 17/20\n",
      "56590/56590 [==============================] - 20s 351us/step - loss: 0.0373 - acc: 0.9894 - val_loss: 0.1863 - val_acc: 0.9617\n",
      "Epoch 18/20\n",
      "56590/56590 [==============================] - 20s 359us/step - loss: 0.0389 - acc: 0.9895 - val_loss: 0.1587 - val_acc: 0.9704\n",
      "Epoch 19/20\n",
      "56590/56590 [==============================] - 20s 349us/step - loss: 0.0300 - acc: 0.9920 - val_loss: 0.1703 - val_acc: 0.9689\n",
      "Epoch 20/20\n",
      "56590/56590 [==============================] - 20s 355us/step - loss: 0.0271 - acc: 0.9922 - val_loss: 0.1754 - val_acc: 0.9694\n"
     ]
    }
   ],
   "source": [
    "# build the model: Simple LSTM with embedings\n",
    "print('Build model 1')\n",
    "seq_input = tf.keras.layers.Input(shape=([input_seq_length]), name='prev') \n",
    "    \n",
    "embeds = tf.keras.layers.Embedding(input_vocabulary_size, embedding_size)(seq_input)\n",
    "\n",
    "# Stacked LSTM\n",
    "forwards1 = tf.keras.layers.LSTM(num_hidden_lstm, return_sequences=True,  name='Forward1')(embeds)\n",
    "forwards2 = tf.keras.layers.LSTM(num_hidden_lstm, return_sequences=False, name='Forward2')(forwards1)\n",
    "\n",
    "output = tf.keras.layers.Dense(output_length, activation='softmax')(forwards2)\n",
    "\n",
    "model2 = tf.keras.models.Model(inputs=seq_input, outputs=output)\n",
    "model2.summary()\n",
    "\n",
    "# Optimizer\n",
    "adam_optimizer = tf.keras.optimizers.Adam()\n",
    "model2.compile(loss='sparse_categorical_crossentropy', optimizer=adam_optimizer, metrics=['accuracy'])\n",
    "\n",
    "\n",
    "#Fit model\n",
    "tb_callback_lstm2 = tf.keras.callbacks.TensorBoard(log_dir='../../data/tensorboard/airline/LSTM2/')\n",
    "history2 = model2.fit(X_trn, y_trn, batch_size=128, epochs=20,\n",
    "                      validation_data=(X_tst, y_tst), callbacks=[tb_callback_lstm2])\n"
   ]
  },
  {
   "cell_type": "markdown",
   "metadata": {},
   "source": [
    "# Bidirectional stacked LSTM model"
   ]
  },
  {
   "cell_type": "code",
   "execution_count": 7,
   "metadata": {},
   "outputs": [
    {
     "name": "stdout",
     "output_type": "stream",
     "text": [
      "Build model 1\n",
      "__________________________________________________________________________________________________\n",
      "Layer (type)                    Output Shape         Param #     Connected to                     \n",
      "==================================================================================================\n",
      "prev (InputLayer)               (None, 10)           0                                            \n",
      "__________________________________________________________________________________________________\n",
      "embedding_3 (Embedding)         (None, 10, 64)       36672       prev[0][0]                       \n",
      "__________________________________________________________________________________________________\n",
      "Forward1 (LSTM)                 (None, 10, 128)      98816       embedding_3[0][0]                \n",
      "__________________________________________________________________________________________________\n",
      "Backward1 (LSTM)                (None, 10, 128)      98816       embedding_3[0][0]                \n",
      "__________________________________________________________________________________________________\n",
      "Forward_Backward1 (Concatenate) (None, 10, 256)      0           Forward1[0][0]                   \n",
      "                                                                 Backward1[0][0]                  \n",
      "__________________________________________________________________________________________________\n",
      "Forward2 (LSTM)                 (None, 128)          197120      Forward_Backward1[0][0]          \n",
      "__________________________________________________________________________________________________\n",
      "Backward2 (LSTM)                (None, 128)          197120      Forward_Backward1[0][0]          \n",
      "__________________________________________________________________________________________________\n",
      "Forward_Backward2 (Concatenate) (None, 256)          0           Forward2[0][0]                   \n",
      "                                                                 Backward2[0][0]                  \n",
      "__________________________________________________________________________________________________\n",
      "dense_3 (Dense)                 (None, 127)          32639       Forward_Backward2[0][0]          \n",
      "==================================================================================================\n",
      "Total params: 661,183\n",
      "Trainable params: 661,183\n",
      "Non-trainable params: 0\n",
      "__________________________________________________________________________________________________\n",
      "Train on 56590 samples, validate on 9198 samples\n",
      "Epoch 1/20\n",
      "56590/56590 [==============================] - 50s 885us/step - loss: 1.2631 - acc: 0.7217 - val_loss: 0.8932 - val_acc: 0.7673\n",
      "Epoch 2/20\n",
      "56590/56590 [==============================] - 49s 858us/step - loss: 0.4229 - acc: 0.8950 - val_loss: 0.3407 - val_acc: 0.9206\n",
      "Epoch 3/20\n",
      "56590/56590 [==============================] - 53s 929us/step - loss: 0.1800 - acc: 0.9550 - val_loss: 0.2448 - val_acc: 0.9424\n",
      "Epoch 4/20\n",
      "56590/56590 [==============================] - 50s 880us/step - loss: 0.1122 - acc: 0.9719 - val_loss: 0.1850 - val_acc: 0.9601\n",
      "Epoch 5/20\n",
      "56590/56590 [==============================] - 50s 877us/step - loss: 0.0766 - acc: 0.9804 - val_loss: 0.1645 - val_acc: 0.9635\n",
      "Epoch 6/20\n",
      "56590/56590 [==============================] - 50s 891us/step - loss: 0.0630 - acc: 0.9835 - val_loss: 0.1752 - val_acc: 0.9644\n",
      "Epoch 7/20\n",
      "56590/56590 [==============================] - 50s 879us/step - loss: 0.0514 - acc: 0.9859 - val_loss: 0.1513 - val_acc: 0.9684\n",
      "Epoch 8/20\n",
      "56590/56590 [==============================] - 48s 856us/step - loss: 0.0440 - acc: 0.9879 - val_loss: 0.1725 - val_acc: 0.9681\n",
      "Epoch 9/20\n",
      "56590/56590 [==============================] - 49s 857us/step - loss: 0.0381 - acc: 0.9895 - val_loss: 0.1557 - val_acc: 0.9708\n",
      "Epoch 10/20\n",
      "56590/56590 [==============================] - 49s 871us/step - loss: 0.0331 - acc: 0.9901 - val_loss: 0.1408 - val_acc: 0.9709\n",
      "Epoch 11/20\n",
      "56590/56590 [==============================] - 49s 873us/step - loss: 0.0315 - acc: 0.9908 - val_loss: 0.1505 - val_acc: 0.9724\n",
      "Epoch 12/20\n",
      "56590/56590 [==============================] - 52s 912us/step - loss: 0.0283 - acc: 0.9917 - val_loss: 0.1653 - val_acc: 0.9709\n",
      "Epoch 13/20\n",
      "56590/56590 [==============================] - 50s 882us/step - loss: 0.0243 - acc: 0.9923 - val_loss: 0.1539 - val_acc: 0.9711\n",
      "Epoch 14/20\n",
      "56590/56590 [==============================] - 52s 920us/step - loss: 0.0228 - acc: 0.9931 - val_loss: 0.1710 - val_acc: 0.9705\n",
      "Epoch 15/20\n",
      "56590/56590 [==============================] - 52s 911us/step - loss: 0.0195 - acc: 0.9943 - val_loss: 0.1676 - val_acc: 0.9710\n",
      "Epoch 16/20\n",
      "56590/56590 [==============================] - 49s 864us/step - loss: 0.0182 - acc: 0.9943 - val_loss: 0.1706 - val_acc: 0.9714\n",
      "Epoch 17/20\n",
      "56590/56590 [==============================] - 52s 911us/step - loss: 0.0158 - acc: 0.9951 - val_loss: 0.1818 - val_acc: 0.9683\n",
      "Epoch 18/20\n",
      "56590/56590 [==============================] - 52s 916us/step - loss: 0.0199 - acc: 0.9939 - val_loss: 0.1583 - val_acc: 0.9743\n",
      "Epoch 19/20\n",
      "56590/56590 [==============================] - 52s 919us/step - loss: 0.0149 - acc: 0.9954 - val_loss: 0.1731 - val_acc: 0.9726\n",
      "Epoch 20/20\n",
      "56590/56590 [==============================] - 48s 849us/step - loss: 0.0130 - acc: 0.9960 - val_loss: 0.1829 - val_acc: 0.9735\n"
     ]
    }
   ],
   "source": [
    "# build the model: Bidirectional stacked LSTM with embedings\n",
    "print('Build model 1')\n",
    "seq_input = tf.keras.layers.Input(shape=([input_seq_length]), name='prev') \n",
    "    \n",
    "embeds = tf.keras.layers.Embedding(input_vocabulary_size, embedding_size)(seq_input)\n",
    "\n",
    "# Bidirectional LSTM 1\n",
    "forwards1  = tf.keras.layers.LSTM(num_hidden_lstm, return_sequences=True, name='Forward1')(embeds)\n",
    "backwards1 = tf.keras.layers.LSTM(num_hidden_lstm, return_sequences=True, go_backwards=True, name='Backward1')(embeds)\n",
    "rnn_out1 = tf.keras.layers.concatenate([forwards1, backwards1], axis=-1, name='Forward_Backward1')\n",
    "\n",
    "# Bidirectional LSTM 1\n",
    "forwards2  = tf.keras.layers.LSTM(num_hidden_lstm, return_sequences=False, name='Forward2')(rnn_out1)\n",
    "backwards2 = tf.keras.layers.LSTM(num_hidden_lstm, return_sequences=False, go_backwards=True, name='Backward2')(rnn_out1)\n",
    "rnn_out2 = tf.keras.layers.concatenate([forwards2, backwards2], axis=-1, name='Forward_Backward2')\n",
    "\n",
    "\n",
    "output = tf.keras.layers.Dense(output_length, activation='softmax')(rnn_out2)\n",
    "\n",
    "model3 = tf.keras.models.Model(inputs=seq_input, outputs=output)\n",
    "model3.summary()\n",
    "\n",
    "# Optimizer\n",
    "adam_optimizer = tf.keras.optimizers.Adam()\n",
    "model3.compile(loss='sparse_categorical_crossentropy', optimizer=adam_optimizer, metrics=['accuracy'])\n",
    "\n",
    "\n",
    "#Fit model\n",
    "tb_callback_bilstm2 = tf.keras.callbacks.TensorBoard(log_dir='../../data/tensorboard/airline/BILSTM2/')\n",
    "history3 = model3.fit(X_trn, y_trn, batch_size=128, epochs=20,\n",
    "                      validation_data=(X_tst, y_tst), callbacks=[tb_callback_bilstm2])\n"
   ]
  },
  {
   "cell_type": "code",
   "execution_count": 8,
   "metadata": {},
   "outputs": [
    {
     "data": {
      "image/png": "[encoded data removed]",
      "text/plain": [
       "<Figure size 720x720 with 1 Axes>"
      ]
     },
     "metadata": {},
     "output_type": "display_data"
    }
   ],
   "source": [
    "# Compare validation of the 3 models\n",
    "plt.rcParams['figure.figsize'] = (10, 10)\n",
    "\n",
    "plt.plot(history1.history['val_acc'], label='BLSTM')\n",
    "plt.plot(history2.history['val_acc'], label='Stacked LSTM')\n",
    "plt.plot(history3.history['val_acc'], label='Stacked BLSTM')\n",
    "plt.legend(loc='lower right')\n",
    "plt.show()"
   ]
  },
  {
   "cell_type": "code",
   "execution_count": null,
   "metadata": {},
   "outputs": [],
   "source": []
  }
 ],
 "metadata": {
  "anaconda-cloud": {},
  "kernelspec": {
   "display_name": "Python [conda env:tm]",
   "language": "python",
   "name": "conda-env-tm-py"
  },
  "language_info": {
   "codemirror_mode": {
    "name": "ipython",
    "version": 3
   },
   "file_extension": ".py",
   "mimetype": "text/x-python",
   "name": "python",
   "nbconvert_exporter": "python",
   "pygments_lexer": "ipython3",
   "version": "3.6.5"
  }
 },
 "nbformat": 4,
 "nbformat_minor": 2
}
