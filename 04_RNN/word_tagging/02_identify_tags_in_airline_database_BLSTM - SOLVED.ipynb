{
 "cells": [
  {
   "cell_type": "markdown",
   "metadata": {},
   "source": [
    "# Identify tags in airline database\n",
    "\n",
    "## Deep LSTM networks\n",
    "\n",
    "    - Bidirectional LSTM\n",
    "    - Stacked LSTM\n",
    "    - Bidirectional stacked LSTM"
   ]
  },
  {
   "cell_type": "code",
   "execution_count": 1,
   "metadata": {},
   "outputs": [
    {
     "name": "stderr",
     "output_type": "stream",
     "text": [
      "/Users/jorge/anaconda3/envs/tm/lib/python3.6/site-packages/h5py/__init__.py:36: FutureWarning: Conversion of the second argument of issubdtype from `float` to `np.floating` is deprecated. In future, it will be treated as `np.float64 == np.dtype(float).type`.\n",
      "  from ._conv import register_converters as _register_converters\n"
     ]
    },
    {
     "name": "stdout",
     "output_type": "stream",
     "text": [
      "1.7.0\n"
     ]
    }
   ],
   "source": [
    "from __future__ import print_function\n",
    "\n",
    "import sys\n",
    "import os \n",
    "import numpy as np \n",
    "import tensorflow as tf \n",
    "print(tf.__version__)\n",
    "\n",
    "#Show images\n",
    "import matplotlib.pyplot as plt\n",
    "%matplotlib inline\n",
    "# plt configuration\n",
    "plt.rcParams['figure.figsize'] = (10, 10)\n"
   ]
  },
  {
   "cell_type": "markdown",
   "metadata": {},
   "source": [
    "## Dataset transformation\n"
   ]
  },
  {
   "cell_type": "code",
   "execution_count": 2,
   "metadata": {},
   "outputs": [
    {
     "name": "stdout",
     "output_type": "stream",
     "text": [
      "ID_PAD:  572\n",
      "X trn shape:  (56590, 10)\n",
      "X_tst shape:  (9198, 10)\n",
      "y_trn shape:  (56590,)\n",
      "y_tst shape:  (9198,)\n",
      "Num labels:  121\n",
      "Num words:  572\n"
     ]
    }
   ],
   "source": [
    "# Read data\n",
    "import pickle\n",
    "\n",
    "atis_file = '../../data/atis/atis.pkl'\n",
    "\n",
    "with open(atis_file,'rb') as f:\n",
    "    if sys.version_info.major==2:\n",
    "        train, test, dicts = pickle.load(f) #python2.7\n",
    "    else:\n",
    "        train, test, dicts = pickle.load(f, encoding='bytes') #python3\n",
    "\n",
    "#Dictionaries and train test partition\n",
    "w2idx, ne2idx, labels2idx = dicts[b'words2idx'], dicts[b'tables2idx'], dicts[b'labels2idx']\n",
    "    \n",
    "idx2w  = dict((v,k) for k,v in w2idx.items())\n",
    "idx2la = dict((v,k) for k,v in labels2idx.items())\n",
    "\n",
    "train_x, _, train_label = train\n",
    "test_x,  _,  test_label  = test\n",
    "\n",
    "\n",
    "# Max value of word coding to assign the ID_PAD\n",
    "ID_PAD = np.max([np.max(tx) for tx in train_x]) + 1\n",
    "print('ID_PAD: ', ID_PAD)\n",
    "\n",
    "def context(l, size=3):\n",
    "    l = list(l)\n",
    "    lpadded = size // 2 * [ID_PAD] + l + size // 2 * [ID_PAD]\n",
    "    out = [lpadded[i:(i + size)] for i in range(len(l))]\n",
    "    return out\n",
    "\n",
    "\n",
    "# Create train and test X y.\n",
    "X_trn=[]\n",
    "for s in train_x:\n",
    "    X_trn += context(s,size=10)\n",
    "X_trn = np.array(X_trn)\n",
    "\n",
    "X_tst=[]\n",
    "for s in test_x:\n",
    "    X_tst += context(s,size=10)\n",
    "X_tst = np.array(X_tst)\n",
    "\n",
    "print('X trn shape: ', X_trn.shape)\n",
    "print('X_tst shape: ',X_tst.shape)\n",
    "\n",
    "\n",
    "y_trn=[]\n",
    "for s in train_label:\n",
    "    y_trn += list(s)\n",
    "y_trn = np.array(y_trn)\n",
    "print('y_trn shape: ',y_trn.shape)\n",
    "\n",
    "y_tst=[]\n",
    "for s in test_label:\n",
    "    y_tst += list(s)\n",
    "y_tst = np.array(y_tst)\n",
    "print('y_tst shape: ',y_tst.shape)\n",
    "\n",
    "\n",
    "print('Num labels: ',len(set(y_trn)))\n",
    "print('Num words: ',len(set(idx2w)))"
   ]
  },
  {
   "cell_type": "code",
   "execution_count": 3,
   "metadata": {},
   "outputs": [],
   "source": [
    "# data attributes\n",
    "input_seq_length = X_trn.shape[1]\n",
    "input_vocabulary_size = len(set(idx2w)) + 1\n",
    "output_length = 127\n",
    "\n",
    "#Model parameters\n",
    "embedding_size=64\n",
    "num_hidden_lstm = 128\n"
   ]
  },
  {
   "cell_type": "code",
   "execution_count": 4,
   "metadata": {
    "collapsed": true
   },
   "outputs": [
    {
     "name": "stdout",
     "output_type": "stream",
     "text": [
      "WARNING:tensorflow:From /Users/jorge/anaconda3/envs/tm/lib/python3.6/site-packages/tensorflow/contrib/learn/python/learn/datasets/base.py:198: retry (from tensorflow.contrib.learn.python.learn.datasets.base) is deprecated and will be removed in a future version.\n",
      "Instructions for updating:\n",
      "Use the retry module or similar alternatives.\n"
     ]
    }
   ],
   "source": [
    "from tensorflow.contrib.keras import layers, models, optimizers, utils, callbacks"
   ]
  },
  {
   "cell_type": "markdown",
   "metadata": {},
   "source": [
    "# Bidirectional LSTM model\n"
   ]
  },
  {
   "cell_type": "code",
   "execution_count": 5,
   "metadata": {},
   "outputs": [
    {
     "name": "stdout",
     "output_type": "stream",
     "text": [
      "Build model 1\n",
      "__________________________________________________________________________________________________\n",
      "Layer (type)                    Output Shape         Param #     Connected to                     \n",
      "==================================================================================================\n",
      "prev (InputLayer)               (None, 10)           0                                            \n",
      "__________________________________________________________________________________________________\n",
      "embedding_1 (Embedding)         (None, 10, 64)       36672       prev[0][0]                       \n",
      "__________________________________________________________________________________________________\n",
      "Forward (LSTM)                  (None, 128)          98816       embedding_1[0][0]                \n",
      "__________________________________________________________________________________________________\n",
      "Backward (LSTM)                 (None, 128)          98816       embedding_1[0][0]                \n",
      "__________________________________________________________________________________________________\n",
      "Forward_Backward (Concatenate)  (None, 256)          0           Forward[0][0]                    \n",
      "                                                                 Backward[0][0]                   \n",
      "__________________________________________________________________________________________________\n",
      "dense_1 (Dense)                 (None, 127)          32639       Forward_Backward[0][0]           \n",
      "==================================================================================================\n",
      "Total params: 266,943\n",
      "Trainable params: 266,943\n",
      "Non-trainable params: 0\n",
      "__________________________________________________________________________________________________\n",
      "Train on 56590 samples, validate on 9198 samples\n",
      "Epoch 1/20\n",
      "56590/56590 [==============================] - 17s 299us/step - loss: 1.3302 - acc: 0.7111 - val_loss: 0.8782 - val_acc: 0.7902\n",
      "Epoch 2/20\n",
      "56590/56590 [==============================] - 16s 289us/step - loss: 0.4408 - acc: 0.8928 - val_loss: 0.3567 - val_acc: 0.9148\n",
      "Epoch 3/20\n",
      "56590/56590 [==============================] - 16s 282us/step - loss: 0.1814 - acc: 0.9560 - val_loss: 0.2267 - val_acc: 0.9511\n",
      "Epoch 4/20\n",
      "56590/56590 [==============================] - 16s 290us/step - loss: 0.1124 - acc: 0.9722 - val_loss: 0.1918 - val_acc: 0.9569\n",
      "Epoch 5/20\n",
      "56590/56590 [==============================] - 17s 296us/step - loss: 0.0826 - acc: 0.9796 - val_loss: 0.1794 - val_acc: 0.9619\n",
      "Epoch 6/20\n",
      "56590/56590 [==============================] - 18s 310us/step - loss: 0.0650 - acc: 0.9832 - val_loss: 0.1526 - val_acc: 0.9669\n",
      "Epoch 7/20\n",
      "56590/56590 [==============================] - 17s 296us/step - loss: 0.0533 - acc: 0.9857 - val_loss: 0.1475 - val_acc: 0.9683\n",
      "Epoch 8/20\n",
      "56590/56590 [==============================] - 17s 303us/step - loss: 0.0470 - acc: 0.9869 - val_loss: 0.1458 - val_acc: 0.9698\n",
      "Epoch 9/20\n",
      "56590/56590 [==============================] - 16s 292us/step - loss: 0.0386 - acc: 0.9892 - val_loss: 0.1404 - val_acc: 0.9706\n",
      "Epoch 10/20\n",
      "56590/56590 [==============================] - 17s 297us/step - loss: 0.0340 - acc: 0.9901 - val_loss: 0.1446 - val_acc: 0.9738\n",
      "Epoch 11/20\n",
      "56590/56590 [==============================] - 18s 310us/step - loss: 0.0296 - acc: 0.9913 - val_loss: 0.1354 - val_acc: 0.9722\n",
      "Epoch 12/20\n",
      "56590/56590 [==============================] - 17s 297us/step - loss: 0.0248 - acc: 0.9926 - val_loss: 0.1520 - val_acc: 0.9723\n",
      "Epoch 13/20\n",
      "56590/56590 [==============================] - 17s 298us/step - loss: 0.0244 - acc: 0.9924 - val_loss: 0.1351 - val_acc: 0.9764\n",
      "Epoch 14/20\n",
      "56590/56590 [==============================] - 17s 297us/step - loss: 0.0209 - acc: 0.9937 - val_loss: 0.1647 - val_acc: 0.9712\n",
      "Epoch 15/20\n",
      "56590/56590 [==============================] - 17s 298us/step - loss: 0.0183 - acc: 0.9945 - val_loss: 0.1546 - val_acc: 0.9736\n",
      "Epoch 16/20\n",
      "56590/56590 [==============================] - 16s 290us/step - loss: 0.0180 - acc: 0.9945 - val_loss: 0.1623 - val_acc: 0.9730\n",
      "Epoch 17/20\n",
      "56590/56590 [==============================] - 17s 302us/step - loss: 0.0150 - acc: 0.9956 - val_loss: 0.1652 - val_acc: 0.9743\n",
      "Epoch 18/20\n",
      "56590/56590 [==============================] - 17s 303us/step - loss: 0.0123 - acc: 0.9960 - val_loss: 0.1600 - val_acc: 0.9733\n",
      "Epoch 19/20\n",
      "56590/56590 [==============================] - 17s 303us/step - loss: 0.0126 - acc: 0.9959 - val_loss: 0.1577 - val_acc: 0.9743\n",
      "Epoch 20/20\n",
      "56590/56590 [==============================] - 18s 321us/step - loss: 0.0133 - acc: 0.9960 - val_loss: 0.1759 - val_acc: 0.9739\n"
     ]
    }
   ],
   "source": [
    "# build the model: Simple LSTM with embedings\n",
    "print('Build model 1')\n",
    "seq_input = tf.keras.layers.Input(shape=([input_seq_length]), name='prev') \n",
    "    \n",
    "embeds = tf.keras.layers.Embedding(input_vocabulary_size, embedding_size)(seq_input)\n",
    "\n",
    "# Bidirectional LSTM\n",
    "forwards  = tf.keras.layers.LSTM(num_hidden_lstm, return_sequences=False, name='Forward')(embeds)\n",
    "backwards = tf.keras.layers.LSTM(num_hidden_lstm, return_sequences=False, go_backwards=True, name='Backward')(embeds)\n",
    "rnn_out = tf.keras.layers.concatenate([forwards, backwards], axis=-1, name='Forward_Backward')\n",
    "\n",
    "output = tf.keras.layers.Dense(output_length, activation='softmax')(rnn_out)\n",
    "\n",
    "model1 = tf.keras.models.Model(inputs=seq_input, outputs=output)\n",
    "model1.summary()\n",
    "\n",
    "# Optimizer\n",
    "adam_optimizer = tf.keras.optimizers.Adam()\n",
    "model1.compile(loss='sparse_categorical_crossentropy', optimizer=adam_optimizer, metrics=['accuracy'])\n",
    "\n",
    "#Fit model\n",
    "tb_callback_bilstm = tf.keras.callbacks.TensorBoard(log_dir='../../data/tensorboard/airline/BILSTM/')\n",
    "history1 = model1.fit(X_trn, y_trn, batch_size=128, epochs=20,\n",
    "                      validation_data=(X_tst, y_tst), callbacks=[tb_callback_bilstm])\n"
   ]
  },
  {
   "cell_type": "markdown",
   "metadata": {},
   "source": [
    "# Stacked LSTM model"
   ]
  },
  {
   "cell_type": "code",
   "execution_count": 6,
   "metadata": {},
   "outputs": [
    {
     "name": "stdout",
     "output_type": "stream",
     "text": [
      "Build model 1\n",
      "_________________________________________________________________\n",
      "Layer (type)                 Output Shape              Param #   \n",
      "=================================================================\n",
      "prev (InputLayer)            (None, 10)                0         \n",
      "_________________________________________________________________\n",
      "embedding_2 (Embedding)      (None, 10, 64)            36672     \n",
      "_________________________________________________________________\n",
      "Forward1 (LSTM)              (None, 10, 128)           98816     \n",
      "_________________________________________________________________\n",
      "Forward2 (LSTM)              (None, 128)               131584    \n",
      "_________________________________________________________________\n",
      "dense_2 (Dense)              (None, 127)               16383     \n",
      "=================================================================\n",
      "Total params: 283,455\n",
      "Trainable params: 283,455\n",
      "Non-trainable params: 0\n",
      "_________________________________________________________________\n",
      "Train on 56590 samples, validate on 9198 samples\n",
      "Epoch 1/20\n",
      "56590/56590 [==============================] - 22s 390us/step - loss: 1.5636 - acc: 0.6722 - val_loss: 1.1997 - val_acc: 0.7298\n",
      "Epoch 2/20\n",
      "56590/56590 [==============================] - 21s 364us/step - loss: 0.7602 - acc: 0.8171 - val_loss: 0.5932 - val_acc: 0.8652\n",
      "Epoch 3/20\n",
      "56590/56590 [==============================] - 19s 331us/step - loss: 0.4020 - acc: 0.9044 - val_loss: 0.3926 - val_acc: 0.9041\n",
      "Epoch 4/20\n",
      "56590/56590 [==============================] - 20s 349us/step - loss: 0.2646 - acc: 0.9353 - val_loss: 0.3228 - val_acc: 0.9257\n",
      "Epoch 5/20\n",
      "56590/56590 [==============================] - 20s 356us/step - loss: 0.1965 - acc: 0.9517 - val_loss: 0.2619 - val_acc: 0.9380\n",
      "Epoch 6/20\n",
      "56590/56590 [==============================] - 22s 385us/step - loss: 0.1521 - acc: 0.9636 - val_loss: 0.2206 - val_acc: 0.9504\n",
      "Epoch 7/20\n",
      "56590/56590 [==============================] - 24s 429us/step - loss: 0.1199 - acc: 0.9712 - val_loss: 0.1905 - val_acc: 0.9600\n",
      "Epoch 8/20\n",
      "56590/56590 [==============================] - 25s 448us/step - loss: 0.0965 - acc: 0.9773 - val_loss: 0.1846 - val_acc: 0.9621\n",
      "Epoch 9/20\n",
      "56590/56590 [==============================] - 25s 442us/step - loss: 0.0850 - acc: 0.9797 - val_loss: 0.1680 - val_acc: 0.9660\n",
      "Epoch 10/20\n",
      "56590/56590 [==============================] - 26s 460us/step - loss: 0.0682 - acc: 0.9837 - val_loss: 0.1805 - val_acc: 0.9636\n",
      "Epoch 11/20\n",
      "56590/56590 [==============================] - 24s 428us/step - loss: 0.0639 - acc: 0.9841 - val_loss: 0.1550 - val_acc: 0.9702\n",
      "Epoch 12/20\n",
      "56590/56590 [==============================] - 25s 443us/step - loss: 0.0559 - acc: 0.9861 - val_loss: 0.1603 - val_acc: 0.9693\n",
      "Epoch 13/20\n",
      "56590/56590 [==============================] - 25s 433us/step - loss: 0.0540 - acc: 0.9867 - val_loss: 0.1693 - val_acc: 0.9668\n",
      "Epoch 14/20\n",
      "56590/56590 [==============================] - 23s 409us/step - loss: 0.0476 - acc: 0.9880 - val_loss: 0.1582 - val_acc: 0.9706\n",
      "Epoch 15/20\n",
      "56590/56590 [==============================] - 22s 395us/step - loss: 0.0432 - acc: 0.9889 - val_loss: 0.1621 - val_acc: 0.9680\n",
      "Epoch 16/20\n",
      "56590/56590 [==============================] - 22s 390us/step - loss: 0.0420 - acc: 0.9889 - val_loss: 0.1614 - val_acc: 0.9714\n",
      "Epoch 17/20\n",
      "56590/56590 [==============================] - 22s 388us/step - loss: 0.0369 - acc: 0.9902 - val_loss: 0.1656 - val_acc: 0.9703\n",
      "Epoch 18/20\n",
      "56590/56590 [==============================] - 21s 369us/step - loss: 0.0338 - acc: 0.9909 - val_loss: 0.1822 - val_acc: 0.9663\n",
      "Epoch 19/20\n",
      "56590/56590 [==============================] - 20s 354us/step - loss: 0.0330 - acc: 0.9909 - val_loss: 0.1698 - val_acc: 0.9694\n",
      "Epoch 20/20\n",
      "56590/56590 [==============================] - 21s 374us/step - loss: 0.0297 - acc: 0.9918 - val_loss: 0.1706 - val_acc: 0.9708\n"
     ]
    }
   ],
   "source": [
    "# build the model: Simple LSTM with embedings\n",
    "print('Build model 1')\n",
    "seq_input = tf.keras.layers.Input(shape=([input_seq_length]), name='prev') \n",
    "    \n",
    "embeds = tf.keras.layers.Embedding(input_vocabulary_size, embedding_size)(seq_input)\n",
    "\n",
    "# Stacked LSTM\n",
    "forwards1 = tf.keras.layers.LSTM(num_hidden_lstm, return_sequences=True,  name='Forward1')(embeds)\n",
    "forwards2 = tf.keras.layers.LSTM(num_hidden_lstm, return_sequences=False, name='Forward2')(forwards1)\n",
    "\n",
    "output = tf.keras.layers.Dense(output_length, activation='softmax')(forwards2)\n",
    "\n",
    "model2 = tf.keras.models.Model(inputs=seq_input, outputs=output)\n",
    "model2.summary()\n",
    "\n",
    "# Optimizer\n",
    "adam_optimizer = tf.keras.optimizers.Adam()\n",
    "model2.compile(loss='sparse_categorical_crossentropy', optimizer=adam_optimizer, metrics=['accuracy'])\n",
    "\n",
    "\n",
    "#Fit model\n",
    "tb_callback_lstm2 = tf.keras.callbacks.TensorBoard(log_dir='../../data/tensorboard/airline/LSTM2/')\n",
    "history2 = model2.fit(X_trn, y_trn, batch_size=128, epochs=20,\n",
    "                      validation_data=(X_tst, y_tst), callbacks=[tb_callback_lstm2])\n"
   ]
  },
  {
   "cell_type": "markdown",
   "metadata": {},
   "source": [
    "# Bidirectional stacked LSTM model"
   ]
  },
  {
   "cell_type": "code",
   "execution_count": 7,
   "metadata": {},
   "outputs": [
    {
     "name": "stdout",
     "output_type": "stream",
     "text": [
      "Build model 1\n",
      "__________________________________________________________________________________________________\n",
      "Layer (type)                    Output Shape         Param #     Connected to                     \n",
      "==================================================================================================\n",
      "prev (InputLayer)               (None, 10)           0                                            \n",
      "__________________________________________________________________________________________________\n",
      "embedding_3 (Embedding)         (None, 10, 64)       36672       prev[0][0]                       \n",
      "__________________________________________________________________________________________________\n",
      "Forward1 (LSTM)                 (None, 10, 128)      98816       embedding_3[0][0]                \n",
      "__________________________________________________________________________________________________\n",
      "Backward1 (LSTM)                (None, 10, 128)      98816       embedding_3[0][0]                \n",
      "__________________________________________________________________________________________________\n",
      "Forward_Backward1 (Concatenate) (None, 10, 256)      0           Forward1[0][0]                   \n",
      "                                                                 Backward1[0][0]                  \n",
      "__________________________________________________________________________________________________\n",
      "Forward2 (LSTM)                 (None, 128)          197120      Forward_Backward1[0][0]          \n",
      "__________________________________________________________________________________________________\n",
      "Backward2 (LSTM)                (None, 128)          197120      Forward_Backward1[0][0]          \n",
      "__________________________________________________________________________________________________\n",
      "Forward_Backward2 (Concatenate) (None, 256)          0           Forward2[0][0]                   \n",
      "                                                                 Backward2[0][0]                  \n",
      "__________________________________________________________________________________________________\n",
      "dense_3 (Dense)                 (None, 127)          32639       Forward_Backward2[0][0]          \n",
      "==================================================================================================\n",
      "Total params: 661,183\n",
      "Trainable params: 661,183\n",
      "Non-trainable params: 0\n",
      "__________________________________________________________________________________________________\n",
      "Train on 56590 samples, validate on 9198 samples\n",
      "Epoch 1/20\n",
      "56590/56590 [==============================] - 49s 865us/step - loss: 1.2802 - acc: 0.7208 - val_loss: 0.8931 - val_acc: 0.7865\n",
      "Epoch 2/20\n",
      "56590/56590 [==============================] - 46s 814us/step - loss: 0.4799 - acc: 0.8830 - val_loss: 0.4398 - val_acc: 0.9013\n",
      "Epoch 3/20\n",
      "56590/56590 [==============================] - 49s 862us/step - loss: 0.1989 - acc: 0.9499 - val_loss: 0.2702 - val_acc: 0.9373\n",
      "Epoch 4/20\n",
      "56590/56590 [==============================] - 47s 827us/step - loss: 0.1113 - acc: 0.9722 - val_loss: 0.2134 - val_acc: 0.9506\n",
      "Epoch 5/20\n",
      "56590/56590 [==============================] - 50s 887us/step - loss: 0.0821 - acc: 0.9783 - val_loss: 0.1754 - val_acc: 0.9626\n",
      "Epoch 6/20\n",
      "56590/56590 [==============================] - 48s 856us/step - loss: 0.0637 - acc: 0.9830 - val_loss: 0.1730 - val_acc: 0.9621\n",
      "Epoch 7/20\n",
      "56590/56590 [==============================] - 47s 825us/step - loss: 0.0540 - acc: 0.9850 - val_loss: 0.1621 - val_acc: 0.9654\n",
      "Epoch 8/20\n",
      "56590/56590 [==============================] - 47s 834us/step - loss: 0.0432 - acc: 0.9881 - val_loss: 0.1437 - val_acc: 0.9688\n",
      "Epoch 9/20\n",
      "56590/56590 [==============================] - 48s 845us/step - loss: 0.0366 - acc: 0.9892 - val_loss: 0.1687 - val_acc: 0.9663\n",
      "Epoch 10/20\n",
      "56590/56590 [==============================] - 48s 855us/step - loss: 0.0304 - acc: 0.9908 - val_loss: 0.1805 - val_acc: 0.9646\n",
      "Epoch 11/20\n",
      "56590/56590 [==============================] - 49s 873us/step - loss: 0.0295 - acc: 0.9913 - val_loss: 0.1576 - val_acc: 0.9714\n",
      "Epoch 12/20\n",
      "56590/56590 [==============================] - 48s 848us/step - loss: 0.0243 - acc: 0.9928 - val_loss: 0.1590 - val_acc: 0.9716\n",
      "Epoch 13/20\n",
      "56590/56590 [==============================] - 50s 876us/step - loss: 0.0200 - acc: 0.9939 - val_loss: 0.1587 - val_acc: 0.9712\n",
      "Epoch 14/20\n",
      "56590/56590 [==============================] - 50s 892us/step - loss: 0.0192 - acc: 0.9940 - val_loss: 0.1723 - val_acc: 0.9694\n",
      "Epoch 15/20\n",
      "56590/56590 [==============================] - 50s 875us/step - loss: 0.0177 - acc: 0.9945 - val_loss: 0.1709 - val_acc: 0.9715\n",
      "Epoch 16/20\n",
      "56590/56590 [==============================] - 51s 906us/step - loss: 0.0143 - acc: 0.9958 - val_loss: 0.3003 - val_acc: 0.9497\n",
      "Epoch 17/20\n",
      "56590/56590 [==============================] - 52s 919us/step - loss: 0.0148 - acc: 0.9955 - val_loss: 0.1778 - val_acc: 0.9713\n",
      "Epoch 18/20\n",
      "56590/56590 [==============================] - 51s 894us/step - loss: 0.0119 - acc: 0.9961 - val_loss: 0.1785 - val_acc: 0.9734\n",
      "Epoch 19/20\n",
      "56590/56590 [==============================] - 51s 898us/step - loss: 0.0112 - acc: 0.9964 - val_loss: 0.1767 - val_acc: 0.9737\n",
      "Epoch 20/20\n",
      "56590/56590 [==============================] - 52s 914us/step - loss: 0.0108 - acc: 0.9967 - val_loss: 0.1841 - val_acc: 0.9714\n"
     ]
    }
   ],
   "source": [
    "# build the model: Bidirectional stacked LSTM with embedings\n",
    "print('Build model 1')\n",
    "seq_input = tf.keras.layers.Input(shape=([input_seq_length]), name='prev') \n",
    "    \n",
    "embeds = tf.keras.layers.Embedding(input_vocabulary_size, embedding_size)(seq_input)\n",
    "\n",
    "# Bidirectional LSTM 1\n",
    "forwards1  = tf.keras.layers.LSTM(num_hidden_lstm, return_sequences=True, name='Forward1')(embeds)\n",
    "backwards1 = tf.keras.layers.LSTM(num_hidden_lstm, return_sequences=True, go_backwards=True, name='Backward1')(embeds)\n",
    "rnn_out1 = tf.keras.layers.concatenate([forwards1, backwards1], axis=-1, name='Forward_Backward1')\n",
    "\n",
    "# Bidirectional LSTM 1\n",
    "forwards2  = tf.keras.layers.LSTM(num_hidden_lstm, return_sequences=False, name='Forward2')(rnn_out1)\n",
    "backwards2 = tf.keras.layers.LSTM(num_hidden_lstm, return_sequences=False, go_backwards=True, name='Backward2')(rnn_out1)\n",
    "rnn_out2 = tf.keras.layers.concatenate([forwards2, backwards2], axis=-1, name='Forward_Backward2')\n",
    "\n",
    "\n",
    "output = tf.keras.layers.Dense(output_length, activation='softmax')(rnn_out2)\n",
    "\n",
    "model3 = tf.keras.models.Model(inputs=seq_input, outputs=output)\n",
    "model3.summary()\n",
    "\n",
    "# Optimizer\n",
    "adam_optimizer = tf.keras.optimizers.Adam()\n",
    "model3.compile(loss='sparse_categorical_crossentropy', optimizer=adam_optimizer, metrics=['accuracy'])\n",
    "\n",
    "\n",
    "#Fit model\n",
    "tb_callback_bilstm2 = tf.keras.callbacks.TensorBoard(log_dir='../../data/tensorboard/airline/BILSTM2/')\n",
    "history3 = model3.fit(X_trn, y_trn, batch_size=128, epochs=20,\n",
    "                      validation_data=(X_tst, y_tst), callbacks=[tb_callback_bilstm2])\n"
   ]
  },
  {
   "cell_type": "code",
   "execution_count": 8,
   "metadata": {},
   "outputs": [
    {
     "data": {
      "image/png": "[encoded data removed]",
      "text/plain": [
       "<Figure size 720x720 with 1 Axes>"
      ]
     },
     "metadata": {},
     "output_type": "display_data"
    }
   ],
   "source": [
    "# Compare validation of the 3 models\n",
    "plt.rcParams['figure.figsize'] = (10, 10)\n",
    "\n",
    "plt.plot(history1.history['val_acc'], label='BLSTM')\n",
    "plt.plot(history2.history['val_acc'], label='Stacked LSTM')\n",
    "plt.plot(history3.history['val_acc'], label='Stacked BLSTM')\n",
    "plt.legend(loc='lower right')\n",
    "plt.show()"
   ]
  },
  {
   "cell_type": "code",
   "execution_count": null,
   "metadata": {
    "collapsed": true
   },
   "outputs": [],
   "source": []
  }
 ],
 "metadata": {
  "anaconda-cloud": {},
  "kernelspec": {
   "display_name": "Python [conda env:tm]",
   "language": "python",
   "name": "conda-env-tm-py"
  },
  "language_info": {
   "codemirror_mode": {
    "name": "ipython",
    "version": 3
   },
   "file_extension": ".py",
   "mimetype": "text/x-python",
   "name": "python",
   "nbconvert_exporter": "python",
   "pygments_lexer": "ipython3",
   "version": "3.6.5"
  }
 },
 "nbformat": 4,
 "nbformat_minor": 2
}
