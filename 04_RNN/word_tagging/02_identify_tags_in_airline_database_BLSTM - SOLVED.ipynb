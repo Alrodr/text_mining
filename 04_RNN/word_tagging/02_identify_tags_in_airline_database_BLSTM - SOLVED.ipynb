{
 "cells": [
  {
   "cell_type": "markdown",
   "metadata": {},
   "source": [
    "# Identify tags in airline database\n",
    "\n",
    "## Deep LSTM networks\n",
    "\n",
    "    - Bidirectional LSTM\n",
    "    - Stacked LSTM\n",
    "    - Bidirectional stacked LSTM"
   ]
  },
  {
   "cell_type": "code",
   "execution_count": 1,
   "metadata": {},
   "outputs": [
    {
     "name": "stderr",
     "output_type": "stream",
     "text": [
      "/Users/jorge/anaconda3/envs/tm/lib/python3.6/site-packages/h5py/__init__.py:36: FutureWarning: Conversion of the second argument of issubdtype from `float` to `np.floating` is deprecated. In future, it will be treated as `np.float64 == np.dtype(float).type`.\n",
      "  from ._conv import register_converters as _register_converters\n"
     ]
    },
    {
     "name": "stdout",
     "output_type": "stream",
     "text": [
      "1.7.0\n"
     ]
    }
   ],
   "source": [
    "from __future__ import print_function\n",
    "\n",
    "import sys\n",
    "import os \n",
    "import numpy as np \n",
    "import tensorflow as tf \n",
    "print(tf.__version__)\n",
    "\n",
    "#Show images\n",
    "import matplotlib.pyplot as plt\n",
    "%matplotlib inline\n",
    "# plt configuration\n",
    "plt.rcParams['figure.figsize'] = (10, 10)\n"
   ]
  },
  {
   "cell_type": "markdown",
   "metadata": {},
   "source": [
    "## Dataset transformation\n"
   ]
  },
  {
   "cell_type": "code",
   "execution_count": 2,
   "metadata": {},
   "outputs": [
    {
     "name": "stdout",
     "output_type": "stream",
     "text": [
      "ID_PAD:  572\n",
      "X trn shape:  (56590, 10)\n",
      "X_tst shape:  (9198, 10)\n",
      "y_trn shape:  (56590,)\n",
      "y_tst shape:  (9198,)\n",
      "Num labels:  121\n",
      "Num words:  572\n"
     ]
    }
   ],
   "source": [
    "# Read data\n",
    "import pickle\n",
    "\n",
    "atis_file = '../../data/atis/atis.pkl'\n",
    "\n",
    "with open(atis_file,'rb') as f:\n",
    "    if sys.version_info.major==2:\n",
    "        train, test, dicts = pickle.load(f) #python2.7\n",
    "    else:\n",
    "        train, test, dicts = pickle.load(f, encoding='bytes') #python3\n",
    "\n",
    "#Dictionaries and train test partition\n",
    "w2idx, ne2idx, labels2idx = dicts[b'words2idx'], dicts[b'tables2idx'], dicts[b'labels2idx']\n",
    "    \n",
    "idx2w  = dict((v,k) for k,v in w2idx.items())\n",
    "idx2la = dict((v,k) for k,v in labels2idx.items())\n",
    "\n",
    "train_x, _, train_label = train\n",
    "test_x,  _,  test_label  = test\n",
    "\n",
    "\n",
    "# Max value of word coding to assign the ID_PAD\n",
    "ID_PAD = np.max([np.max(tx) for tx in train_x]) + 1\n",
    "print('ID_PAD: ', ID_PAD)\n",
    "\n",
    "def context(l, size=3):\n",
    "    l = list(l)\n",
    "    lpadded = size // 2 * [ID_PAD] + l + size // 2 * [ID_PAD]\n",
    "    out = [lpadded[i:(i + size)] for i in range(len(l))]\n",
    "    return out\n",
    "\n",
    "\n",
    "# Create train and test X y.\n",
    "X_trn=[]\n",
    "for s in train_x:\n",
    "    X_trn += context(s,size=10)\n",
    "X_trn = np.array(X_trn)\n",
    "\n",
    "X_tst=[]\n",
    "for s in test_x:\n",
    "    X_tst += context(s,size=10)\n",
    "X_tst = np.array(X_tst)\n",
    "\n",
    "print('X trn shape: ', X_trn.shape)\n",
    "print('X_tst shape: ',X_tst.shape)\n",
    "\n",
    "\n",
    "y_trn=[]\n",
    "for s in train_label:\n",
    "    y_trn += list(s)\n",
    "y_trn = np.array(y_trn)\n",
    "print('y_trn shape: ',y_trn.shape)\n",
    "\n",
    "y_tst=[]\n",
    "for s in test_label:\n",
    "    y_tst += list(s)\n",
    "y_tst = np.array(y_tst)\n",
    "print('y_tst shape: ',y_tst.shape)\n",
    "\n",
    "\n",
    "print('Num labels: ',len(set(y_trn)))\n",
    "print('Num words: ',len(set(idx2w)))"
   ]
  },
  {
   "cell_type": "code",
   "execution_count": 3,
   "metadata": {},
   "outputs": [],
   "source": [
    "# data attributes\n",
    "input_seq_length = X_trn.shape[1]\n",
    "input_vocabulary_size = len(set(idx2w)) + 1\n",
    "output_length = 127\n",
    "\n",
    "#Model parameters\n",
    "embedding_size=64\n",
    "num_hidden_lstm = 128\n"
   ]
  },
  {
   "cell_type": "code",
   "execution_count": 4,
   "metadata": {},
   "outputs": [
    {
     "name": "stdout",
     "output_type": "stream",
     "text": [
      "WARNING:tensorflow:From /Users/jorge/anaconda3/envs/tm/lib/python3.6/site-packages/tensorflow/contrib/learn/python/learn/datasets/base.py:198: retry (from tensorflow.contrib.learn.python.learn.datasets.base) is deprecated and will be removed in a future version.\n",
      "Instructions for updating:\n",
      "Use the retry module or similar alternatives.\n"
     ]
    }
   ],
   "source": [
    "from tensorflow.contrib.keras import layers, models, optimizers, utils, callbacks"
   ]
  },
  {
   "cell_type": "markdown",
   "metadata": {},
   "source": [
    "# Bidirectional LSTM model\n"
   ]
  },
  {
   "cell_type": "code",
   "execution_count": 5,
   "metadata": {},
   "outputs": [
    {
     "name": "stdout",
     "output_type": "stream",
     "text": [
      "Build model 1\n",
      "__________________________________________________________________________________________________\n",
      "Layer (type)                    Output Shape         Param #     Connected to                     \n",
      "==================================================================================================\n",
      "prev (InputLayer)               (None, 10)           0                                            \n",
      "__________________________________________________________________________________________________\n",
      "embedding_1 (Embedding)         (None, 10, 64)       36672       prev[0][0]                       \n",
      "__________________________________________________________________________________________________\n",
      "Forward (LSTM)                  (None, 128)          98816       embedding_1[0][0]                \n",
      "__________________________________________________________________________________________________\n",
      "Backward (LSTM)                 (None, 128)          98816       embedding_1[0][0]                \n",
      "__________________________________________________________________________________________________\n",
      "Forward_Backward (Concatenate)  (None, 256)          0           Forward[0][0]                    \n",
      "                                                                 Backward[0][0]                   \n",
      "__________________________________________________________________________________________________\n",
      "dense_1 (Dense)                 (None, 127)          32639       Forward_Backward[0][0]           \n",
      "==================================================================================================\n",
      "Total params: 266,943\n",
      "Trainable params: 266,943\n",
      "Non-trainable params: 0\n",
      "__________________________________________________________________________________________________\n",
      "Train on 56590 samples, validate on 9198 samples\n",
      "Epoch 1/20\n",
      "56590/56590 [==============================] - 40s 698us/step - loss: 1.3049 - acc: 0.7177 - val_loss: 0.8248 - val_acc: 0.8078\n",
      "Epoch 2/20\n",
      "56590/56590 [==============================] - 37s 659us/step - loss: 0.4364 - acc: 0.8964 - val_loss: 0.3311 - val_acc: 0.9263\n",
      "Epoch 3/20\n",
      "56590/56590 [==============================] - 37s 652us/step - loss: 0.1823 - acc: 0.9578 - val_loss: 0.2338 - val_acc: 0.9501\n",
      "Epoch 4/20\n",
      "56590/56590 [==============================] - 36s 643us/step - loss: 0.1142 - acc: 0.9734 - val_loss: 0.1739 - val_acc: 0.9635\n",
      "Epoch 5/20\n",
      "56590/56590 [==============================] - 37s 654us/step - loss: 0.0829 - acc: 0.9809 - val_loss: 0.1519 - val_acc: 0.9681\n",
      "Epoch 6/20\n",
      "56590/56590 [==============================] - 42s 747us/step - loss: 0.0660 - acc: 0.9843 - val_loss: 0.1684 - val_acc: 0.9631\n",
      "Epoch 7/20\n",
      "56590/56590 [==============================] - 40s 714us/step - loss: 0.0531 - acc: 0.9867 - val_loss: 0.1632 - val_acc: 0.9672\n",
      "Epoch 8/20\n",
      "56590/56590 [==============================] - 40s 702us/step - loss: 0.0476 - acc: 0.9880 - val_loss: 0.1535 - val_acc: 0.9702\n",
      "Epoch 9/20\n",
      "56590/56590 [==============================] - 40s 707us/step - loss: 0.0404 - acc: 0.9891 - val_loss: 0.1509 - val_acc: 0.9702\n",
      "Epoch 10/20\n",
      "56590/56590 [==============================] - 39s 681us/step - loss: 0.0355 - acc: 0.9902 - val_loss: 0.1553 - val_acc: 0.9724\n",
      "Epoch 11/20\n",
      "56590/56590 [==============================] - 32s 573us/step - loss: 0.0299 - acc: 0.9916 - val_loss: 0.1626 - val_acc: 0.9681\n",
      "Epoch 12/20\n",
      "56590/56590 [==============================] - 24s 420us/step - loss: 0.0276 - acc: 0.9922 - val_loss: 0.1558 - val_acc: 0.9717\n",
      "Epoch 13/20\n",
      "56590/56590 [==============================] - 23s 415us/step - loss: 0.0268 - acc: 0.9921 - val_loss: 0.1375 - val_acc: 0.9760\n",
      "Epoch 14/20\n",
      "56590/56590 [==============================] - 22s 380us/step - loss: 0.0210 - acc: 0.9939 - val_loss: 0.1577 - val_acc: 0.9735\n",
      "Epoch 15/20\n",
      "56590/56590 [==============================] - 21s 373us/step - loss: 0.0178 - acc: 0.9946 - val_loss: 0.1602 - val_acc: 0.9713\n",
      "Epoch 16/20\n",
      "56590/56590 [==============================] - 21s 374us/step - loss: 0.0191 - acc: 0.9943 - val_loss: 0.1598 - val_acc: 0.9731\n",
      "Epoch 17/20\n",
      "56590/56590 [==============================] - 22s 383us/step - loss: 0.0149 - acc: 0.9954 - val_loss: 0.1648 - val_acc: 0.9738\n",
      "Epoch 18/20\n",
      "56590/56590 [==============================] - 21s 365us/step - loss: 0.0137 - acc: 0.9959 - val_loss: 0.1584 - val_acc: 0.9704\n",
      "Epoch 19/20\n",
      "56590/56590 [==============================] - 20s 347us/step - loss: 0.0144 - acc: 0.9958 - val_loss: 0.1623 - val_acc: 0.9741\n",
      "Epoch 20/20\n",
      "56590/56590 [==============================] - 19s 339us/step - loss: 0.0096 - acc: 0.9970 - val_loss: 0.1675 - val_acc: 0.9746\n"
     ]
    }
   ],
   "source": [
    "# build the model: Simple LSTM with embedings\n",
    "print('Build model 1')\n",
    "seq_input = tf.keras.layers.Input(shape=([input_seq_length]), name='prev') \n",
    "    \n",
    "embeds = tf.keras.layers.Embedding(input_vocabulary_size, embedding_size)(seq_input)\n",
    "\n",
    "# Bidirectional LSTM\n",
    "forwards  = tf.keras.layers.LSTM(num_hidden_lstm, return_sequences=False, name='Forward')(embeds)\n",
    "backwards = tf.keras.layers.LSTM(num_hidden_lstm, return_sequences=False, go_backwards=True, name='Backward')(embeds)\n",
    "rnn_out = tf.keras.layers.concatenate([forwards, backwards], axis=-1, name='Forward_Backward')\n",
    "\n",
    "output = tf.keras.layers.Dense(output_length, activation='softmax')(rnn_out)\n",
    "\n",
    "model1 = tf.keras.models.Model(inputs=seq_input, outputs=output)\n",
    "model1.summary()\n",
    "\n",
    "# Optimizer\n",
    "adam_optimizer = tf.keras.optimizers.Adam()\n",
    "model1.compile(loss='sparse_categorical_crossentropy', optimizer=adam_optimizer, metrics=['accuracy'])\n",
    "\n",
    "#Fit model\n",
    "tb_callback_bilstm = tf.keras.callbacks.TensorBoard(log_dir='../../data/tensorboard/airline/BILSTM/')\n",
    "history1 = model1.fit(X_trn, y_trn, batch_size=128, epochs=20,\n",
    "                      validation_data=(X_tst, y_tst), callbacks=[tb_callback_bilstm])\n"
   ]
  },
  {
   "cell_type": "markdown",
   "metadata": {},
   "source": [
    "# Stacked LSTM model"
   ]
  },
  {
   "cell_type": "code",
   "execution_count": 6,
   "metadata": {},
   "outputs": [
    {
     "name": "stdout",
     "output_type": "stream",
     "text": [
      "Build model 1\n",
      "_________________________________________________________________\n",
      "Layer (type)                 Output Shape              Param #   \n",
      "=================================================================\n",
      "prev (InputLayer)            (None, 10)                0         \n",
      "_________________________________________________________________\n",
      "embedding_2 (Embedding)      (None, 10, 64)            36672     \n",
      "_________________________________________________________________\n",
      "Forward1 (LSTM)              (None, 10, 128)           98816     \n",
      "_________________________________________________________________\n",
      "Forward2 (LSTM)              (None, 128)               131584    \n",
      "_________________________________________________________________\n",
      "dense_2 (Dense)              (None, 127)               16383     \n",
      "=================================================================\n",
      "Total params: 283,455\n",
      "Trainable params: 283,455\n",
      "Non-trainable params: 0\n",
      "_________________________________________________________________\n",
      "Train on 56590 samples, validate on 9198 samples\n",
      "Epoch 1/20\n",
      "56590/56590 [==============================] - 24s 419us/step - loss: 1.5313 - acc: 0.6781 - val_loss: 1.1141 - val_acc: 0.7520\n",
      "Epoch 2/20\n",
      "56590/56590 [==============================] - 23s 405us/step - loss: 0.7132 - acc: 0.8310 - val_loss: 0.6473 - val_acc: 0.8548\n",
      "Epoch 3/20\n",
      "56590/56590 [==============================] - 23s 405us/step - loss: 0.4085 - acc: 0.9039 - val_loss: 0.4117 - val_acc: 0.9052\n",
      "Epoch 4/20\n",
      "56590/56590 [==============================] - 23s 408us/step - loss: 0.2745 - acc: 0.9319 - val_loss: 0.3430 - val_acc: 0.9172\n",
      "Epoch 5/20\n",
      "56590/56590 [==============================] - 23s 403us/step - loss: 0.2092 - acc: 0.9484 - val_loss: 0.2948 - val_acc: 0.9346\n",
      "Epoch 6/20\n",
      "56590/56590 [==============================] - 23s 401us/step - loss: 0.1665 - acc: 0.9597 - val_loss: 0.2165 - val_acc: 0.9512\n",
      "Epoch 7/20\n",
      "56590/56590 [==============================] - 23s 402us/step - loss: 0.1256 - acc: 0.9702 - val_loss: 0.2000 - val_acc: 0.9555\n",
      "Epoch 8/20\n",
      "56590/56590 [==============================] - 23s 399us/step - loss: 0.1063 - acc: 0.9745 - val_loss: 0.2156 - val_acc: 0.9544\n",
      "Epoch 9/20\n",
      "56590/56590 [==============================] - 23s 403us/step - loss: 0.0908 - acc: 0.9786 - val_loss: 0.1614 - val_acc: 0.9651\n",
      "Epoch 10/20\n",
      "56590/56590 [==============================] - 23s 401us/step - loss: 0.0757 - acc: 0.9825 - val_loss: 0.1551 - val_acc: 0.9665\n",
      "Epoch 11/20\n",
      "56590/56590 [==============================] - 23s 401us/step - loss: 0.0629 - acc: 0.9848 - val_loss: 0.1715 - val_acc: 0.9649\n",
      "Epoch 12/20\n",
      "56590/56590 [==============================] - 24s 415us/step - loss: 0.0596 - acc: 0.9852 - val_loss: 0.1655 - val_acc: 0.9676\n",
      "Epoch 13/20\n",
      "56590/56590 [==============================] - 26s 454us/step - loss: 0.0513 - acc: 0.9873 - val_loss: 0.1753 - val_acc: 0.9634\n",
      "Epoch 14/20\n",
      "56590/56590 [==============================] - 24s 423us/step - loss: 0.0468 - acc: 0.9880 - val_loss: 0.1379 - val_acc: 0.9721\n",
      "Epoch 15/20\n",
      "56590/56590 [==============================] - 24s 422us/step - loss: 0.0440 - acc: 0.9883 - val_loss: 0.4091 - val_acc: 0.9023\n",
      "Epoch 16/20\n",
      "56590/56590 [==============================] - 23s 407us/step - loss: 0.0420 - acc: 0.9890 - val_loss: 0.1783 - val_acc: 0.9685\n",
      "Epoch 17/20\n",
      "56590/56590 [==============================] - 23s 406us/step - loss: 0.0353 - acc: 0.9908 - val_loss: 0.1480 - val_acc: 0.9689\n",
      "Epoch 18/20\n",
      "56590/56590 [==============================] - 23s 407us/step - loss: 0.0329 - acc: 0.9913 - val_loss: 0.1510 - val_acc: 0.9740\n",
      "Epoch 19/20\n",
      "56590/56590 [==============================] - 23s 406us/step - loss: 0.0342 - acc: 0.9906 - val_loss: 0.1691 - val_acc: 0.9709\n",
      "Epoch 20/20\n",
      "56590/56590 [==============================] - 23s 404us/step - loss: 0.0306 - acc: 0.9912 - val_loss: 0.1734 - val_acc: 0.9703\n"
     ]
    }
   ],
   "source": [
    "# build the model: Simple LSTM with embedings\n",
    "print('Build model 1')\n",
    "seq_input = tf.keras.layers.Input(shape=([input_seq_length]), name='prev') \n",
    "    \n",
    "embeds = tf.keras.layers.Embedding(input_vocabulary_size, embedding_size)(seq_input)\n",
    "\n",
    "# Stacked LSTM\n",
    "forwards1 = tf.keras.layers.LSTM(num_hidden_lstm, return_sequences=True,  name='Forward1')(embeds)\n",
    "forwards2 = tf.keras.layers.LSTM(num_hidden_lstm, return_sequences=False, name='Forward2')(forwards1)\n",
    "\n",
    "output = tf.keras.layers.Dense(output_length, activation='softmax')(forwards2)\n",
    "\n",
    "model2 = tf.keras.models.Model(inputs=seq_input, outputs=output)\n",
    "model2.summary()\n",
    "\n",
    "# Optimizer\n",
    "adam_optimizer = tf.keras.optimizers.Adam()\n",
    "model2.compile(loss='sparse_categorical_crossentropy', optimizer=adam_optimizer, metrics=['accuracy'])\n",
    "\n",
    "\n",
    "#Fit model\n",
    "tb_callback_lstm2 = tf.keras.callbacks.TensorBoard(log_dir='../../data/tensorboard/airline/LSTM2/')\n",
    "history2 = model2.fit(X_trn, y_trn, batch_size=128, epochs=20,\n",
    "                      validation_data=(X_tst, y_tst), callbacks=[tb_callback_lstm2])\n"
   ]
  },
  {
   "cell_type": "markdown",
   "metadata": {},
   "source": [
    "# Bidirectional stacked LSTM model"
   ]
  },
  {
   "cell_type": "code",
   "execution_count": 7,
   "metadata": {},
   "outputs": [
    {
     "name": "stdout",
     "output_type": "stream",
     "text": [
      "Build model 1\n",
      "__________________________________________________________________________________________________\n",
      "Layer (type)                    Output Shape         Param #     Connected to                     \n",
      "==================================================================================================\n",
      "prev (InputLayer)               (None, 10)           0                                            \n",
      "__________________________________________________________________________________________________\n",
      "embedding_3 (Embedding)         (None, 10, 64)       36672       prev[0][0]                       \n",
      "__________________________________________________________________________________________________\n",
      "Forward1 (LSTM)                 (None, 10, 128)      98816       embedding_3[0][0]                \n",
      "__________________________________________________________________________________________________\n",
      "Backward1 (LSTM)                (None, 10, 128)      98816       embedding_3[0][0]                \n",
      "__________________________________________________________________________________________________\n",
      "Forward_Backward1 (Concatenate) (None, 10, 256)      0           Forward1[0][0]                   \n",
      "                                                                 Backward1[0][0]                  \n",
      "__________________________________________________________________________________________________\n",
      "Forward2 (LSTM)                 (None, 128)          197120      Forward_Backward1[0][0]          \n",
      "__________________________________________________________________________________________________\n",
      "Backward2 (LSTM)                (None, 128)          197120      Forward_Backward1[0][0]          \n",
      "__________________________________________________________________________________________________\n",
      "Forward_Backward2 (Concatenate) (None, 256)          0           Forward2[0][0]                   \n",
      "                                                                 Backward2[0][0]                  \n",
      "__________________________________________________________________________________________________\n",
      "dense_3 (Dense)                 (None, 127)          32639       Forward_Backward2[0][0]          \n",
      "==================================================================================================\n",
      "Total params: 661,183\n",
      "Trainable params: 661,183\n",
      "Non-trainable params: 0\n",
      "__________________________________________________________________________________________________\n",
      "Train on 56590 samples, validate on 9198 samples\n",
      "Epoch 1/20\n",
      "56590/56590 [==============================] - 58s 1ms/step - loss: 1.3136 - acc: 0.7134 - val_loss: 0.8583 - val_acc: 0.7903\n",
      "Epoch 2/20\n",
      "56590/56590 [==============================] - 57s 1ms/step - loss: 0.4854 - acc: 0.8783 - val_loss: 0.4019 - val_acc: 0.9052\n",
      "Epoch 3/20\n",
      "56590/56590 [==============================] - 57s 1ms/step - loss: 0.1948 - acc: 0.9511 - val_loss: 0.2424 - val_acc: 0.9499\n",
      "Epoch 4/20\n",
      "56590/56590 [==============================] - 59s 1ms/step - loss: 0.1103 - acc: 0.9730 - val_loss: 0.1915 - val_acc: 0.9610\n",
      "Epoch 5/20\n",
      "56590/56590 [==============================] - 62s 1ms/step - loss: 0.0795 - acc: 0.9802 - val_loss: 0.1743 - val_acc: 0.9644\n",
      "Epoch 6/20\n",
      "56590/56590 [==============================] - 61s 1ms/step - loss: 0.0624 - acc: 0.9839 - val_loss: 0.1795 - val_acc: 0.9638\n",
      "Epoch 7/20\n",
      "56590/56590 [==============================] - 57s 1ms/step - loss: 0.0512 - acc: 0.9868 - val_loss: 0.1520 - val_acc: 0.9691\n",
      "Epoch 8/20\n",
      "56590/56590 [==============================] - 57s 1ms/step - loss: 0.0444 - acc: 0.9880 - val_loss: 0.1542 - val_acc: 0.9681\n",
      "Epoch 9/20\n",
      "56590/56590 [==============================] - 57s 999us/step - loss: 0.0380 - acc: 0.9894 - val_loss: 0.1664 - val_acc: 0.9667\n",
      "Epoch 10/20\n",
      "56590/56590 [==============================] - 56s 985us/step - loss: 0.0361 - acc: 0.9895 - val_loss: 0.1554 - val_acc: 0.9716\n",
      "Epoch 11/20\n",
      "56590/56590 [==============================] - 55s 978us/step - loss: 0.0298 - acc: 0.9911 - val_loss: 0.1501 - val_acc: 0.9713\n",
      "Epoch 12/20\n",
      "56590/56590 [==============================] - 55s 973us/step - loss: 0.0249 - acc: 0.9929 - val_loss: 0.1582 - val_acc: 0.9716\n",
      "Epoch 13/20\n",
      "56590/56590 [==============================] - 55s 978us/step - loss: 0.0225 - acc: 0.9927 - val_loss: 0.1602 - val_acc: 0.9710\n",
      "Epoch 14/20\n",
      "56590/56590 [==============================] - 55s 976us/step - loss: 0.0193 - acc: 0.9938 - val_loss: 0.1782 - val_acc: 0.9708\n",
      "Epoch 15/20\n",
      "56590/56590 [==============================] - 55s 980us/step - loss: 0.0172 - acc: 0.9950 - val_loss: 0.1771 - val_acc: 0.9711\n",
      "Epoch 16/20\n",
      "56590/56590 [==============================] - 55s 973us/step - loss: 0.0226 - acc: 0.9926 - val_loss: 0.1513 - val_acc: 0.9733\n",
      "Epoch 17/20\n",
      "56590/56590 [==============================] - 55s 968us/step - loss: 0.0139 - acc: 0.9954 - val_loss: 0.1828 - val_acc: 0.9713\n",
      "Epoch 18/20\n",
      "56590/56590 [==============================] - 53s 929us/step - loss: 0.0133 - acc: 0.9957 - val_loss: 0.1893 - val_acc: 0.9715\n",
      "Epoch 19/20\n",
      "56590/56590 [==============================] - 52s 925us/step - loss: 0.0096 - acc: 0.9970 - val_loss: 0.1753 - val_acc: 0.9718\n",
      "Epoch 20/20\n",
      "56590/56590 [==============================] - 54s 956us/step - loss: 0.0114 - acc: 0.9965 - val_loss: 0.1815 - val_acc: 0.9736\n"
     ]
    }
   ],
   "source": [
    "# build the model: Bidirectional stacked LSTM with embedings\n",
    "print('Build model 1')\n",
    "seq_input = tf.keras.layers.Input(shape=([input_seq_length]), name='prev') \n",
    "    \n",
    "embeds = tf.keras.layers.Embedding(input_vocabulary_size, embedding_size)(seq_input)\n",
    "\n",
    "# Bidirectional LSTM 1\n",
    "forwards1  = tf.keras.layers.LSTM(num_hidden_lstm, return_sequences=True, name='Forward1')(embeds)\n",
    "backwards1 = tf.keras.layers.LSTM(num_hidden_lstm, return_sequences=True, go_backwards=True, name='Backward1')(embeds)\n",
    "rnn_out1 = tf.keras.layers.concatenate([forwards1, backwards1], axis=-1, name='Forward_Backward1')\n",
    "\n",
    "# Bidirectional LSTM 1\n",
    "forwards2  = tf.keras.layers.LSTM(num_hidden_lstm, return_sequences=False, name='Forward2')(rnn_out1)\n",
    "backwards2 = tf.keras.layers.LSTM(num_hidden_lstm, return_sequences=False, go_backwards=True, name='Backward2')(rnn_out1)\n",
    "rnn_out2 = tf.keras.layers.concatenate([forwards2, backwards2], axis=-1, name='Forward_Backward2')\n",
    "\n",
    "\n",
    "output = tf.keras.layers.Dense(output_length, activation='softmax')(rnn_out2)\n",
    "\n",
    "model3 = tf.keras.models.Model(inputs=seq_input, outputs=output)\n",
    "model3.summary()\n",
    "\n",
    "# Optimizer\n",
    "adam_optimizer = tf.keras.optimizers.Adam()\n",
    "model3.compile(loss='sparse_categorical_crossentropy', optimizer=adam_optimizer, metrics=['accuracy'])\n",
    "\n",
    "\n",
    "#Fit model\n",
    "tb_callback_bilstm2 = tf.keras.callbacks.TensorBoard(log_dir='../../data/tensorboard/airline/BILSTM2/')\n",
    "history3 = model3.fit(X_trn, y_trn, batch_size=128, epochs=20,\n",
    "                      validation_data=(X_tst, y_tst), callbacks=[tb_callback_bilstm2])\n"
   ]
  },
  {
   "cell_type": "code",
   "execution_count": 8,
   "metadata": {},
   "outputs": [
    {
     "data": {
      "image/png": "[encoded data removed]",
      "text/plain": [
       "<Figure size 720x720 with 1 Axes>"
      ]
     },
     "metadata": {},
     "output_type": "display_data"
    }
   ],
   "source": [
    "# Compare validation of the 3 models\n",
    "plt.rcParams['figure.figsize'] = (10, 10)\n",
    "\n",
    "plt.plot(history1.history['val_acc'], label='BLSTM')\n",
    "plt.plot(history2.history['val_acc'], label='Stacked LSTM')\n",
    "plt.plot(history3.history['val_acc'], label='Stacked BLSTM')\n",
    "plt.legend(loc='lower right')\n",
    "plt.show()"
   ]
  },
  {
   "cell_type": "code",
   "execution_count": null,
   "metadata": {},
   "outputs": [],
   "source": []
  }
 ],
 "metadata": {
  "anaconda-cloud": {},
  "kernelspec": {
   "display_name": "Python [conda env:tm]",
   "language": "python",
   "name": "conda-env-tm-py"
  },
  "language_info": {
   "codemirror_mode": {
    "name": "ipython",
    "version": 3
   },
   "file_extension": ".py",
   "mimetype": "text/x-python",
   "name": "python",
   "nbconvert_exporter": "python",
   "pygments_lexer": "ipython3",
   "version": "3.6.5"
  }
 },
 "nbformat": 4,
 "nbformat_minor": 2
}
