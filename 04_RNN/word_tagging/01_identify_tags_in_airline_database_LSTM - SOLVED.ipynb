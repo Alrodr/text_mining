{
 "cells": [
  {
   "cell_type": "markdown",
   "metadata": {},
   "source": [
    "# Identify tags in airline database\n",
    "\n",
    "## LSTM network\n",
    "\n",
    "    - Improving the model of: 00_identify_tags_in_airline_database_embedings - SOLVED  \n"
   ]
  },
  {
   "cell_type": "code",
   "execution_count": 1,
   "metadata": {},
   "outputs": [
    {
     "name": "stderr",
     "output_type": "stream",
     "text": [
      "/Users/jorge/anaconda3/envs/tm/lib/python3.6/site-packages/h5py/__init__.py:36: FutureWarning: Conversion of the second argument of issubdtype from `float` to `np.floating` is deprecated. In future, it will be treated as `np.float64 == np.dtype(float).type`.\n",
      "  from ._conv import register_converters as _register_converters\n"
     ]
    },
    {
     "name": "stdout",
     "output_type": "stream",
     "text": [
      "1.7.0\n"
     ]
    }
   ],
   "source": [
    "from __future__ import print_function\n",
    "\n",
    "import sys\n",
    "import os \n",
    "import numpy as np \n",
    "import tensorflow as tf \n",
    "print(tf.__version__)\n",
    "\n",
    "#Show images\n",
    "import matplotlib.pyplot as plt\n",
    "%matplotlib inline\n",
    "# plt configuration\n",
    "plt.rcParams['figure.figsize'] = (10, 10)\n"
   ]
  },
  {
   "cell_type": "markdown",
   "metadata": {},
   "source": [
    "## Dataset transformation\n"
   ]
  },
  {
   "cell_type": "code",
   "execution_count": 2,
   "metadata": {},
   "outputs": [
    {
     "name": "stdout",
     "output_type": "stream",
     "text": [
      "ID_PAD:  572\n",
      "X trn shape:  (56590, 10)\n",
      "X_tst shape:  (9198, 10)\n",
      "y_trn shape:  (56590,)\n",
      "y_tst shape:  (9198,)\n",
      "Num labels:  121\n",
      "Num words:  572\n"
     ]
    }
   ],
   "source": [
    "# Read data\n",
    "import pickle\n",
    "\n",
    "atis_file = '../../data/atis/atis.pkl'\n",
    "\n",
    "with open(atis_file,'rb') as f:\n",
    "    if sys.version_info.major==2:\n",
    "        train, test, dicts = pickle.load(f) #python2.7\n",
    "    else:\n",
    "        train, test, dicts = pickle.load(f, encoding='bytes') #python3\n",
    "\n",
    "#Dictionaries and train test partition\n",
    "w2idx, ne2idx, labels2idx = dicts[b'words2idx'], dicts[b'tables2idx'], dicts[b'labels2idx']\n",
    "    \n",
    "idx2w  = dict((v,k) for k,v in w2idx.items())\n",
    "idx2la = dict((v,k) for k,v in labels2idx.items())\n",
    "\n",
    "train_x, _, train_label = train\n",
    "test_x,  _,  test_label  = test\n",
    "\n",
    "\n",
    "# Max value of word coding to assign the ID_PAD\n",
    "ID_PAD = np.max([np.max(tx) for tx in train_x]) + 1\n",
    "print('ID_PAD: ', ID_PAD)\n",
    "\n",
    "def context(l, size=3):\n",
    "    l = list(l)\n",
    "    lpadded = size // 2 * [ID_PAD] + l + size // 2 * [ID_PAD]\n",
    "    out = [lpadded[i:(i + size)] for i in range(len(l))]\n",
    "    return out\n",
    "\n",
    "\n",
    "# Create train and test X y.\n",
    "X_trn=[]\n",
    "for s in train_x:\n",
    "    X_trn += context(s,size=10)\n",
    "X_trn = np.array(X_trn)\n",
    "\n",
    "X_tst=[]\n",
    "for s in test_x:\n",
    "    X_tst += context(s,size=10)\n",
    "X_tst = np.array(X_tst)\n",
    "\n",
    "print('X trn shape: ', X_trn.shape)\n",
    "print('X_tst shape: ',X_tst.shape)\n",
    "\n",
    "\n",
    "y_trn=[]\n",
    "for s in train_label:\n",
    "    y_trn += list(s)\n",
    "y_trn = np.array(y_trn)\n",
    "print('y_trn shape: ',y_trn.shape)\n",
    "\n",
    "y_tst=[]\n",
    "for s in test_label:\n",
    "    y_tst += list(s)\n",
    "y_tst = np.array(y_tst)\n",
    "print('y_tst shape: ',y_tst.shape)\n",
    "\n",
    "\n",
    "print('Num labels: ',len(set(y_trn)))\n",
    "print('Num words: ',len(set(idx2w)))"
   ]
  },
  {
   "cell_type": "markdown",
   "metadata": {},
   "source": [
    "# Simpe LSTM model\n"
   ]
  },
  {
   "cell_type": "code",
   "execution_count": 3,
   "metadata": {},
   "outputs": [],
   "source": [
    "# data attributes\n",
    "input_seq_length = X_trn.shape[1]\n",
    "input_vocabulary_size = len(set(idx2w)) + 1\n",
    "output_length = 127\n",
    "\n",
    "#Model parameters\n",
    "embedding_size=64\n",
    "num_hidden_lstm = 128\n"
   ]
  },
  {
   "cell_type": "code",
   "execution_count": 4,
   "metadata": {},
   "outputs": [
    {
     "name": "stdout",
     "output_type": "stream",
     "text": [
      "Build model 1\n",
      "_________________________________________________________________\n",
      "Layer (type)                 Output Shape              Param #   \n",
      "=================================================================\n",
      "prev (InputLayer)            (None, 10)                0         \n",
      "_________________________________________________________________\n",
      "embedding_1 (Embedding)      (None, 10, 64)            36672     \n",
      "_________________________________________________________________\n",
      "lstm_1 (LSTM)                (None, 128)               98816     \n",
      "_________________________________________________________________\n",
      "dense_1 (Dense)              (None, 127)               16383     \n",
      "=================================================================\n",
      "Total params: 151,871\n",
      "Trainable params: 151,871\n",
      "Non-trainable params: 0\n",
      "_________________________________________________________________\n"
     ]
    }
   ],
   "source": [
    "# build the model: Simple LSTM with embedings\n",
    "\n",
    "print('Build model 1')\n",
    "seq_input = tf.keras.layers.Input(shape=([input_seq_length]), name='prev') \n",
    "    \n",
    "embeds = tf.keras.layers.Embedding(input_vocabulary_size, embedding_size)(seq_input)\n",
    "\n",
    "forwards = tf.keras.layers.LSTM(num_hidden_lstm, return_sequences=False)(embeds)\n",
    "\n",
    "output = tf.keras.layers.Dense(output_length, activation='softmax')(forwards)\n",
    "\n",
    "model1 = tf.keras.models.Model(inputs=seq_input, outputs=output)\n",
    "model1.summary()\n",
    "\n",
    "# Optimizer\n",
    "adam_optimizer = tf.keras.optimizers.Adam()\n",
    "model1.compile(loss='sparse_categorical_crossentropy', optimizer=adam_optimizer, metrics=['accuracy'])\n"
   ]
  },
  {
   "cell_type": "code",
   "execution_count": 5,
   "metadata": {},
   "outputs": [
    {
     "name": "stdout",
     "output_type": "stream",
     "text": [
      "Train on 56590 samples, validate on 9198 samples\n",
      "Epoch 1/20\n",
      "56590/56590 [==============================] - 9s 162us/step - loss: 1.6106 - acc: 0.6588 - val_loss: 1.3052 - val_acc: 0.7008\n",
      "Epoch 2/20\n",
      "56590/56590 [==============================] - 9s 153us/step - loss: 0.8762 - acc: 0.7970 - val_loss: 0.7263 - val_acc: 0.8240\n",
      "Epoch 3/20\n",
      "56590/56590 [==============================] - 9s 163us/step - loss: 0.4855 - acc: 0.8815 - val_loss: 0.5250 - val_acc: 0.8766\n",
      "Epoch 4/20\n",
      "56590/56590 [==============================] - 9s 165us/step - loss: 0.2969 - acc: 0.9287 - val_loss: 0.4178 - val_acc: 0.9012\n",
      "Epoch 5/20\n",
      "56590/56590 [==============================] - 10s 169us/step - loss: 0.2084 - acc: 0.9490 - val_loss: 0.3105 - val_acc: 0.9248\n",
      "Epoch 6/20\n",
      "56590/56590 [==============================] - 10s 173us/step - loss: 0.1590 - acc: 0.9616 - val_loss: 0.2323 - val_acc: 0.9504\n",
      "Epoch 7/20\n",
      "56590/56590 [==============================] - 10s 175us/step - loss: 0.1229 - acc: 0.9705 - val_loss: 0.2075 - val_acc: 0.9522\n",
      "Epoch 8/20\n",
      "56590/56590 [==============================] - 10s 175us/step - loss: 0.1010 - acc: 0.9757 - val_loss: 0.1830 - val_acc: 0.9652\n",
      "Epoch 9/20\n",
      "56590/56590 [==============================] - 10s 178us/step - loss: 0.0877 - acc: 0.9790 - val_loss: 0.1800 - val_acc: 0.9621\n",
      "Epoch 10/20\n",
      "56590/56590 [==============================] - 10s 178us/step - loss: 0.0746 - acc: 0.9824 - val_loss: 0.1545 - val_acc: 0.9701\n",
      "Epoch 11/20\n",
      "56590/56590 [==============================] - 10s 174us/step - loss: 0.0633 - acc: 0.9841 - val_loss: 0.1604 - val_acc: 0.9662\n",
      "Epoch 12/20\n",
      "56590/56590 [==============================] - 10s 175us/step - loss: 0.0549 - acc: 0.9867 - val_loss: 0.1572 - val_acc: 0.9690\n",
      "Epoch 13/20\n",
      "56590/56590 [==============================] - 9s 167us/step - loss: 0.0492 - acc: 0.9878 - val_loss: 0.1540 - val_acc: 0.9699\n",
      "Epoch 14/20\n",
      "56590/56590 [==============================] - 9s 160us/step - loss: 0.0446 - acc: 0.9887 - val_loss: 0.1675 - val_acc: 0.9662\n",
      "Epoch 15/20\n",
      "56590/56590 [==============================] - 10s 176us/step - loss: 0.0398 - acc: 0.9895 - val_loss: 0.1714 - val_acc: 0.9647\n",
      "Epoch 16/20\n",
      "56590/56590 [==============================] - 10s 179us/step - loss: 0.0402 - acc: 0.9896 - val_loss: 0.1476 - val_acc: 0.9716\n",
      "Epoch 17/20\n",
      "56590/56590 [==============================] - 10s 175us/step - loss: 0.0350 - acc: 0.9910 - val_loss: 0.1473 - val_acc: 0.9738\n",
      "Epoch 18/20\n",
      "56590/56590 [==============================] - 10s 178us/step - loss: 0.0305 - acc: 0.9917 - val_loss: 0.1673 - val_acc: 0.9716\n",
      "Epoch 19/20\n",
      "56590/56590 [==============================] - 10s 175us/step - loss: 0.0285 - acc: 0.9922 - val_loss: 0.1616 - val_acc: 0.9694\n",
      "Epoch 20/20\n",
      "56590/56590 [==============================] - 10s 170us/step - loss: 0.0273 - acc: 0.9923 - val_loss: 0.1692 - val_acc: 0.9720\n"
     ]
    }
   ],
   "source": [
    "#Fit model\n",
    "tb_callback = tf.keras.callbacks.TensorBoard(log_dir='../../data/tensorboard/airline/LSTM/')\n",
    "\n",
    "history = model1.fit(X_trn, y_trn, batch_size=128, epochs=20,\n",
    "           validation_data=(X_tst, y_tst), callbacks=[tb_callback])\n"
   ]
  },
  {
   "cell_type": "code",
   "execution_count": 6,
   "metadata": {},
   "outputs": [
    {
     "data": {
      "image/png": "[encoded data removed]",
      "text/plain": [
       "<Figure size 720x720 with 1 Axes>"
      ]
     },
     "metadata": {},
     "output_type": "display_data"
    }
   ],
   "source": [
    "#Plot graphs in the notebook output\n",
    "plt.rcParams['figure.figsize'] = (10, 10)\n",
    "\n",
    "plt.plot(history.history['acc'])\n",
    "plt.plot(history.history['val_acc'])\n",
    "plt.show()"
   ]
  },
  {
   "cell_type": "code",
   "execution_count": 7,
   "metadata": {},
   "outputs": [
    {
     "name": "stdout",
     "output_type": "stream",
     "text": [
      "[[ 15   1   0   5   0   0   0   0   0   0   0   0   0   0   0]\n",
      " [  0  33   0   0   0   0   0   0   0   0   0   0   0   0   0]\n",
      " [  0   0 100   0   0   0   0   0   0   0   0   0   0   0   0]\n",
      " [  0   0   0   4   0   0   0   0   0   0   0   0   0   0   0]\n",
      " [  0   0   0   0   8   0   0   0   0   0   0   0   0   0   0]\n",
      " [  0   0   0   0   0   1   0   0   0   0   0   0   0   0   0]\n",
      " [  0   0   0   0   0   0   8   0   0   0   0   0   0   0   0]\n",
      " [  0   0   0   0   0   0   0   4   0   0   0   0   0   0   0]\n",
      " [  0   0   0   0   0   0   0   0   5   0   0   0   0   0   0]\n",
      " [  0   0   0   0   0   0   0   0   0   6   0   0   1   0   0]\n",
      " [  0   0   0   0   0   0   0   0   0   0   4   0   0   0   0]\n",
      " [  0   0   0   0   0   0   0   0   0   0   0   8   0   0   0]\n",
      " [  0   0   0   0   0   0   0   0   0   0   0   0  34   0   0]\n",
      " [  0   0   0   0   0   0   0   0   0   0   0   0   0  30   0]\n",
      " [  0   0   0   0   0   0   0   0   0   0   0   0   0   0   0]]\n"
     ]
    }
   ],
   "source": [
    "# real vs predict matrix using sklearn\n",
    "from sklearn.metrics import confusion_matrix\n",
    "\n",
    "p_test = model1.predict(X_tst)\n",
    "pred_test = np.argmax(p_test, axis=1)\n",
    "\n",
    "print(confusion_matrix(y_tst, pred_test)[:15,:15])\n"
   ]
  },
  {
   "cell_type": "code",
   "execution_count": null,
   "metadata": {
    "collapsed": true
   },
   "outputs": [],
   "source": []
  }
 ],
 "metadata": {
  "anaconda-cloud": {},
  "kernelspec": {
   "display_name": "Python [conda env:tm]",
   "language": "python",
   "name": "conda-env-tm-py"
  },
  "language_info": {
   "codemirror_mode": {
    "name": "ipython",
    "version": 3
   },
   "file_extension": ".py",
   "mimetype": "text/x-python",
   "name": "python",
   "nbconvert_exporter": "python",
   "pygments_lexer": "ipython3",
   "version": "3.6.5"
  }
 },
 "nbformat": 4,
 "nbformat_minor": 2
}
