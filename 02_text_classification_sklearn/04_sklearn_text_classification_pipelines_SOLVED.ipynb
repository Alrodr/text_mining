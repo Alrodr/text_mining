{
 "cells": [
  {
   "cell_type": "code",
   "execution_count": 1,
   "metadata": {},
   "outputs": [
    {
     "name": "stdout",
     "output_type": "stream",
     "text": [
      "Sklearn version: 0.19.1\n"
     ]
    }
   ],
   "source": [
    "from __future__ import print_function\n",
    "\n",
    "import numpy as np\n",
    "\n",
    "from sklearn import __version__ as sklearn_version\n",
    "print('Sklearn version:', sklearn_version)"
   ]
  },
  {
   "cell_type": "markdown",
   "metadata": {},
   "source": [
    "# The data\n",
    "\n",
    "The 20 newsgroups dataset comprises around 18000 newsgroups posts on 20 topics split in two subsets: one for training (or development) and the other one for testing (or for performance evaluation). The split between the train and test set is based upon a messages posted before and after a specific date.\n"
   ]
  },
  {
   "cell_type": "code",
   "execution_count": 2,
   "metadata": {},
   "outputs": [],
   "source": [
    "from sklearn.datasets import fetch_20newsgroups\n",
    "\n",
    "categories = ['alt.atheism', 'soc.religion.christian', 'comp.graphics', 'sci.med']\n",
    "\n",
    "twenty_train = fetch_20newsgroups(subset='train',\n",
    "                 remove=('headers', 'footers', 'quotes'),\n",
    "                 categories=categories, shuffle=True, random_state=42)\n",
    "\n"
   ]
  },
  {
   "cell_type": "markdown",
   "metadata": {},
   "source": [
    "## Build a pipeline"
   ]
  },
  {
   "cell_type": "code",
   "execution_count": 3,
   "metadata": {},
   "outputs": [
    {
     "data": {
      "text/plain": [
       "Pipeline(memory=None,\n",
       "     steps=[('vect', CountVectorizer(analyzer='word', binary=False, decode_error='strict',\n",
       "        dtype=<class 'numpy.int64'>, encoding='utf-8', input='content',\n",
       "        lowercase=True, max_df=0.95, max_features=5000, min_df=2,\n",
       "        ngram_range=(1, 1), preprocessor=None, stop_words='english',\n",
       "       ...inear_tf=False, use_idf=True)), ('clf', MultinomialNB(alpha=1.0, class_prior=None, fit_prior=True))])"
      ]
     },
     "execution_count": 3,
     "metadata": {},
     "output_type": "execute_result"
    }
   ],
   "source": [
    "#Define the pipeline\n",
    "\n",
    "from sklearn.pipeline import Pipeline\n",
    "\n",
    "from sklearn.feature_extraction.text import CountVectorizer\n",
    "from sklearn.feature_extraction.text import TfidfTransformer\n",
    "from sklearn.naive_bayes import MultinomialNB\n",
    "\n",
    "\n",
    "text_clf = Pipeline([('vect', CountVectorizer(max_df=0.95, min_df=2, max_features=5000, stop_words='english')),\n",
    "                     ('tfidf', TfidfTransformer()),\n",
    "                     ('clf', MultinomialNB()),\n",
    "                    ])\n",
    "\n",
    "# Fit all the pipeline\n",
    "text_clf.fit(twenty_train.data, twenty_train.target)"
   ]
  },
  {
   "cell_type": "code",
   "execution_count": 4,
   "metadata": {},
   "outputs": [
    {
     "name": "stdout",
     "output_type": "stream",
     "text": [
      "Test accuracy: 0.7989347536617842\n"
     ]
    }
   ],
   "source": [
    "#Evaluate test data\n",
    "twenty_test = fetch_20newsgroups(subset='test',\n",
    "                    remove=('headers', 'footers', 'quotes'),\n",
    "                    categories=categories, \n",
    "                    shuffle=True, random_state=42)\n",
    "\n",
    "predicted = text_clf.predict(twenty_test.data)\n",
    "\n",
    "print('Test accuracy:', np.mean(predicted == twenty_test.target))"
   ]
  },
  {
   "cell_type": "markdown",
   "metadata": {},
   "source": [
    "## Change classifier in the pipeline\n",
    "    - LinearSVC\n",
    "    - k-NN\n",
    "    - Random forest"
   ]
  },
  {
   "cell_type": "code",
   "execution_count": 5,
   "metadata": {},
   "outputs": [
    {
     "name": "stdout",
     "output_type": "stream",
     "text": [
      "Test accuracy: 0.8089214380825566\n"
     ]
    }
   ],
   "source": [
    "from sklearn.svm import LinearSVC\n",
    "\n",
    "text_clf_svm = Pipeline([('vect', CountVectorizer(max_df=0.95, min_df=2, max_features=5000, stop_words='english')),\n",
    "                     ('tfidf', TfidfTransformer()),\n",
    "                     ('clf', LinearSVC()),\n",
    "                    ])\n",
    "\n",
    "#Fit\n",
    "_ = text_clf_svm.fit(twenty_train.data, twenty_train.target)\n",
    "\n",
    "# Predict\n",
    "predicted = text_clf_svm.predict(twenty_test.data)\n",
    "\n",
    "# Evaluate accuracy\n",
    "print('Test accuracy:', np.mean(predicted == twenty_test.target))        "
   ]
  },
  {
   "cell_type": "code",
   "execution_count": 6,
   "metadata": {},
   "outputs": [
    {
     "name": "stdout",
     "output_type": "stream",
     "text": [
      "Test accuracy: 0.2529960053262317\n"
     ]
    }
   ],
   "source": [
    "from sklearn.neighbors import KNeighborsClassifier\n",
    "\n",
    "text_clf = Pipeline([('vect', CountVectorizer(max_df=0.95, min_df=2, max_features=5000, stop_words='english')),\n",
    "                     ('tfidf', TfidfTransformer()),\n",
    "                     ('clf', KNeighborsClassifier(n_neighbors=20)),\n",
    "                    ])\n",
    "\n",
    "_ = text_clf.fit(twenty_train.data, twenty_train.target)\n",
    "predicted = text_clf.predict(twenty_test.data)\n",
    "print('Test accuracy:', np.mean(predicted == twenty_test.target))"
   ]
  },
  {
   "cell_type": "code",
   "execution_count": 7,
   "metadata": {},
   "outputs": [
    {
     "name": "stdout",
     "output_type": "stream",
     "text": [
      "Test accuracy: 0.7430093209054593\n"
     ]
    }
   ],
   "source": [
    "from sklearn.ensemble import RandomForestClassifier\n",
    "\n",
    "text_clf = Pipeline([('vect', CountVectorizer(max_df=0.95, min_df=2, max_features=5000, stop_words='english')),\n",
    "                     ('tfidf', TfidfTransformer()),\n",
    "                     ('clf', RandomForestClassifier(n_estimators=100)),\n",
    "                    ])\n",
    "\n",
    "_ = text_clf.fit(twenty_train.data, twenty_train.target)\n",
    "predicted = text_clf.predict(twenty_test.data)\n",
    "print('Test accuracy:', np.mean(predicted == twenty_test.target))"
   ]
  },
  {
   "cell_type": "code",
   "execution_count": null,
   "metadata": {},
   "outputs": [],
   "source": []
  },
  {
   "cell_type": "markdown",
   "metadata": {},
   "source": [
    "## Use features from a factorization instead the provided by the tf-idf"
   ]
  },
  {
   "cell_type": "code",
   "execution_count": 8,
   "metadata": {},
   "outputs": [
    {
     "data": {
      "text/plain": [
       "(2257, 5000)"
      ]
     },
     "execution_count": 8,
     "metadata": {},
     "output_type": "execute_result"
    }
   ],
   "source": [
    "# Text preprocessing, tokenizing and filtering of stopwords\n",
    "from sklearn.feature_extraction.text import CountVectorizer\n",
    "\n",
    "tf_vectorizer = CountVectorizer(max_df=0.95, min_df=2,\n",
    "                                max_features=5000,\n",
    "                                stop_words='english')\n",
    "X_train_counts = tf_vectorizer.fit_transform(twenty_train.data)\n",
    "X_train_counts.shape"
   ]
  },
  {
   "cell_type": "code",
   "execution_count": 11,
   "metadata": {},
   "outputs": [
    {
     "name": "stdout",
     "output_type": "stream",
     "text": [
      "CPU times: user 4 s, sys: 48.8 ms, total: 4.05 s\n",
      "Wall time: 4.12 s\n"
     ]
    }
   ],
   "source": [
    "%%time\n",
    "\n",
    "from sklearn.decomposition import  LatentDirichletAllocation\n",
    "\n",
    "n_components = 6\n",
    "n_top_words = 20\n",
    "\n",
    "lda = LatentDirichletAllocation(n_components=n_components,\n",
    "                                max_iter=5,\n",
    "                                learning_method='online',\n",
    "                                learning_offset=50.,\n",
    "                                random_state=0)\n",
    "lda.fit(X_train_counts)\n"
   ]
  },
  {
   "cell_type": "code",
   "execution_count": 13,
   "metadata": {},
   "outputs": [
    {
     "data": {
      "text/plain": [
       "(2257, 6)"
      ]
     },
     "execution_count": 13,
     "metadata": {},
     "output_type": "execute_result"
    }
   ],
   "source": [
    "lda.transform(X_train_counts).shape"
   ]
  },
  {
   "cell_type": "code",
   "execution_count": 10,
   "metadata": {},
   "outputs": [
    {
     "name": "stdout",
     "output_type": "stream",
     "text": [
      "Topic #0:\n",
      "church pope catholic marriage authority married orthodox canon schism mass liturgy bishop ceremony st churches catholics does priest jurisdiction coptic\n",
      "Topic #1:\n",
      "image file jpeg use program files images gif color know format does thanks graphics software using version bit available like\n",
      "Topic #2:\n",
      "edu com graphics mail send pub keyboard ftp data computer information cs systems software ca faq available gov contact pc\n",
      "Topic #3:\n",
      "god people think don jesus just does believe know say like time bible way things good true life christian question\n",
      "Topic #4:\n",
      "health use medical years people disease food msg new patients like don doctor research time 1993 10 day know just\n",
      "Topic #5:\n",
      "banks gordon skepticism edu soon pitt geb intellect chastity n3jxp dsl shameful cadre surrender father spirit son holy int col\n",
      "\n"
     ]
    }
   ],
   "source": [
    "def print_top_words(model, feature_names, n_top_words):\n",
    "    for topic_idx, topic in enumerate(model.components_):\n",
    "        print(\"Topic #%d:\" % topic_idx)\n",
    "        print(\" \".join([feature_names[i]\n",
    "                        for i in topic.argsort()[:-n_top_words - 1:-1]]))\n",
    "    print()\n",
    "\n",
    "tf_feature_names = tf_vectorizer.get_feature_names()\n",
    "print_top_words(lda, tf_feature_names, n_top_words)"
   ]
  },
  {
   "cell_type": "code",
   "execution_count": null,
   "metadata": {
    "collapsed": true
   },
   "outputs": [],
   "source": []
  },
  {
   "cell_type": "markdown",
   "metadata": {},
   "source": [
    "## Pipeline with factorization"
   ]
  },
  {
   "cell_type": "code",
   "execution_count": 15,
   "metadata": {},
   "outputs": [
    {
     "name": "stdout",
     "output_type": "stream",
     "text": [
      "Test accuracy: 0.7003994673768309\n",
      "CPU times: user 46.9 s, sys: 3.74 s, total: 50.6 s\n",
      "Wall time: 50.7 s\n"
     ]
    }
   ],
   "source": [
    "%%time\n",
    "\n",
    "from sklearn.neighbors import KNeighborsClassifier\n",
    "\n",
    "text_lda_knn = Pipeline([('vect', CountVectorizer(max_df=0.95, min_df=2, max_features=10000, stop_words='english')),\n",
    "                         ('lda', LatentDirichletAllocation(n_components=150, max_iter=15,\n",
    "                                 learning_method='online',\n",
    "                                 learning_offset=200.,\n",
    "                                 random_state=0)),\n",
    "                         ('clf', KNeighborsClassifier(n_neighbors=10))\n",
    "                        ])\n",
    "\n",
    "                         \n",
    "_ = text_lda_knn.fit(twenty_train.data, twenty_train.target)\n",
    "predicted = text_lda_knn.predict(twenty_test.data)\n",
    "print('Test accuracy:', np.mean(predicted == twenty_test.target))"
   ]
  },
  {
   "cell_type": "code",
   "execution_count": 16,
   "metadata": {},
   "outputs": [
    {
     "name": "stdout",
     "output_type": "stream",
     "text": [
      "Test accuracy: 0.6970705725699068\n",
      "CPU times: user 47.4 s, sys: 3.68 s, total: 51 s\n",
      "Wall time: 51 s\n"
     ]
    }
   ],
   "source": [
    "%%time\n",
    "\n",
    "from sklearn.ensemble import RandomForestClassifier\n",
    "\n",
    "text_lda_rf = Pipeline([('vect', CountVectorizer(max_df=0.95, min_df=2, max_features=10000, stop_words='english')),\n",
    "                         ('lda', LatentDirichletAllocation(n_components=150, max_iter=15,\n",
    "                                 learning_method='online',\n",
    "                                 learning_offset=200.,\n",
    "                                 random_state=0)),\n",
    "                         ('clf', RandomForestClassifier(n_estimators=100)),\n",
    "                        ])\n",
    "\n",
    "                         \n",
    "_ = text_lda_rf.fit(twenty_train.data, twenty_train.target)\n",
    "\n",
    "predicted = text_lda_rf.predict(twenty_test.data)\n",
    "print('Test accuracy:', np.mean(predicted == twenty_test.target))"
   ]
  },
  {
   "cell_type": "code",
   "execution_count": null,
   "metadata": {
    "collapsed": true
   },
   "outputs": [],
   "source": []
  },
  {
   "cell_type": "markdown",
   "metadata": {},
   "source": [
    "## Optimize a pipeline"
   ]
  },
  {
   "cell_type": "code",
   "execution_count": 20,
   "metadata": {},
   "outputs": [
    {
     "name": "stdout",
     "output_type": "stream",
     "text": [
      "Done!\n",
      "CPU times: user 19.7 s, sys: 323 ms, total: 20 s\n",
      "Wall time: 20.2 s\n"
     ]
    }
   ],
   "source": [
    "%%time\n",
    "\n",
    "from sklearn.model_selection import RandomizedSearchCV\n",
    "\n",
    "# Define estimator. No parameters of the search\n",
    "clf = Pipeline([('vect', CountVectorizer(max_df=0.95, min_df=2)),\n",
    "                ('tfidf', TfidfTransformer()),\n",
    "                ('clf', LinearSVC()),\n",
    "                ])\n",
    "\n",
    "# Specify parameters and distributions to sample from\n",
    "# Parameters of pipelines can be set using ‘__’ separated parameter names:\n",
    "param_dist = {\"vect__max_features\": [1000, 2500, 5000, 7500, 10000, None], \n",
    "              \"vect__stop_words\": ['english', None], \n",
    "              \"clf__C\": [.1, .5, 1., 1.5, 2.]}\n",
    "\n",
    "# Define randomized search\n",
    "n_iter_search = 10\n",
    "random_search = RandomizedSearchCV(clf, param_distributions=param_dist, n_iter=n_iter_search, return_train_score=True)\n",
    "\n",
    "# Run the randomized search\n",
    "random_search.fit(twenty_train.data, twenty_train.target)\n",
    "\n",
    "print(\"Done!\")"
   ]
  },
  {
   "cell_type": "code",
   "execution_count": 21,
   "metadata": {},
   "outputs": [
    {
     "data": {
      "text/html": [
       "<div>\n",
       "<style scoped>\n",
       "    .dataframe tbody tr th:only-of-type {\n",
       "        vertical-align: middle;\n",
       "    }\n",
       "\n",
       "    .dataframe tbody tr th {\n",
       "        vertical-align: top;\n",
       "    }\n",
       "\n",
       "    .dataframe thead th {\n",
       "        text-align: right;\n",
       "    }\n",
       "</style>\n",
       "<table border=\"1\" class=\"dataframe\">\n",
       "  <thead>\n",
       "    <tr style=\"text-align: right;\">\n",
       "      <th></th>\n",
       "      <th>mean_fit_time</th>\n",
       "      <th>mean_score_time</th>\n",
       "      <th>mean_test_score</th>\n",
       "      <th>mean_train_score</th>\n",
       "      <th>param_clf__C</th>\n",
       "      <th>param_vect__max_features</th>\n",
       "      <th>param_vect__stop_words</th>\n",
       "      <th>params</th>\n",
       "      <th>rank_test_score</th>\n",
       "      <th>split0_test_score</th>\n",
       "      <th>split0_train_score</th>\n",
       "      <th>split1_test_score</th>\n",
       "      <th>split1_train_score</th>\n",
       "      <th>split2_test_score</th>\n",
       "      <th>split2_train_score</th>\n",
       "      <th>std_fit_time</th>\n",
       "      <th>std_score_time</th>\n",
       "      <th>std_test_score</th>\n",
       "      <th>std_train_score</th>\n",
       "    </tr>\n",
       "  </thead>\n",
       "  <tbody>\n",
       "    <tr>\n",
       "      <th>0</th>\n",
       "      <td>0.292985</td>\n",
       "      <td>0.105646</td>\n",
       "      <td>0.827647</td>\n",
       "      <td>0.982056</td>\n",
       "      <td>1</td>\n",
       "      <td>2500</td>\n",
       "      <td>english</td>\n",
       "      <td>{'vect__stop_words': 'english', 'vect__max_fea...</td>\n",
       "      <td>8</td>\n",
       "      <td>0.831341</td>\n",
       "      <td>0.982713</td>\n",
       "      <td>0.820717</td>\n",
       "      <td>0.982713</td>\n",
       "      <td>0.830892</td>\n",
       "      <td>0.980744</td>\n",
       "      <td>0.007994</td>\n",
       "      <td>0.006067</td>\n",
       "      <td>0.004907</td>\n",
       "      <td>0.000928</td>\n",
       "    </tr>\n",
       "    <tr>\n",
       "      <th>1</th>\n",
       "      <td>0.297604</td>\n",
       "      <td>0.119258</td>\n",
       "      <td>0.825875</td>\n",
       "      <td>0.944619</td>\n",
       "      <td>0.1</td>\n",
       "      <td>5000</td>\n",
       "      <td>None</td>\n",
       "      <td>{'vect__stop_words': None, 'vect__max_features...</td>\n",
       "      <td>9</td>\n",
       "      <td>0.832669</td>\n",
       "      <td>0.948803</td>\n",
       "      <td>0.819389</td>\n",
       "      <td>0.945479</td>\n",
       "      <td>0.825566</td>\n",
       "      <td>0.939575</td>\n",
       "      <td>0.004898</td>\n",
       "      <td>0.007005</td>\n",
       "      <td>0.005428</td>\n",
       "      <td>0.003816</td>\n",
       "    </tr>\n",
       "    <tr>\n",
       "      <th>2</th>\n",
       "      <td>0.282085</td>\n",
       "      <td>0.108363</td>\n",
       "      <td>0.834293</td>\n",
       "      <td>0.978734</td>\n",
       "      <td>0.5</td>\n",
       "      <td>2500</td>\n",
       "      <td>english</td>\n",
       "      <td>{'vect__stop_words': 'english', 'vect__max_fea...</td>\n",
       "      <td>7</td>\n",
       "      <td>0.841965</td>\n",
       "      <td>0.978723</td>\n",
       "      <td>0.828685</td>\n",
       "      <td>0.980718</td>\n",
       "      <td>0.832224</td>\n",
       "      <td>0.976760</td>\n",
       "      <td>0.008137</td>\n",
       "      <td>0.005569</td>\n",
       "      <td>0.005617</td>\n",
       "      <td>0.001616</td>\n",
       "    </tr>\n",
       "    <tr>\n",
       "      <th>3</th>\n",
       "      <td>0.299318</td>\n",
       "      <td>0.111629</td>\n",
       "      <td>0.856004</td>\n",
       "      <td>0.981392</td>\n",
       "      <td>0.5</td>\n",
       "      <td>5000</td>\n",
       "      <td>english</td>\n",
       "      <td>{'vect__stop_words': 'english', 'vect__max_fea...</td>\n",
       "      <td>6</td>\n",
       "      <td>0.867198</td>\n",
       "      <td>0.980718</td>\n",
       "      <td>0.847278</td>\n",
       "      <td>0.983378</td>\n",
       "      <td>0.853529</td>\n",
       "      <td>0.980080</td>\n",
       "      <td>0.016055</td>\n",
       "      <td>0.006265</td>\n",
       "      <td>0.008322</td>\n",
       "      <td>0.001428</td>\n",
       "    </tr>\n",
       "    <tr>\n",
       "      <th>4</th>\n",
       "      <td>0.320039</td>\n",
       "      <td>0.114126</td>\n",
       "      <td>0.783341</td>\n",
       "      <td>0.978954</td>\n",
       "      <td>2</td>\n",
       "      <td>1000</td>\n",
       "      <td>None</td>\n",
       "      <td>{'vect__stop_words': None, 'vect__max_features...</td>\n",
       "      <td>10</td>\n",
       "      <td>0.796813</td>\n",
       "      <td>0.977394</td>\n",
       "      <td>0.792829</td>\n",
       "      <td>0.980718</td>\n",
       "      <td>0.760320</td>\n",
       "      <td>0.978752</td>\n",
       "      <td>0.006847</td>\n",
       "      <td>0.006193</td>\n",
       "      <td>0.016338</td>\n",
       "      <td>0.001365</td>\n",
       "    </tr>\n",
       "    <tr>\n",
       "      <th>5</th>\n",
       "      <td>0.334155</td>\n",
       "      <td>0.122563</td>\n",
       "      <td>0.861320</td>\n",
       "      <td>0.982499</td>\n",
       "      <td>1.5</td>\n",
       "      <td>None</td>\n",
       "      <td>None</td>\n",
       "      <td>{'vect__stop_words': None, 'vect__max_features...</td>\n",
       "      <td>4</td>\n",
       "      <td>0.869854</td>\n",
       "      <td>0.982048</td>\n",
       "      <td>0.851262</td>\n",
       "      <td>0.984043</td>\n",
       "      <td>0.862850</td>\n",
       "      <td>0.981408</td>\n",
       "      <td>0.000979</td>\n",
       "      <td>0.006169</td>\n",
       "      <td>0.007670</td>\n",
       "      <td>0.001122</td>\n",
       "    </tr>\n",
       "    <tr>\n",
       "      <th>6</th>\n",
       "      <td>0.294638</td>\n",
       "      <td>0.112898</td>\n",
       "      <td>0.868852</td>\n",
       "      <td>0.982500</td>\n",
       "      <td>0.5</td>\n",
       "      <td>None</td>\n",
       "      <td>english</td>\n",
       "      <td>{'vect__stop_words': 'english', 'vect__max_fea...</td>\n",
       "      <td>1</td>\n",
       "      <td>0.883134</td>\n",
       "      <td>0.983378</td>\n",
       "      <td>0.856574</td>\n",
       "      <td>0.984043</td>\n",
       "      <td>0.866844</td>\n",
       "      <td>0.980080</td>\n",
       "      <td>0.007096</td>\n",
       "      <td>0.007421</td>\n",
       "      <td>0.010940</td>\n",
       "      <td>0.001733</td>\n",
       "    </tr>\n",
       "    <tr>\n",
       "      <th>7</th>\n",
       "      <td>0.310869</td>\n",
       "      <td>0.121988</td>\n",
       "      <td>0.866194</td>\n",
       "      <td>0.983386</td>\n",
       "      <td>1.5</td>\n",
       "      <td>10000</td>\n",
       "      <td>english</td>\n",
       "      <td>{'vect__stop_words': 'english', 'vect__max_fea...</td>\n",
       "      <td>2</td>\n",
       "      <td>0.876494</td>\n",
       "      <td>0.984043</td>\n",
       "      <td>0.853918</td>\n",
       "      <td>0.984043</td>\n",
       "      <td>0.868176</td>\n",
       "      <td>0.982072</td>\n",
       "      <td>0.014606</td>\n",
       "      <td>0.013349</td>\n",
       "      <td>0.009326</td>\n",
       "      <td>0.000929</td>\n",
       "    </tr>\n",
       "    <tr>\n",
       "      <th>8</th>\n",
       "      <td>0.331829</td>\n",
       "      <td>0.122588</td>\n",
       "      <td>0.865308</td>\n",
       "      <td>0.982499</td>\n",
       "      <td>1</td>\n",
       "      <td>10000</td>\n",
       "      <td>None</td>\n",
       "      <td>{'vect__stop_words': None, 'vect__max_features...</td>\n",
       "      <td>3</td>\n",
       "      <td>0.875166</td>\n",
       "      <td>0.982048</td>\n",
       "      <td>0.853918</td>\n",
       "      <td>0.984043</td>\n",
       "      <td>0.866844</td>\n",
       "      <td>0.981408</td>\n",
       "      <td>0.009305</td>\n",
       "      <td>0.007172</td>\n",
       "      <td>0.008746</td>\n",
       "      <td>0.001122</td>\n",
       "    </tr>\n",
       "    <tr>\n",
       "      <th>9</th>\n",
       "      <td>0.312945</td>\n",
       "      <td>0.123937</td>\n",
       "      <td>0.860434</td>\n",
       "      <td>0.981170</td>\n",
       "      <td>0.5</td>\n",
       "      <td>None</td>\n",
       "      <td>None</td>\n",
       "      <td>{'vect__stop_words': None, 'vect__max_features...</td>\n",
       "      <td>5</td>\n",
       "      <td>0.868526</td>\n",
       "      <td>0.980053</td>\n",
       "      <td>0.856574</td>\n",
       "      <td>0.983378</td>\n",
       "      <td>0.856192</td>\n",
       "      <td>0.980080</td>\n",
       "      <td>0.004496</td>\n",
       "      <td>0.005430</td>\n",
       "      <td>0.005728</td>\n",
       "      <td>0.001561</td>\n",
       "    </tr>\n",
       "  </tbody>\n",
       "</table>\n",
       "</div>"
      ],
      "text/plain": [
       "   mean_fit_time  mean_score_time  mean_test_score  mean_train_score  \\\n",
       "0       0.292985         0.105646         0.827647          0.982056   \n",
       "1       0.297604         0.119258         0.825875          0.944619   \n",
       "2       0.282085         0.108363         0.834293          0.978734   \n",
       "3       0.299318         0.111629         0.856004          0.981392   \n",
       "4       0.320039         0.114126         0.783341          0.978954   \n",
       "5       0.334155         0.122563         0.861320          0.982499   \n",
       "6       0.294638         0.112898         0.868852          0.982500   \n",
       "7       0.310869         0.121988         0.866194          0.983386   \n",
       "8       0.331829         0.122588         0.865308          0.982499   \n",
       "9       0.312945         0.123937         0.860434          0.981170   \n",
       "\n",
       "  param_clf__C param_vect__max_features param_vect__stop_words  \\\n",
       "0            1                     2500                english   \n",
       "1          0.1                     5000                   None   \n",
       "2          0.5                     2500                english   \n",
       "3          0.5                     5000                english   \n",
       "4            2                     1000                   None   \n",
       "5          1.5                     None                   None   \n",
       "6          0.5                     None                english   \n",
       "7          1.5                    10000                english   \n",
       "8            1                    10000                   None   \n",
       "9          0.5                     None                   None   \n",
       "\n",
       "                                              params  rank_test_score  \\\n",
       "0  {'vect__stop_words': 'english', 'vect__max_fea...                8   \n",
       "1  {'vect__stop_words': None, 'vect__max_features...                9   \n",
       "2  {'vect__stop_words': 'english', 'vect__max_fea...                7   \n",
       "3  {'vect__stop_words': 'english', 'vect__max_fea...                6   \n",
       "4  {'vect__stop_words': None, 'vect__max_features...               10   \n",
       "5  {'vect__stop_words': None, 'vect__max_features...                4   \n",
       "6  {'vect__stop_words': 'english', 'vect__max_fea...                1   \n",
       "7  {'vect__stop_words': 'english', 'vect__max_fea...                2   \n",
       "8  {'vect__stop_words': None, 'vect__max_features...                3   \n",
       "9  {'vect__stop_words': None, 'vect__max_features...                5   \n",
       "\n",
       "   split0_test_score  split0_train_score  split1_test_score  \\\n",
       "0           0.831341            0.982713           0.820717   \n",
       "1           0.832669            0.948803           0.819389   \n",
       "2           0.841965            0.978723           0.828685   \n",
       "3           0.867198            0.980718           0.847278   \n",
       "4           0.796813            0.977394           0.792829   \n",
       "5           0.869854            0.982048           0.851262   \n",
       "6           0.883134            0.983378           0.856574   \n",
       "7           0.876494            0.984043           0.853918   \n",
       "8           0.875166            0.982048           0.853918   \n",
       "9           0.868526            0.980053           0.856574   \n",
       "\n",
       "   split1_train_score  split2_test_score  split2_train_score  std_fit_time  \\\n",
       "0            0.982713           0.830892            0.980744      0.007994   \n",
       "1            0.945479           0.825566            0.939575      0.004898   \n",
       "2            0.980718           0.832224            0.976760      0.008137   \n",
       "3            0.983378           0.853529            0.980080      0.016055   \n",
       "4            0.980718           0.760320            0.978752      0.006847   \n",
       "5            0.984043           0.862850            0.981408      0.000979   \n",
       "6            0.984043           0.866844            0.980080      0.007096   \n",
       "7            0.984043           0.868176            0.982072      0.014606   \n",
       "8            0.984043           0.866844            0.981408      0.009305   \n",
       "9            0.983378           0.856192            0.980080      0.004496   \n",
       "\n",
       "   std_score_time  std_test_score  std_train_score  \n",
       "0        0.006067        0.004907         0.000928  \n",
       "1        0.007005        0.005428         0.003816  \n",
       "2        0.005569        0.005617         0.001616  \n",
       "3        0.006265        0.008322         0.001428  \n",
       "4        0.006193        0.016338         0.001365  \n",
       "5        0.006169        0.007670         0.001122  \n",
       "6        0.007421        0.010940         0.001733  \n",
       "7        0.013349        0.009326         0.000929  \n",
       "8        0.007172        0.008746         0.001122  \n",
       "9        0.005430        0.005728         0.001561  "
      ]
     },
     "execution_count": 21,
     "metadata": {},
     "output_type": "execute_result"
    }
   ],
   "source": [
    "# Load dictionary of search results to a Pandas dataframe\n",
    "import pandas as pd\n",
    "\n",
    "df_cv_results = pd.DataFrame.from_dict(random_search.cv_results_)\n",
    "df_cv_results"
   ]
  },
  {
   "cell_type": "code",
   "execution_count": 19,
   "metadata": {},
   "outputs": [
    {
     "name": "stdout",
     "output_type": "stream",
     "text": [
      "Best params: {'vect__stop_words': 'english', 'vect__max_features': None, 'clf__C': 1.5}\n"
     ]
    }
   ],
   "source": [
    "print('Best params:', random_search.best_params_)"
   ]
  },
  {
   "cell_type": "code",
   "execution_count": 22,
   "metadata": {},
   "outputs": [
    {
     "name": "stdout",
     "output_type": "stream",
     "text": [
      "Test accuracy: 0.8249001331557922\n"
     ]
    }
   ],
   "source": [
    "# Score & evaluate test data using the best estimator\n",
    "\n",
    "predicted = random_search.best_estimator_.predict(twenty_test.data)\n",
    "\n",
    "print('Test accuracy:', np.mean(predicted == twenty_test.target))        "
   ]
  },
  {
   "cell_type": "code",
   "execution_count": null,
   "metadata": {
    "collapsed": true
   },
   "outputs": [],
   "source": []
  },
  {
   "cell_type": "markdown",
   "metadata": {},
   "source": [
    "## Aditional metrics for multiclass classification"
   ]
  },
  {
   "cell_type": "code",
   "execution_count": 23,
   "metadata": {},
   "outputs": [
    {
     "name": "stdout",
     "output_type": "stream",
     "text": [
      "                        precision    recall  f1-score   support\n",
      "\n",
      "           alt.atheism       0.78      0.60      0.67       319\n",
      "         comp.graphics       0.90      0.91      0.91       389\n",
      "               sci.med       0.81      0.90      0.86       396\n",
      "soc.religion.christian       0.80      0.84      0.82       398\n",
      "\n",
      "           avg / total       0.82      0.82      0.82      1502\n",
      "\n"
     ]
    }
   ],
   "source": [
    "from sklearn import metrics\n",
    "\n",
    "print(metrics.classification_report(twenty_test.target, \n",
    "                                    predicted,\n",
    "                                    target_names=twenty_test.target_names))"
   ]
  },
  {
   "cell_type": "code",
   "execution_count": 24,
   "metadata": {},
   "outputs": [
    {
     "data": {
      "text/plain": [
       "array([[190,  12,  40,  77],\n",
       "       [ 12, 355,  21,   1],\n",
       "       [ 13,  17, 358,   8],\n",
       "       [ 30,  11,  21, 336]])"
      ]
     },
     "execution_count": 24,
     "metadata": {},
     "output_type": "execute_result"
    }
   ],
   "source": [
    "metrics.confusion_matrix(twenty_test.target, predicted)"
   ]
  },
  {
   "cell_type": "code",
   "execution_count": null,
   "metadata": {
    "collapsed": true
   },
   "outputs": [],
   "source": []
  }
 ],
 "metadata": {
  "anaconda-cloud": {},
  "kernelspec": {
   "display_name": "Python [default]",
   "language": "python",
   "name": "python3"
  },
  "language_info": {
   "codemirror_mode": {
    "name": "ipython",
    "version": 3
   },
   "file_extension": ".py",
   "mimetype": "text/x-python",
   "name": "python",
   "nbconvert_exporter": "python",
   "pygments_lexer": "ipython3",
   "version": "3.6.4"
  }
 },
 "nbformat": 4,
 "nbformat_minor": 2
}
