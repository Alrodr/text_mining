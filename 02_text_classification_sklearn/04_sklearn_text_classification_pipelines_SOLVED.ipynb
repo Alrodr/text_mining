{
 "cells": [
  {
   "cell_type": "code",
   "execution_count": 1,
   "metadata": {},
   "outputs": [
    {
     "name": "stdout",
     "output_type": "stream",
     "text": [
      "Sklearn version: 0.19.0\n"
     ]
    }
   ],
   "source": [
    "from __future__ import print_function\n",
    "\n",
    "import numpy as np\n",
    "\n",
    "from sklearn import __version__ as sklearn_version\n",
    "print('Sklearn version:', sklearn_version)"
   ]
  },
  {
   "cell_type": "markdown",
   "metadata": {},
   "source": [
    "# The data\n",
    "\n",
    "The 20 newsgroups dataset comprises around 18000 newsgroups posts on 20 topics split in two subsets: one for training (or development) and the other one for testing (or for performance evaluation). The split between the train and test set is based upon a messages posted before and after a specific date.\n"
   ]
  },
  {
   "cell_type": "code",
   "execution_count": 2,
   "metadata": {
    "collapsed": true
   },
   "outputs": [],
   "source": [
    "from sklearn.datasets import fetch_20newsgroups\n",
    "\n",
    "categories = ['alt.atheism', 'soc.religion.christian', 'comp.graphics', 'sci.med']\n",
    "\n",
    "twenty_train = fetch_20newsgroups(subset='train',\n",
    "                 remove=('headers', 'footers', 'quotes'),\n",
    "                 categories=categories, shuffle=True, random_state=42)\n",
    "\n"
   ]
  },
  {
   "cell_type": "markdown",
   "metadata": {},
   "source": [
    "## Build a pipeline"
   ]
  },
  {
   "cell_type": "code",
   "execution_count": 3,
   "metadata": {},
   "outputs": [
    {
     "data": {
      "text/plain": [
       "Pipeline(memory=None,\n",
       "     steps=[('vect', CountVectorizer(analyzer='word', binary=False, decode_error='strict',\n",
       "        dtype=<class 'numpy.int64'>, encoding='utf-8', input='content',\n",
       "        lowercase=True, max_df=0.95, max_features=5000, min_df=2,\n",
       "        ngram_range=(1, 1), preprocessor=None, stop_words='english',\n",
       "       ...inear_tf=False, use_idf=True)), ('clf', MultinomialNB(alpha=1.0, class_prior=None, fit_prior=True))])"
      ]
     },
     "execution_count": 3,
     "metadata": {},
     "output_type": "execute_result"
    }
   ],
   "source": [
    "#Define the pipeline\n",
    "\n",
    "from sklearn.pipeline import Pipeline\n",
    "\n",
    "from sklearn.feature_extraction.text import CountVectorizer\n",
    "from sklearn.feature_extraction.text import TfidfTransformer\n",
    "from sklearn.naive_bayes import MultinomialNB\n",
    "\n",
    "\n",
    "text_clf = Pipeline([('vect', CountVectorizer(max_df=0.95, min_df=2, max_features=5000, stop_words='english')),\n",
    "                     ('tfidf', TfidfTransformer()),\n",
    "                     ('clf', MultinomialNB()),\n",
    "                    ])\n",
    "\n",
    "# Fit all the pipeline\n",
    "text_clf.fit(twenty_train.data, twenty_train.target)"
   ]
  },
  {
   "cell_type": "code",
   "execution_count": 4,
   "metadata": {},
   "outputs": [
    {
     "name": "stdout",
     "output_type": "stream",
     "text": [
      "Test accuracy: 0.798934753662\n"
     ]
    }
   ],
   "source": [
    "#Evaluate test data\n",
    "twenty_test = fetch_20newsgroups(subset='test',\n",
    "                    remove=('headers', 'footers', 'quotes'),\n",
    "                    categories=categories, \n",
    "                    shuffle=True, random_state=42)\n",
    "\n",
    "predicted = text_clf.predict(twenty_test.data)\n",
    "\n",
    "print('Test accuracy:', np.mean(predicted == twenty_test.target))"
   ]
  },
  {
   "cell_type": "markdown",
   "metadata": {},
   "source": [
    "## Change classifier in the pipeline\n",
    "    - LinearSVC\n",
    "    - k-NN\n",
    "    - Random forest"
   ]
  },
  {
   "cell_type": "code",
   "execution_count": 5,
   "metadata": {},
   "outputs": [
    {
     "name": "stdout",
     "output_type": "stream",
     "text": [
      "Test accuracy: 0.808921438083\n"
     ]
    }
   ],
   "source": [
    "from sklearn.svm import LinearSVC\n",
    "text_clf_svm = Pipeline([('vect', CountVectorizer(max_df=0.95, min_df=2, max_features=5000, stop_words='english')),\n",
    "                     ('tfidf', TfidfTransformer()),\n",
    "                     ('clf', LinearSVC()),\n",
    "                    ])\n",
    "\n",
    "#Fit\n",
    "_ = text_clf_svm.fit(twenty_train.data, twenty_train.target)\n",
    "\n",
    "# Predict\n",
    "predicted = text_clf_svm.predict(twenty_test.data)\n",
    "\n",
    "# Evaluate accuracy\n",
    "print('Test accuracy:', np.mean(predicted == twenty_test.target))        "
   ]
  },
  {
   "cell_type": "code",
   "execution_count": 6,
   "metadata": {},
   "outputs": [
    {
     "name": "stdout",
     "output_type": "stream",
     "text": [
      "Test accuracy: 0.254327563249\n"
     ]
    }
   ],
   "source": [
    "from sklearn.neighbors import KNeighborsClassifier\n",
    "\n",
    "text_clf = Pipeline([('vect', CountVectorizer(max_df=0.95, min_df=2, max_features=5000, stop_words='english')),\n",
    "                     ('tfidf', TfidfTransformer()),\n",
    "                     ('clf', KNeighborsClassifier(n_neighbors=10)),\n",
    "                    ])\n",
    "\n",
    "_ = text_clf.fit(twenty_train.data, twenty_train.target)\n",
    "predicted = text_clf.predict(twenty_test.data)\n",
    "print('Test accuracy:', np.mean(predicted == twenty_test.target))"
   ]
  },
  {
   "cell_type": "code",
   "execution_count": 7,
   "metadata": {},
   "outputs": [
    {
     "name": "stdout",
     "output_type": "stream",
     "text": [
      "Test accuracy: 0.749667110519\n"
     ]
    }
   ],
   "source": [
    "from sklearn.ensemble import RandomForestClassifier\n",
    "\n",
    "text_clf = Pipeline([('vect', CountVectorizer(max_df=0.95, min_df=2, max_features=5000, stop_words='english')),\n",
    "                     ('tfidf', TfidfTransformer()),\n",
    "                     ('clf', RandomForestClassifier(n_estimators=100)),\n",
    "                    ])\n",
    "\n",
    "_ = text_clf.fit(twenty_train.data, twenty_train.target)\n",
    "predicted = text_clf.predict(twenty_test.data)\n",
    "print('Test accuracy:', np.mean(predicted == twenty_test.target))"
   ]
  },
  {
   "cell_type": "code",
   "execution_count": null,
   "metadata": {
    "collapsed": true
   },
   "outputs": [],
   "source": []
  },
  {
   "cell_type": "markdown",
   "metadata": {},
   "source": [
    "## Use features from a factorization instead the provided by the tf-idf"
   ]
  },
  {
   "cell_type": "code",
   "execution_count": 8,
   "metadata": {},
   "outputs": [
    {
     "data": {
      "text/plain": [
       "(2257, 5000)"
      ]
     },
     "execution_count": 8,
     "metadata": {},
     "output_type": "execute_result"
    }
   ],
   "source": [
    "# Text preprocessing, tokenizing and filtering of stopwords\n",
    "from sklearn.feature_extraction.text import CountVectorizer\n",
    "\n",
    "tf_vectorizer = CountVectorizer(max_df=0.95, min_df=2,\n",
    "                                max_features=5000,\n",
    "                                stop_words='english')\n",
    "X_train_counts = tf_vectorizer.fit_transform(twenty_train.data)\n",
    "X_train_counts.shape"
   ]
  },
  {
   "cell_type": "code",
   "execution_count": 9,
   "metadata": {},
   "outputs": [
    {
     "data": {
      "text/plain": [
       "LatentDirichletAllocation(batch_size=128, doc_topic_prior=None,\n",
       "             evaluate_every=-1, learning_decay=0.7,\n",
       "             learning_method='online', learning_offset=50.0,\n",
       "             max_doc_update_iter=100, max_iter=5, mean_change_tol=0.001,\n",
       "             n_components=6, n_jobs=1, n_topics=None, perp_tol=0.1,\n",
       "             random_state=0, topic_word_prior=None,\n",
       "             total_samples=1000000.0, verbose=0)"
      ]
     },
     "execution_count": 9,
     "metadata": {},
     "output_type": "execute_result"
    }
   ],
   "source": [
    "from sklearn.decomposition import  LatentDirichletAllocation\n",
    "\n",
    "n_components = 6\n",
    "n_top_words = 20\n",
    "\n",
    "lda = LatentDirichletAllocation(n_components=n_components,\n",
    "                                max_iter=5,\n",
    "                                learning_method='online',\n",
    "                                learning_offset=50.,\n",
    "                                random_state=0)\n",
    "lda.fit(X_train_counts)"
   ]
  },
  {
   "cell_type": "code",
   "execution_count": 10,
   "metadata": {},
   "outputs": [
    {
     "name": "stdout",
     "output_type": "stream",
     "text": [
      "Topic #0:\n",
      "church pope catholic marriage authority married orthodox canon schism mass liturgy bishop ceremony st churches catholics does priest jurisdiction coptic\n",
      "Topic #1:\n",
      "image file jpeg use program files images gif color know format does thanks graphics software using version bit available like\n",
      "Topic #2:\n",
      "edu com graphics mail send pub keyboard ftp data computer information cs systems software ca faq available gov contact pc\n",
      "Topic #3:\n",
      "god people think don jesus just does believe know say like time bible way things good true life christian question\n",
      "Topic #4:\n",
      "health use medical years people disease food msg new patients like don doctor research time 1993 10 day know just\n",
      "Topic #5:\n",
      "banks gordon skepticism edu soon pitt geb intellect chastity n3jxp dsl shameful cadre surrender father spirit son holy int col\n",
      "\n"
     ]
    }
   ],
   "source": [
    "def print_top_words(model, feature_names, n_top_words):\n",
    "    for topic_idx, topic in enumerate(model.components_):\n",
    "        print(\"Topic #%d:\" % topic_idx)\n",
    "        print(\" \".join([feature_names[i]\n",
    "                        for i in topic.argsort()[:-n_top_words - 1:-1]]))\n",
    "    print()\n",
    "\n",
    "tf_feature_names = tf_vectorizer.get_feature_names()\n",
    "print_top_words(lda, tf_feature_names, n_top_words)"
   ]
  },
  {
   "cell_type": "code",
   "execution_count": null,
   "metadata": {
    "collapsed": true
   },
   "outputs": [],
   "source": []
  },
  {
   "cell_type": "markdown",
   "metadata": {},
   "source": [
    "## Pipeline with factorization"
   ]
  },
  {
   "cell_type": "code",
   "execution_count": 11,
   "metadata": {},
   "outputs": [
    {
     "name": "stdout",
     "output_type": "stream",
     "text": [
      "Test accuracy: 0.700399467377\n"
     ]
    }
   ],
   "source": [
    "from sklearn.neighbors import KNeighborsClassifier\n",
    "\n",
    "text_lda_knn = Pipeline([('vect', CountVectorizer(max_df=0.95, min_df=2, max_features=10000, stop_words='english')),\n",
    "                         ('lda', LatentDirichletAllocation(n_components=150, max_iter=15,\n",
    "                                 learning_method='online',\n",
    "                                 learning_offset=200.,\n",
    "                                 random_state=0)),\n",
    "                         ('clf', KNeighborsClassifier(n_neighbors=10))\n",
    "                        ])\n",
    "\n",
    "                         \n",
    "_ = text_lda_knn.fit(twenty_train.data, twenty_train.target)\n",
    "predicted = text_lda_knn.predict(twenty_test.data)\n",
    "print('Test accuracy:', np.mean(predicted == twenty_test.target))"
   ]
  },
  {
   "cell_type": "code",
   "execution_count": 12,
   "metadata": {},
   "outputs": [
    {
     "name": "stdout",
     "output_type": "stream",
     "text": [
      "Test accuracy: 0.683754993342\n"
     ]
    }
   ],
   "source": [
    "from sklearn.ensemble import RandomForestClassifier\n",
    "\n",
    "text_lda_rf = Pipeline([('vect', CountVectorizer(max_df=0.95, min_df=2, max_features=10000, stop_words='english')),\n",
    "                         ('lda', LatentDirichletAllocation(n_components=150, max_iter=15,\n",
    "                                 learning_method='online',\n",
    "                                 learning_offset=200.,\n",
    "                                 random_state=0)),\n",
    "                         ('clf', RandomForestClassifier(n_estimators=100)),\n",
    "                        ])\n",
    "\n",
    "                         \n",
    "_ = text_lda_rf.fit(twenty_train.data, twenty_train.target)\n",
    "\n",
    "predicted = text_lda_rf.predict(twenty_test.data)\n",
    "print('Test accuracy:', np.mean(predicted == twenty_test.target))"
   ]
  },
  {
   "cell_type": "code",
   "execution_count": null,
   "metadata": {
    "collapsed": true
   },
   "outputs": [],
   "source": []
  },
  {
   "cell_type": "markdown",
   "metadata": {},
   "source": [
    "## Optimize a pipeline"
   ]
  },
  {
   "cell_type": "code",
   "execution_count": 13,
   "metadata": {},
   "outputs": [
    {
     "name": "stdout",
     "output_type": "stream",
     "text": [
      "Done!\n"
     ]
    }
   ],
   "source": [
    "from sklearn.model_selection import RandomizedSearchCV\n",
    "\n",
    "# Define estimator. No parameters of the search\n",
    "clf = Pipeline([('vect', CountVectorizer(max_df=0.95, min_df=2)),\n",
    "                ('tfidf', TfidfTransformer()),\n",
    "                ('clf', LinearSVC()),\n",
    "                ])\n",
    "\n",
    "# Specify parameters and distributions to sample from\n",
    "# Parameters of pipelines can be set using ‘__’ separated parameter names:\n",
    "param_dist = {\"vect__max_features\": [1000, 2500, 5000, 7500, 10000, None], \n",
    "              \"vect__stop_words\": ['english', None], \n",
    "              \"clf__C\": [.1, .5, 1., 1.5, 2.]}\n",
    "\n",
    "# Define randomized search\n",
    "n_iter_search = 10\n",
    "random_search = RandomizedSearchCV(clf, param_distributions=param_dist, n_iter=n_iter_search)\n",
    "\n",
    "# Run the randomized search\n",
    "random_search.fit(twenty_train.data, twenty_train.target)\n",
    "\n",
    "print(\"Done!\")"
   ]
  },
  {
   "cell_type": "code",
   "execution_count": 14,
   "metadata": {},
   "outputs": [
    {
     "data": {
      "text/html": [
       "<div>\n",
       "<style>\n",
       "    .dataframe thead tr:only-child th {\n",
       "        text-align: right;\n",
       "    }\n",
       "\n",
       "    .dataframe thead th {\n",
       "        text-align: left;\n",
       "    }\n",
       "\n",
       "    .dataframe tbody tr th {\n",
       "        vertical-align: top;\n",
       "    }\n",
       "</style>\n",
       "<table border=\"1\" class=\"dataframe\">\n",
       "  <thead>\n",
       "    <tr style=\"text-align: right;\">\n",
       "      <th></th>\n",
       "      <th>mean_fit_time</th>\n",
       "      <th>mean_score_time</th>\n",
       "      <th>mean_test_score</th>\n",
       "      <th>mean_train_score</th>\n",
       "      <th>param_clf__C</th>\n",
       "      <th>param_vect__max_features</th>\n",
       "      <th>param_vect__stop_words</th>\n",
       "      <th>params</th>\n",
       "      <th>rank_test_score</th>\n",
       "      <th>split0_test_score</th>\n",
       "      <th>split0_train_score</th>\n",
       "      <th>split1_test_score</th>\n",
       "      <th>split1_train_score</th>\n",
       "      <th>split2_test_score</th>\n",
       "      <th>split2_train_score</th>\n",
       "      <th>std_fit_time</th>\n",
       "      <th>std_score_time</th>\n",
       "      <th>std_test_score</th>\n",
       "      <th>std_train_score</th>\n",
       "    </tr>\n",
       "  </thead>\n",
       "  <tbody>\n",
       "    <tr>\n",
       "      <th>0</th>\n",
       "      <td>0.342522</td>\n",
       "      <td>0.138967</td>\n",
       "      <td>0.860877</td>\n",
       "      <td>0.981170</td>\n",
       "      <td>0.5</td>\n",
       "      <td>10000</td>\n",
       "      <td>None</td>\n",
       "      <td>{'vect__max_features': 10000, 'clf__C': 0.5, '...</td>\n",
       "      <td>3</td>\n",
       "      <td>0.868526</td>\n",
       "      <td>0.980053</td>\n",
       "      <td>0.856574</td>\n",
       "      <td>0.983378</td>\n",
       "      <td>0.857523</td>\n",
       "      <td>0.980080</td>\n",
       "      <td>0.008010</td>\n",
       "      <td>0.013554</td>\n",
       "      <td>0.005426</td>\n",
       "      <td>0.001561</td>\n",
       "    </tr>\n",
       "    <tr>\n",
       "      <th>1</th>\n",
       "      <td>0.310061</td>\n",
       "      <td>0.120491</td>\n",
       "      <td>0.852902</td>\n",
       "      <td>0.964777</td>\n",
       "      <td>0.1</td>\n",
       "      <td>7500</td>\n",
       "      <td>english</td>\n",
       "      <td>{'vect__max_features': 7500, 'clf__C': 0.1, 'v...</td>\n",
       "      <td>7</td>\n",
       "      <td>0.861886</td>\n",
       "      <td>0.964761</td>\n",
       "      <td>0.851262</td>\n",
       "      <td>0.965426</td>\n",
       "      <td>0.845539</td>\n",
       "      <td>0.964143</td>\n",
       "      <td>0.011387</td>\n",
       "      <td>0.008460</td>\n",
       "      <td>0.006772</td>\n",
       "      <td>0.000524</td>\n",
       "    </tr>\n",
       "    <tr>\n",
       "      <th>2</th>\n",
       "      <td>0.308272</td>\n",
       "      <td>0.117315</td>\n",
       "      <td>0.866637</td>\n",
       "      <td>0.982943</td>\n",
       "      <td>1</td>\n",
       "      <td>7500</td>\n",
       "      <td>english</td>\n",
       "      <td>{'vect__max_features': 7500, 'clf__C': 1.0, 'v...</td>\n",
       "      <td>1</td>\n",
       "      <td>0.879150</td>\n",
       "      <td>0.983378</td>\n",
       "      <td>0.855246</td>\n",
       "      <td>0.984043</td>\n",
       "      <td>0.865513</td>\n",
       "      <td>0.981408</td>\n",
       "      <td>0.013200</td>\n",
       "      <td>0.013016</td>\n",
       "      <td>0.009795</td>\n",
       "      <td>0.001119</td>\n",
       "    </tr>\n",
       "    <tr>\n",
       "      <th>3</th>\n",
       "      <td>0.272915</td>\n",
       "      <td>0.109609</td>\n",
       "      <td>0.827647</td>\n",
       "      <td>0.982056</td>\n",
       "      <td>1</td>\n",
       "      <td>2500</td>\n",
       "      <td>english</td>\n",
       "      <td>{'vect__max_features': 2500, 'clf__C': 1.0, 'v...</td>\n",
       "      <td>9</td>\n",
       "      <td>0.831341</td>\n",
       "      <td>0.982713</td>\n",
       "      <td>0.820717</td>\n",
       "      <td>0.982713</td>\n",
       "      <td>0.830892</td>\n",
       "      <td>0.980744</td>\n",
       "      <td>0.008906</td>\n",
       "      <td>0.005450</td>\n",
       "      <td>0.004907</td>\n",
       "      <td>0.000928</td>\n",
       "    </tr>\n",
       "    <tr>\n",
       "      <th>4</th>\n",
       "      <td>0.326780</td>\n",
       "      <td>0.130265</td>\n",
       "      <td>0.826318</td>\n",
       "      <td>0.947499</td>\n",
       "      <td>0.1</td>\n",
       "      <td>7500</td>\n",
       "      <td>None</td>\n",
       "      <td>{'vect__max_features': 7500, 'clf__C': 0.1, 'v...</td>\n",
       "      <td>10</td>\n",
       "      <td>0.837981</td>\n",
       "      <td>0.952128</td>\n",
       "      <td>0.815405</td>\n",
       "      <td>0.947473</td>\n",
       "      <td>0.825566</td>\n",
       "      <td>0.942895</td>\n",
       "      <td>0.008461</td>\n",
       "      <td>0.014970</td>\n",
       "      <td>0.009236</td>\n",
       "      <td>0.003769</td>\n",
       "    </tr>\n",
       "    <tr>\n",
       "      <th>5</th>\n",
       "      <td>0.335658</td>\n",
       "      <td>0.126631</td>\n",
       "      <td>0.866194</td>\n",
       "      <td>0.983386</td>\n",
       "      <td>1.5</td>\n",
       "      <td>10000</td>\n",
       "      <td>english</td>\n",
       "      <td>{'vect__max_features': 10000, 'clf__C': 1.5, '...</td>\n",
       "      <td>2</td>\n",
       "      <td>0.876494</td>\n",
       "      <td>0.984043</td>\n",
       "      <td>0.853918</td>\n",
       "      <td>0.984043</td>\n",
       "      <td>0.868176</td>\n",
       "      <td>0.982072</td>\n",
       "      <td>0.017480</td>\n",
       "      <td>0.011008</td>\n",
       "      <td>0.009326</td>\n",
       "      <td>0.000929</td>\n",
       "    </tr>\n",
       "    <tr>\n",
       "      <th>6</th>\n",
       "      <td>0.388365</td>\n",
       "      <td>0.143688</td>\n",
       "      <td>0.858219</td>\n",
       "      <td>0.983164</td>\n",
       "      <td>2</td>\n",
       "      <td>None</td>\n",
       "      <td>None</td>\n",
       "      <td>{'vect__max_features': None, 'clf__C': 2.0, 'v...</td>\n",
       "      <td>4</td>\n",
       "      <td>0.864542</td>\n",
       "      <td>0.984043</td>\n",
       "      <td>0.848606</td>\n",
       "      <td>0.984043</td>\n",
       "      <td>0.861518</td>\n",
       "      <td>0.981408</td>\n",
       "      <td>0.015062</td>\n",
       "      <td>0.006801</td>\n",
       "      <td>0.006913</td>\n",
       "      <td>0.001242</td>\n",
       "    </tr>\n",
       "    <tr>\n",
       "      <th>7</th>\n",
       "      <td>0.318490</td>\n",
       "      <td>0.110301</td>\n",
       "      <td>0.841382</td>\n",
       "      <td>0.983164</td>\n",
       "      <td>2</td>\n",
       "      <td>5000</td>\n",
       "      <td>english</td>\n",
       "      <td>{'vect__max_features': 5000, 'clf__C': 2.0, 'v...</td>\n",
       "      <td>8</td>\n",
       "      <td>0.849934</td>\n",
       "      <td>0.983378</td>\n",
       "      <td>0.832669</td>\n",
       "      <td>0.984043</td>\n",
       "      <td>0.841545</td>\n",
       "      <td>0.982072</td>\n",
       "      <td>0.011945</td>\n",
       "      <td>0.007642</td>\n",
       "      <td>0.007052</td>\n",
       "      <td>0.000819</td>\n",
       "    </tr>\n",
       "    <tr>\n",
       "      <th>8</th>\n",
       "      <td>0.281255</td>\n",
       "      <td>0.107789</td>\n",
       "      <td>0.855117</td>\n",
       "      <td>0.964777</td>\n",
       "      <td>0.1</td>\n",
       "      <td>None</td>\n",
       "      <td>english</td>\n",
       "      <td>{'vect__max_features': None, 'clf__C': 0.1, 'v...</td>\n",
       "      <td>5</td>\n",
       "      <td>0.860558</td>\n",
       "      <td>0.964096</td>\n",
       "      <td>0.855246</td>\n",
       "      <td>0.966090</td>\n",
       "      <td>0.849534</td>\n",
       "      <td>0.964143</td>\n",
       "      <td>0.010835</td>\n",
       "      <td>0.011505</td>\n",
       "      <td>0.004500</td>\n",
       "      <td>0.000929</td>\n",
       "    </tr>\n",
       "    <tr>\n",
       "      <th>9</th>\n",
       "      <td>0.259324</td>\n",
       "      <td>0.103545</td>\n",
       "      <td>0.855117</td>\n",
       "      <td>0.964777</td>\n",
       "      <td>0.1</td>\n",
       "      <td>10000</td>\n",
       "      <td>english</td>\n",
       "      <td>{'vect__max_features': 10000, 'clf__C': 0.1, '...</td>\n",
       "      <td>5</td>\n",
       "      <td>0.860558</td>\n",
       "      <td>0.964096</td>\n",
       "      <td>0.855246</td>\n",
       "      <td>0.966090</td>\n",
       "      <td>0.849534</td>\n",
       "      <td>0.964143</td>\n",
       "      <td>0.007613</td>\n",
       "      <td>0.005908</td>\n",
       "      <td>0.004500</td>\n",
       "      <td>0.000929</td>\n",
       "    </tr>\n",
       "  </tbody>\n",
       "</table>\n",
       "</div>"
      ],
      "text/plain": [
       "   mean_fit_time  mean_score_time  mean_test_score  mean_train_score  \\\n",
       "0       0.342522         0.138967         0.860877          0.981170   \n",
       "1       0.310061         0.120491         0.852902          0.964777   \n",
       "2       0.308272         0.117315         0.866637          0.982943   \n",
       "3       0.272915         0.109609         0.827647          0.982056   \n",
       "4       0.326780         0.130265         0.826318          0.947499   \n",
       "5       0.335658         0.126631         0.866194          0.983386   \n",
       "6       0.388365         0.143688         0.858219          0.983164   \n",
       "7       0.318490         0.110301         0.841382          0.983164   \n",
       "8       0.281255         0.107789         0.855117          0.964777   \n",
       "9       0.259324         0.103545         0.855117          0.964777   \n",
       "\n",
       "  param_clf__C param_vect__max_features param_vect__stop_words  \\\n",
       "0          0.5                    10000                   None   \n",
       "1          0.1                     7500                english   \n",
       "2            1                     7500                english   \n",
       "3            1                     2500                english   \n",
       "4          0.1                     7500                   None   \n",
       "5          1.5                    10000                english   \n",
       "6            2                     None                   None   \n",
       "7            2                     5000                english   \n",
       "8          0.1                     None                english   \n",
       "9          0.1                    10000                english   \n",
       "\n",
       "                                              params  rank_test_score  \\\n",
       "0  {'vect__max_features': 10000, 'clf__C': 0.5, '...                3   \n",
       "1  {'vect__max_features': 7500, 'clf__C': 0.1, 'v...                7   \n",
       "2  {'vect__max_features': 7500, 'clf__C': 1.0, 'v...                1   \n",
       "3  {'vect__max_features': 2500, 'clf__C': 1.0, 'v...                9   \n",
       "4  {'vect__max_features': 7500, 'clf__C': 0.1, 'v...               10   \n",
       "5  {'vect__max_features': 10000, 'clf__C': 1.5, '...                2   \n",
       "6  {'vect__max_features': None, 'clf__C': 2.0, 'v...                4   \n",
       "7  {'vect__max_features': 5000, 'clf__C': 2.0, 'v...                8   \n",
       "8  {'vect__max_features': None, 'clf__C': 0.1, 'v...                5   \n",
       "9  {'vect__max_features': 10000, 'clf__C': 0.1, '...                5   \n",
       "\n",
       "   split0_test_score  split0_train_score  split1_test_score  \\\n",
       "0           0.868526            0.980053           0.856574   \n",
       "1           0.861886            0.964761           0.851262   \n",
       "2           0.879150            0.983378           0.855246   \n",
       "3           0.831341            0.982713           0.820717   \n",
       "4           0.837981            0.952128           0.815405   \n",
       "5           0.876494            0.984043           0.853918   \n",
       "6           0.864542            0.984043           0.848606   \n",
       "7           0.849934            0.983378           0.832669   \n",
       "8           0.860558            0.964096           0.855246   \n",
       "9           0.860558            0.964096           0.855246   \n",
       "\n",
       "   split1_train_score  split2_test_score  split2_train_score  std_fit_time  \\\n",
       "0            0.983378           0.857523            0.980080      0.008010   \n",
       "1            0.965426           0.845539            0.964143      0.011387   \n",
       "2            0.984043           0.865513            0.981408      0.013200   \n",
       "3            0.982713           0.830892            0.980744      0.008906   \n",
       "4            0.947473           0.825566            0.942895      0.008461   \n",
       "5            0.984043           0.868176            0.982072      0.017480   \n",
       "6            0.984043           0.861518            0.981408      0.015062   \n",
       "7            0.984043           0.841545            0.982072      0.011945   \n",
       "8            0.966090           0.849534            0.964143      0.010835   \n",
       "9            0.966090           0.849534            0.964143      0.007613   \n",
       "\n",
       "   std_score_time  std_test_score  std_train_score  \n",
       "0        0.013554        0.005426         0.001561  \n",
       "1        0.008460        0.006772         0.000524  \n",
       "2        0.013016        0.009795         0.001119  \n",
       "3        0.005450        0.004907         0.000928  \n",
       "4        0.014970        0.009236         0.003769  \n",
       "5        0.011008        0.009326         0.000929  \n",
       "6        0.006801        0.006913         0.001242  \n",
       "7        0.007642        0.007052         0.000819  \n",
       "8        0.011505        0.004500         0.000929  \n",
       "9        0.005908        0.004500         0.000929  "
      ]
     },
     "execution_count": 14,
     "metadata": {},
     "output_type": "execute_result"
    }
   ],
   "source": [
    "# Load dictionary of search results to a Pandas dataframe\n",
    "import pandas as pd\n",
    "\n",
    "df_cv_results = pd.DataFrame.from_dict(random_search.cv_results_)\n",
    "df_cv_results"
   ]
  },
  {
   "cell_type": "code",
   "execution_count": 15,
   "metadata": {},
   "outputs": [
    {
     "name": "stdout",
     "output_type": "stream",
     "text": [
      "Best params: {'vect__max_features': 7500, 'clf__C': 1.0, 'vect__stop_words': 'english'}\n"
     ]
    }
   ],
   "source": [
    "print('Best params:', random_search.best_params_)"
   ]
  },
  {
   "cell_type": "code",
   "execution_count": 16,
   "metadata": {},
   "outputs": [
    {
     "name": "stdout",
     "output_type": "stream",
     "text": [
      "Test accuracy: 0.820239680426\n"
     ]
    }
   ],
   "source": [
    "# Score & evaluate test data using the best estimator\n",
    "\n",
    "predicted = random_search.best_estimator_.predict(twenty_test.data)\n",
    "\n",
    "print('Test accuracy:', np.mean(predicted == twenty_test.target))        "
   ]
  },
  {
   "cell_type": "code",
   "execution_count": null,
   "metadata": {
    "collapsed": true
   },
   "outputs": [],
   "source": []
  },
  {
   "cell_type": "markdown",
   "metadata": {},
   "source": [
    "## Aditional metrics for multiclass classification"
   ]
  },
  {
   "cell_type": "code",
   "execution_count": 17,
   "metadata": {},
   "outputs": [
    {
     "name": "stdout",
     "output_type": "stream",
     "text": [
      "                        precision    recall  f1-score   support\n",
      "\n",
      "           alt.atheism       0.77      0.63      0.69       319\n",
      "         comp.graphics       0.82      0.92      0.87       389\n",
      "               sci.med       0.88      0.85      0.87       396\n",
      "soc.religion.christian       0.80      0.84      0.82       398\n",
      "\n",
      "           avg / total       0.82      0.82      0.82      1502\n",
      "\n"
     ]
    }
   ],
   "source": [
    "from sklearn import metrics\n",
    "\n",
    "print(metrics.classification_report(twenty_test.target, \n",
    "                                    predicted,\n",
    "                                    target_names=twenty_test.target_names))"
   ]
  },
  {
   "cell_type": "code",
   "execution_count": 18,
   "metadata": {},
   "outputs": [
    {
     "data": {
      "text/plain": [
       "array([[200,  22,  24,  73],\n",
       "       [ 15, 359,  15,   0],\n",
       "       [ 14,  32, 337,  13],\n",
       "       [ 32,  23,   7, 336]])"
      ]
     },
     "execution_count": 18,
     "metadata": {},
     "output_type": "execute_result"
    }
   ],
   "source": [
    "metrics.confusion_matrix(twenty_test.target, predicted)"
   ]
  },
  {
   "cell_type": "code",
   "execution_count": null,
   "metadata": {
    "collapsed": true
   },
   "outputs": [],
   "source": []
  }
 ],
 "metadata": {
  "anaconda-cloud": {},
  "kernelspec": {
   "display_name": "Python 3",
   "language": "python",
   "name": "python3"
  },
  "language_info": {
   "codemirror_mode": {
    "name": "ipython",
    "version": 3
   },
   "file_extension": ".py",
   "mimetype": "text/x-python",
   "name": "python",
   "nbconvert_exporter": "python",
   "pygments_lexer": "ipython3",
   "version": "3.5.4"
  }
 },
 "nbformat": 4,
 "nbformat_minor": 1
}
