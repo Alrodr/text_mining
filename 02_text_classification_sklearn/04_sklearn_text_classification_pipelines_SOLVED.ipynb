{
 "cells": [
  {
   "cell_type": "code",
   "execution_count": 1,
   "metadata": {},
   "outputs": [
    {
     "name": "stdout",
     "output_type": "stream",
     "text": [
      "Sklearn version: 0.19.1\n"
     ]
    }
   ],
   "source": [
    "from __future__ import print_function\n",
    "\n",
    "import numpy as np\n",
    "\n",
    "from sklearn import __version__ as sklearn_version\n",
    "print('Sklearn version:', sklearn_version)"
   ]
  },
  {
   "cell_type": "markdown",
   "metadata": {},
   "source": [
    "# The data\n",
    "\n",
    "The 20 newsgroups dataset comprises around 18000 newsgroups posts on 20 topics split in two subsets: one for training (or development) and the other one for testing (or for performance evaluation). The split between the train and test set is based upon a messages posted before and after a specific date.\n"
   ]
  },
  {
   "cell_type": "code",
   "execution_count": 2,
   "metadata": {
    "collapsed": true
   },
   "outputs": [],
   "source": [
    "from sklearn.datasets import fetch_20newsgroups\n",
    "\n",
    "categories = ['alt.atheism', 'soc.religion.christian', 'comp.graphics', 'sci.med']\n",
    "\n",
    "twenty_train = fetch_20newsgroups(subset='train',\n",
    "                 remove=('headers', 'footers', 'quotes'),\n",
    "                 categories=categories, shuffle=True, random_state=42)\n",
    "\n"
   ]
  },
  {
   "cell_type": "markdown",
   "metadata": {},
   "source": [
    "## Build a pipeline"
   ]
  },
  {
   "cell_type": "code",
   "execution_count": 3,
   "metadata": {},
   "outputs": [
    {
     "data": {
      "text/plain": [
       "Pipeline(memory=None,\n",
       "     steps=[('vect', CountVectorizer(analyzer='word', binary=False, decode_error='strict',\n",
       "        dtype=<class 'numpy.int64'>, encoding='utf-8', input='content',\n",
       "        lowercase=True, max_df=0.95, max_features=5000, min_df=2,\n",
       "        ngram_range=(1, 1), preprocessor=None, stop_words='english',\n",
       "       ...inear_tf=False, use_idf=True)), ('clf', MultinomialNB(alpha=1.0, class_prior=None, fit_prior=True))])"
      ]
     },
     "execution_count": 3,
     "metadata": {},
     "output_type": "execute_result"
    }
   ],
   "source": [
    "#Define the pipeline\n",
    "\n",
    "from sklearn.pipeline import Pipeline\n",
    "\n",
    "from sklearn.feature_extraction.text import CountVectorizer\n",
    "from sklearn.feature_extraction.text import TfidfTransformer\n",
    "from sklearn.naive_bayes import MultinomialNB\n",
    "\n",
    "\n",
    "text_clf = Pipeline([('vect', CountVectorizer(max_df=0.95, min_df=2, max_features=5000, stop_words='english')),\n",
    "                     ('tfidf', TfidfTransformer()),\n",
    "                     ('clf', MultinomialNB()),\n",
    "                    ])\n",
    "\n",
    "# Fit all the pipeline\n",
    "text_clf.fit(twenty_train.data, twenty_train.target)"
   ]
  },
  {
   "cell_type": "code",
   "execution_count": 4,
   "metadata": {},
   "outputs": [
    {
     "name": "stdout",
     "output_type": "stream",
     "text": [
      "Test accuracy: 0.7989347536617842\n"
     ]
    }
   ],
   "source": [
    "#Evaluate test data\n",
    "twenty_test = fetch_20newsgroups(subset='test',\n",
    "                    remove=('headers', 'footers', 'quotes'),\n",
    "                    categories=categories, \n",
    "                    shuffle=True, random_state=42)\n",
    "\n",
    "predicted = text_clf.predict(twenty_test.data)\n",
    "\n",
    "print('Test accuracy:', np.mean(predicted == twenty_test.target))"
   ]
  },
  {
   "cell_type": "markdown",
   "metadata": {},
   "source": [
    "## Change classifier in the pipeline\n",
    "    - LinearSVC\n",
    "    - k-NN\n",
    "    - Random forest"
   ]
  },
  {
   "cell_type": "code",
   "execution_count": 5,
   "metadata": {},
   "outputs": [
    {
     "name": "stdout",
     "output_type": "stream",
     "text": [
      "Test accuracy: 0.8089214380825566\n"
     ]
    }
   ],
   "source": [
    "from sklearn.svm import LinearSVC\n",
    "text_clf_svm = Pipeline([('vect', CountVectorizer(max_df=0.95, min_df=2, max_features=5000, stop_words='english')),\n",
    "                     ('tfidf', TfidfTransformer()),\n",
    "                     ('clf', LinearSVC()),\n",
    "                    ])\n",
    "\n",
    "#Fit\n",
    "_ = text_clf_svm.fit(twenty_train.data, twenty_train.target)\n",
    "\n",
    "# Predict\n",
    "predicted = text_clf_svm.predict(twenty_test.data)\n",
    "\n",
    "# Evaluate accuracy\n",
    "print('Test accuracy:', np.mean(predicted == twenty_test.target))        "
   ]
  },
  {
   "cell_type": "code",
   "execution_count": 6,
   "metadata": {},
   "outputs": [
    {
     "name": "stdout",
     "output_type": "stream",
     "text": [
      "Test accuracy: 0.25099866844207724\n"
     ]
    }
   ],
   "source": [
    "from sklearn.neighbors import KNeighborsClassifier\n",
    "\n",
    "text_clf = Pipeline([('vect', CountVectorizer(max_df=0.95, min_df=2, max_features=5000, stop_words='english')),\n",
    "                     ('tfidf', TfidfTransformer()),\n",
    "                     ('clf', KNeighborsClassifier(n_neighbors=10)),\n",
    "                    ])\n",
    "\n",
    "_ = text_clf.fit(twenty_train.data, twenty_train.target)\n",
    "predicted = text_clf.predict(twenty_test.data)\n",
    "print('Test accuracy:', np.mean(predicted == twenty_test.target))"
   ]
  },
  {
   "cell_type": "code",
   "execution_count": 7,
   "metadata": {},
   "outputs": [
    {
     "name": "stdout",
     "output_type": "stream",
     "text": [
      "Test accuracy: 0.7376830892143809\n"
     ]
    }
   ],
   "source": [
    "from sklearn.ensemble import RandomForestClassifier\n",
    "\n",
    "text_clf = Pipeline([('vect', CountVectorizer(max_df=0.95, min_df=2, max_features=5000, stop_words='english')),\n",
    "                     ('tfidf', TfidfTransformer()),\n",
    "                     ('clf', RandomForestClassifier(n_estimators=100)),\n",
    "                    ])\n",
    "\n",
    "_ = text_clf.fit(twenty_train.data, twenty_train.target)\n",
    "predicted = text_clf.predict(twenty_test.data)\n",
    "print('Test accuracy:', np.mean(predicted == twenty_test.target))"
   ]
  },
  {
   "cell_type": "code",
   "execution_count": null,
   "metadata": {
    "collapsed": true
   },
   "outputs": [],
   "source": []
  },
  {
   "cell_type": "markdown",
   "metadata": {},
   "source": [
    "## Use features from a factorization instead the provided by the tf-idf"
   ]
  },
  {
   "cell_type": "code",
   "execution_count": 8,
   "metadata": {},
   "outputs": [
    {
     "data": {
      "text/plain": [
       "(2257, 5000)"
      ]
     },
     "execution_count": 8,
     "metadata": {},
     "output_type": "execute_result"
    }
   ],
   "source": [
    "# Text preprocessing, tokenizing and filtering of stopwords\n",
    "from sklearn.feature_extraction.text import CountVectorizer\n",
    "\n",
    "tf_vectorizer = CountVectorizer(max_df=0.95, min_df=2,\n",
    "                                max_features=5000,\n",
    "                                stop_words='english')\n",
    "X_train_counts = tf_vectorizer.fit_transform(twenty_train.data)\n",
    "X_train_counts.shape"
   ]
  },
  {
   "cell_type": "code",
   "execution_count": 9,
   "metadata": {},
   "outputs": [
    {
     "data": {
      "text/plain": [
       "LatentDirichletAllocation(batch_size=128, doc_topic_prior=None,\n",
       "             evaluate_every=-1, learning_decay=0.7,\n",
       "             learning_method='online', learning_offset=50.0,\n",
       "             max_doc_update_iter=100, max_iter=5, mean_change_tol=0.001,\n",
       "             n_components=6, n_jobs=1, n_topics=None, perp_tol=0.1,\n",
       "             random_state=0, topic_word_prior=None,\n",
       "             total_samples=1000000.0, verbose=0)"
      ]
     },
     "execution_count": 9,
     "metadata": {},
     "output_type": "execute_result"
    }
   ],
   "source": [
    "from sklearn.decomposition import  LatentDirichletAllocation\n",
    "\n",
    "n_components = 6\n",
    "n_top_words = 20\n",
    "\n",
    "lda = LatentDirichletAllocation(n_components=n_components,\n",
    "                                max_iter=5,\n",
    "                                learning_method='online',\n",
    "                                learning_offset=50.,\n",
    "                                random_state=0)\n",
    "lda.fit(X_train_counts)"
   ]
  },
  {
   "cell_type": "code",
   "execution_count": 10,
   "metadata": {},
   "outputs": [
    {
     "name": "stdout",
     "output_type": "stream",
     "text": [
      "Topic #0:\n",
      "church pope catholic marriage authority married orthodox canon schism mass liturgy bishop ceremony st churches catholics does priest jurisdiction coptic\n",
      "Topic #1:\n",
      "image file jpeg use program files images gif color know format does thanks graphics software using version bit available like\n",
      "Topic #2:\n",
      "edu com graphics mail send pub keyboard ftp data computer information cs systems software ca faq available gov contact pc\n",
      "Topic #3:\n",
      "god people think don jesus just does believe know say like time bible way things good true life christian question\n",
      "Topic #4:\n",
      "health use medical years people disease food msg new patients like don doctor research time 1993 10 day know just\n",
      "Topic #5:\n",
      "banks gordon skepticism edu soon pitt geb intellect chastity n3jxp dsl shameful cadre surrender father spirit son holy int col\n",
      "\n"
     ]
    }
   ],
   "source": [
    "def print_top_words(model, feature_names, n_top_words):\n",
    "    for topic_idx, topic in enumerate(model.components_):\n",
    "        print(\"Topic #%d:\" % topic_idx)\n",
    "        print(\" \".join([feature_names[i]\n",
    "                        for i in topic.argsort()[:-n_top_words - 1:-1]]))\n",
    "    print()\n",
    "\n",
    "tf_feature_names = tf_vectorizer.get_feature_names()\n",
    "print_top_words(lda, tf_feature_names, n_top_words)"
   ]
  },
  {
   "cell_type": "code",
   "execution_count": null,
   "metadata": {
    "collapsed": true
   },
   "outputs": [],
   "source": []
  },
  {
   "cell_type": "markdown",
   "metadata": {},
   "source": [
    "## Pipeline with factorization"
   ]
  },
  {
   "cell_type": "code",
   "execution_count": 11,
   "metadata": {},
   "outputs": [
    {
     "name": "stdout",
     "output_type": "stream",
     "text": [
      "Test accuracy: 0.7003994673768309\n",
      "CPU times: user 46.1 s, sys: 3.93 s, total: 50 s\n",
      "Wall time: 50.1 s\n"
     ]
    }
   ],
   "source": [
    "%%time\n",
    "\n",
    "from sklearn.neighbors import KNeighborsClassifier\n",
    "\n",
    "text_lda_knn = Pipeline([('vect', CountVectorizer(max_df=0.95, min_df=2, max_features=10000, stop_words='english')),\n",
    "                         ('lda', LatentDirichletAllocation(n_components=150, max_iter=15,\n",
    "                                 learning_method='online',\n",
    "                                 learning_offset=200.,\n",
    "                                 random_state=0)),\n",
    "                         ('clf', KNeighborsClassifier(n_neighbors=10))\n",
    "                        ])\n",
    "\n",
    "                         \n",
    "_ = text_lda_knn.fit(twenty_train.data, twenty_train.target)\n",
    "predicted = text_lda_knn.predict(twenty_test.data)\n",
    "print('Test accuracy:', np.mean(predicted == twenty_test.target))"
   ]
  },
  {
   "cell_type": "code",
   "execution_count": 12,
   "metadata": {},
   "outputs": [
    {
     "name": "stdout",
     "output_type": "stream",
     "text": [
      "Test accuracy: 0.6897470039946738\n",
      "CPU times: user 47.2 s, sys: 4.12 s, total: 51.3 s\n",
      "Wall time: 51.3 s\n"
     ]
    }
   ],
   "source": [
    "%%time\n",
    "\n",
    "from sklearn.ensemble import RandomForestClassifier\n",
    "\n",
    "text_lda_rf = Pipeline([('vect', CountVectorizer(max_df=0.95, min_df=2, max_features=10000, stop_words='english')),\n",
    "                         ('lda', LatentDirichletAllocation(n_components=150, max_iter=15,\n",
    "                                 learning_method='online',\n",
    "                                 learning_offset=200.,\n",
    "                                 random_state=0)),\n",
    "                         ('clf', RandomForestClassifier(n_estimators=100)),\n",
    "                        ])\n",
    "\n",
    "                         \n",
    "_ = text_lda_rf.fit(twenty_train.data, twenty_train.target)\n",
    "\n",
    "predicted = text_lda_rf.predict(twenty_test.data)\n",
    "print('Test accuracy:', np.mean(predicted == twenty_test.target))"
   ]
  },
  {
   "cell_type": "code",
   "execution_count": null,
   "metadata": {
    "collapsed": true
   },
   "outputs": [],
   "source": []
  },
  {
   "cell_type": "markdown",
   "metadata": {},
   "source": [
    "## Optimize a pipeline"
   ]
  },
  {
   "cell_type": "code",
   "execution_count": 13,
   "metadata": {},
   "outputs": [
    {
     "name": "stdout",
     "output_type": "stream",
     "text": [
      "Done!\n",
      "CPU times: user 19.2 s, sys: 272 ms, total: 19.5 s\n",
      "Wall time: 19.5 s\n"
     ]
    }
   ],
   "source": [
    "%%time\n",
    "\n",
    "from sklearn.model_selection import RandomizedSearchCV\n",
    "\n",
    "# Define estimator. No parameters of the search\n",
    "clf = Pipeline([('vect', CountVectorizer(max_df=0.95, min_df=2)),\n",
    "                ('tfidf', TfidfTransformer()),\n",
    "                ('clf', LinearSVC()),\n",
    "                ])\n",
    "\n",
    "# Specify parameters and distributions to sample from\n",
    "# Parameters of pipelines can be set using ‘__’ separated parameter names:\n",
    "param_dist = {\"vect__max_features\": [1000, 2500, 5000, 7500, 10000, None], \n",
    "              \"vect__stop_words\": ['english', None], \n",
    "              \"clf__C\": [.1, .5, 1., 1.5, 2.]}\n",
    "\n",
    "# Define randomized search\n",
    "n_iter_search = 10\n",
    "random_search = RandomizedSearchCV(clf, param_distributions=param_dist, n_iter=n_iter_search)\n",
    "\n",
    "# Run the randomized search\n",
    "random_search.fit(twenty_train.data, twenty_train.target)\n",
    "\n",
    "print(\"Done!\")"
   ]
  },
  {
   "cell_type": "code",
   "execution_count": 14,
   "metadata": {},
   "outputs": [
    {
     "name": "stderr",
     "output_type": "stream",
     "text": [
      "/Users/jorge/anaconda3/lib/python3.6/site-packages/sklearn/utils/deprecation.py:122: FutureWarning: You are accessing a training score ('mean_train_score'), which will not be available by default any more in 0.21. If you need training scores, please set return_train_score=True\n",
      "  warnings.warn(*warn_args, **warn_kwargs)\n",
      "/Users/jorge/anaconda3/lib/python3.6/site-packages/sklearn/utils/deprecation.py:122: FutureWarning: You are accessing a training score ('split0_train_score'), which will not be available by default any more in 0.21. If you need training scores, please set return_train_score=True\n",
      "  warnings.warn(*warn_args, **warn_kwargs)\n",
      "/Users/jorge/anaconda3/lib/python3.6/site-packages/sklearn/utils/deprecation.py:122: FutureWarning: You are accessing a training score ('split1_train_score'), which will not be available by default any more in 0.21. If you need training scores, please set return_train_score=True\n",
      "  warnings.warn(*warn_args, **warn_kwargs)\n",
      "/Users/jorge/anaconda3/lib/python3.6/site-packages/sklearn/utils/deprecation.py:122: FutureWarning: You are accessing a training score ('split2_train_score'), which will not be available by default any more in 0.21. If you need training scores, please set return_train_score=True\n",
      "  warnings.warn(*warn_args, **warn_kwargs)\n",
      "/Users/jorge/anaconda3/lib/python3.6/site-packages/sklearn/utils/deprecation.py:122: FutureWarning: You are accessing a training score ('std_train_score'), which will not be available by default any more in 0.21. If you need training scores, please set return_train_score=True\n",
      "  warnings.warn(*warn_args, **warn_kwargs)\n"
     ]
    },
    {
     "data": {
      "text/html": [
       "<div>\n",
       "<style scoped>\n",
       "    .dataframe tbody tr th:only-of-type {\n",
       "        vertical-align: middle;\n",
       "    }\n",
       "\n",
       "    .dataframe tbody tr th {\n",
       "        vertical-align: top;\n",
       "    }\n",
       "\n",
       "    .dataframe thead th {\n",
       "        text-align: right;\n",
       "    }\n",
       "</style>\n",
       "<table border=\"1\" class=\"dataframe\">\n",
       "  <thead>\n",
       "    <tr style=\"text-align: right;\">\n",
       "      <th></th>\n",
       "      <th>mean_fit_time</th>\n",
       "      <th>mean_score_time</th>\n",
       "      <th>mean_test_score</th>\n",
       "      <th>mean_train_score</th>\n",
       "      <th>param_clf__C</th>\n",
       "      <th>param_vect__max_features</th>\n",
       "      <th>param_vect__stop_words</th>\n",
       "      <th>params</th>\n",
       "      <th>rank_test_score</th>\n",
       "      <th>split0_test_score</th>\n",
       "      <th>split0_train_score</th>\n",
       "      <th>split1_test_score</th>\n",
       "      <th>split1_train_score</th>\n",
       "      <th>split2_test_score</th>\n",
       "      <th>split2_train_score</th>\n",
       "      <th>std_fit_time</th>\n",
       "      <th>std_score_time</th>\n",
       "      <th>std_test_score</th>\n",
       "      <th>std_train_score</th>\n",
       "    </tr>\n",
       "  </thead>\n",
       "  <tbody>\n",
       "    <tr>\n",
       "      <th>0</th>\n",
       "      <td>0.301364</td>\n",
       "      <td>0.108572</td>\n",
       "      <td>0.868852</td>\n",
       "      <td>0.983164</td>\n",
       "      <td>1</td>\n",
       "      <td>None</td>\n",
       "      <td>english</td>\n",
       "      <td>{'vect__stop_words': 'english', 'vect__max_fea...</td>\n",
       "      <td>1</td>\n",
       "      <td>0.880478</td>\n",
       "      <td>0.984043</td>\n",
       "      <td>0.853918</td>\n",
       "      <td>0.984043</td>\n",
       "      <td>0.872170</td>\n",
       "      <td>0.981408</td>\n",
       "      <td>0.003767</td>\n",
       "      <td>0.004169</td>\n",
       "      <td>0.011098</td>\n",
       "      <td>0.001242</td>\n",
       "    </tr>\n",
       "    <tr>\n",
       "      <th>1</th>\n",
       "      <td>0.282722</td>\n",
       "      <td>0.104675</td>\n",
       "      <td>0.818343</td>\n",
       "      <td>0.982499</td>\n",
       "      <td>2</td>\n",
       "      <td>2500</td>\n",
       "      <td>english</td>\n",
       "      <td>{'vect__stop_words': 'english', 'vect__max_fea...</td>\n",
       "      <td>8</td>\n",
       "      <td>0.819389</td>\n",
       "      <td>0.983378</td>\n",
       "      <td>0.816733</td>\n",
       "      <td>0.982713</td>\n",
       "      <td>0.818908</td>\n",
       "      <td>0.981408</td>\n",
       "      <td>0.002260</td>\n",
       "      <td>0.006668</td>\n",
       "      <td>0.001156</td>\n",
       "      <td>0.000818</td>\n",
       "    </tr>\n",
       "    <tr>\n",
       "      <th>2</th>\n",
       "      <td>0.306478</td>\n",
       "      <td>0.123913</td>\n",
       "      <td>0.828977</td>\n",
       "      <td>0.951043</td>\n",
       "      <td>0.1</td>\n",
       "      <td>None</td>\n",
       "      <td>None</td>\n",
       "      <td>{'vect__stop_words': None, 'vect__max_features...</td>\n",
       "      <td>7</td>\n",
       "      <td>0.843293</td>\n",
       "      <td>0.954122</td>\n",
       "      <td>0.816733</td>\n",
       "      <td>0.951463</td>\n",
       "      <td>0.826897</td>\n",
       "      <td>0.947543</td>\n",
       "      <td>0.004500</td>\n",
       "      <td>0.012764</td>\n",
       "      <td>0.010947</td>\n",
       "      <td>0.002702</td>\n",
       "    </tr>\n",
       "    <tr>\n",
       "      <th>3</th>\n",
       "      <td>0.291355</td>\n",
       "      <td>0.109621</td>\n",
       "      <td>0.860877</td>\n",
       "      <td>0.983386</td>\n",
       "      <td>2</td>\n",
       "      <td>7500</td>\n",
       "      <td>english</td>\n",
       "      <td>{'vect__stop_words': 'english', 'vect__max_fea...</td>\n",
       "      <td>4</td>\n",
       "      <td>0.871182</td>\n",
       "      <td>0.984043</td>\n",
       "      <td>0.852590</td>\n",
       "      <td>0.984043</td>\n",
       "      <td>0.858855</td>\n",
       "      <td>0.982072</td>\n",
       "      <td>0.023713</td>\n",
       "      <td>0.009328</td>\n",
       "      <td>0.007727</td>\n",
       "      <td>0.000929</td>\n",
       "    </tr>\n",
       "    <tr>\n",
       "      <th>4</th>\n",
       "      <td>0.330827</td>\n",
       "      <td>0.123272</td>\n",
       "      <td>0.816128</td>\n",
       "      <td>0.932875</td>\n",
       "      <td>0.1</td>\n",
       "      <td>2500</td>\n",
       "      <td>None</td>\n",
       "      <td>{'vect__stop_words': None, 'vect__max_features...</td>\n",
       "      <td>9</td>\n",
       "      <td>0.833997</td>\n",
       "      <td>0.932846</td>\n",
       "      <td>0.800797</td>\n",
       "      <td>0.931516</td>\n",
       "      <td>0.813582</td>\n",
       "      <td>0.934263</td>\n",
       "      <td>0.046284</td>\n",
       "      <td>0.010147</td>\n",
       "      <td>0.013679</td>\n",
       "      <td>0.001122</td>\n",
       "    </tr>\n",
       "    <tr>\n",
       "      <th>5</th>\n",
       "      <td>0.307277</td>\n",
       "      <td>0.123729</td>\n",
       "      <td>0.860434</td>\n",
       "      <td>0.981170</td>\n",
       "      <td>0.5</td>\n",
       "      <td>None</td>\n",
       "      <td>None</td>\n",
       "      <td>{'vect__stop_words': None, 'vect__max_features...</td>\n",
       "      <td>5</td>\n",
       "      <td>0.868526</td>\n",
       "      <td>0.980053</td>\n",
       "      <td>0.856574</td>\n",
       "      <td>0.983378</td>\n",
       "      <td>0.856192</td>\n",
       "      <td>0.980080</td>\n",
       "      <td>0.012873</td>\n",
       "      <td>0.006622</td>\n",
       "      <td>0.005728</td>\n",
       "      <td>0.001561</td>\n",
       "    </tr>\n",
       "    <tr>\n",
       "      <th>6</th>\n",
       "      <td>0.267580</td>\n",
       "      <td>0.104175</td>\n",
       "      <td>0.847142</td>\n",
       "      <td>0.982721</td>\n",
       "      <td>1</td>\n",
       "      <td>5000</td>\n",
       "      <td>english</td>\n",
       "      <td>{'vect__stop_words': 'english', 'vect__max_fea...</td>\n",
       "      <td>6</td>\n",
       "      <td>0.853918</td>\n",
       "      <td>0.982713</td>\n",
       "      <td>0.835325</td>\n",
       "      <td>0.984043</td>\n",
       "      <td>0.852197</td>\n",
       "      <td>0.981408</td>\n",
       "      <td>0.023266</td>\n",
       "      <td>0.002623</td>\n",
       "      <td>0.008391</td>\n",
       "      <td>0.001076</td>\n",
       "    </tr>\n",
       "    <tr>\n",
       "      <th>7</th>\n",
       "      <td>0.265251</td>\n",
       "      <td>0.096733</td>\n",
       "      <td>0.797519</td>\n",
       "      <td>0.961011</td>\n",
       "      <td>0.5</td>\n",
       "      <td>1000</td>\n",
       "      <td>english</td>\n",
       "      <td>{'vect__stop_words': 'english', 'vect__max_fea...</td>\n",
       "      <td>10</td>\n",
       "      <td>0.803453</td>\n",
       "      <td>0.957447</td>\n",
       "      <td>0.798141</td>\n",
       "      <td>0.966755</td>\n",
       "      <td>0.790945</td>\n",
       "      <td>0.958831</td>\n",
       "      <td>0.011882</td>\n",
       "      <td>0.005104</td>\n",
       "      <td>0.005124</td>\n",
       "      <td>0.004101</td>\n",
       "    </tr>\n",
       "    <tr>\n",
       "      <th>8</th>\n",
       "      <td>0.295923</td>\n",
       "      <td>0.107011</td>\n",
       "      <td>0.864865</td>\n",
       "      <td>0.983607</td>\n",
       "      <td>2</td>\n",
       "      <td>10000</td>\n",
       "      <td>english</td>\n",
       "      <td>{'vect__stop_words': 'english', 'vect__max_fea...</td>\n",
       "      <td>2</td>\n",
       "      <td>0.873838</td>\n",
       "      <td>0.984707</td>\n",
       "      <td>0.852590</td>\n",
       "      <td>0.984043</td>\n",
       "      <td>0.868176</td>\n",
       "      <td>0.982072</td>\n",
       "      <td>0.010835</td>\n",
       "      <td>0.007128</td>\n",
       "      <td>0.008988</td>\n",
       "      <td>0.001119</td>\n",
       "    </tr>\n",
       "    <tr>\n",
       "      <th>9</th>\n",
       "      <td>0.328010</td>\n",
       "      <td>0.127902</td>\n",
       "      <td>0.861320</td>\n",
       "      <td>0.982499</td>\n",
       "      <td>1.5</td>\n",
       "      <td>None</td>\n",
       "      <td>None</td>\n",
       "      <td>{'vect__stop_words': None, 'vect__max_features...</td>\n",
       "      <td>3</td>\n",
       "      <td>0.869854</td>\n",
       "      <td>0.982048</td>\n",
       "      <td>0.851262</td>\n",
       "      <td>0.984043</td>\n",
       "      <td>0.862850</td>\n",
       "      <td>0.981408</td>\n",
       "      <td>0.002818</td>\n",
       "      <td>0.011054</td>\n",
       "      <td>0.007670</td>\n",
       "      <td>0.001122</td>\n",
       "    </tr>\n",
       "  </tbody>\n",
       "</table>\n",
       "</div>"
      ],
      "text/plain": [
       "   mean_fit_time  mean_score_time  mean_test_score  mean_train_score  \\\n",
       "0       0.301364         0.108572         0.868852          0.983164   \n",
       "1       0.282722         0.104675         0.818343          0.982499   \n",
       "2       0.306478         0.123913         0.828977          0.951043   \n",
       "3       0.291355         0.109621         0.860877          0.983386   \n",
       "4       0.330827         0.123272         0.816128          0.932875   \n",
       "5       0.307277         0.123729         0.860434          0.981170   \n",
       "6       0.267580         0.104175         0.847142          0.982721   \n",
       "7       0.265251         0.096733         0.797519          0.961011   \n",
       "8       0.295923         0.107011         0.864865          0.983607   \n",
       "9       0.328010         0.127902         0.861320          0.982499   \n",
       "\n",
       "  param_clf__C param_vect__max_features param_vect__stop_words  \\\n",
       "0            1                     None                english   \n",
       "1            2                     2500                english   \n",
       "2          0.1                     None                   None   \n",
       "3            2                     7500                english   \n",
       "4          0.1                     2500                   None   \n",
       "5          0.5                     None                   None   \n",
       "6            1                     5000                english   \n",
       "7          0.5                     1000                english   \n",
       "8            2                    10000                english   \n",
       "9          1.5                     None                   None   \n",
       "\n",
       "                                              params  rank_test_score  \\\n",
       "0  {'vect__stop_words': 'english', 'vect__max_fea...                1   \n",
       "1  {'vect__stop_words': 'english', 'vect__max_fea...                8   \n",
       "2  {'vect__stop_words': None, 'vect__max_features...                7   \n",
       "3  {'vect__stop_words': 'english', 'vect__max_fea...                4   \n",
       "4  {'vect__stop_words': None, 'vect__max_features...                9   \n",
       "5  {'vect__stop_words': None, 'vect__max_features...                5   \n",
       "6  {'vect__stop_words': 'english', 'vect__max_fea...                6   \n",
       "7  {'vect__stop_words': 'english', 'vect__max_fea...               10   \n",
       "8  {'vect__stop_words': 'english', 'vect__max_fea...                2   \n",
       "9  {'vect__stop_words': None, 'vect__max_features...                3   \n",
       "\n",
       "   split0_test_score  split0_train_score  split1_test_score  \\\n",
       "0           0.880478            0.984043           0.853918   \n",
       "1           0.819389            0.983378           0.816733   \n",
       "2           0.843293            0.954122           0.816733   \n",
       "3           0.871182            0.984043           0.852590   \n",
       "4           0.833997            0.932846           0.800797   \n",
       "5           0.868526            0.980053           0.856574   \n",
       "6           0.853918            0.982713           0.835325   \n",
       "7           0.803453            0.957447           0.798141   \n",
       "8           0.873838            0.984707           0.852590   \n",
       "9           0.869854            0.982048           0.851262   \n",
       "\n",
       "   split1_train_score  split2_test_score  split2_train_score  std_fit_time  \\\n",
       "0            0.984043           0.872170            0.981408      0.003767   \n",
       "1            0.982713           0.818908            0.981408      0.002260   \n",
       "2            0.951463           0.826897            0.947543      0.004500   \n",
       "3            0.984043           0.858855            0.982072      0.023713   \n",
       "4            0.931516           0.813582            0.934263      0.046284   \n",
       "5            0.983378           0.856192            0.980080      0.012873   \n",
       "6            0.984043           0.852197            0.981408      0.023266   \n",
       "7            0.966755           0.790945            0.958831      0.011882   \n",
       "8            0.984043           0.868176            0.982072      0.010835   \n",
       "9            0.984043           0.862850            0.981408      0.002818   \n",
       "\n",
       "   std_score_time  std_test_score  std_train_score  \n",
       "0        0.004169        0.011098         0.001242  \n",
       "1        0.006668        0.001156         0.000818  \n",
       "2        0.012764        0.010947         0.002702  \n",
       "3        0.009328        0.007727         0.000929  \n",
       "4        0.010147        0.013679         0.001122  \n",
       "5        0.006622        0.005728         0.001561  \n",
       "6        0.002623        0.008391         0.001076  \n",
       "7        0.005104        0.005124         0.004101  \n",
       "8        0.007128        0.008988         0.001119  \n",
       "9        0.011054        0.007670         0.001122  "
      ]
     },
     "execution_count": 14,
     "metadata": {},
     "output_type": "execute_result"
    }
   ],
   "source": [
    "# Load dictionary of search results to a Pandas dataframe\n",
    "import pandas as pd\n",
    "\n",
    "df_cv_results = pd.DataFrame.from_dict(random_search.cv_results_)\n",
    "df_cv_results"
   ]
  },
  {
   "cell_type": "code",
   "execution_count": 15,
   "metadata": {},
   "outputs": [
    {
     "name": "stdout",
     "output_type": "stream",
     "text": [
      "Best params: {'vect__stop_words': 'english', 'vect__max_features': None, 'clf__C': 1.0}\n"
     ]
    }
   ],
   "source": [
    "print('Best params:', random_search.best_params_)"
   ]
  },
  {
   "cell_type": "code",
   "execution_count": 16,
   "metadata": {},
   "outputs": [
    {
     "name": "stdout",
     "output_type": "stream",
     "text": [
      "Test accuracy: 0.8195739014647138\n"
     ]
    }
   ],
   "source": [
    "# Score & evaluate test data using the best estimator\n",
    "\n",
    "predicted = random_search.best_estimator_.predict(twenty_test.data)\n",
    "\n",
    "print('Test accuracy:', np.mean(predicted == twenty_test.target))        "
   ]
  },
  {
   "cell_type": "code",
   "execution_count": null,
   "metadata": {
    "collapsed": true
   },
   "outputs": [],
   "source": []
  },
  {
   "cell_type": "markdown",
   "metadata": {},
   "source": [
    "## Aditional metrics for multiclass classification"
   ]
  },
  {
   "cell_type": "code",
   "execution_count": 17,
   "metadata": {},
   "outputs": [
    {
     "name": "stdout",
     "output_type": "stream",
     "text": [
      "                        precision    recall  f1-score   support\n",
      "\n",
      "           alt.atheism       0.78      0.61      0.68       319\n",
      "         comp.graphics       0.83      0.92      0.87       389\n",
      "               sci.med       0.87      0.87      0.87       396\n",
      "soc.religion.christian       0.79      0.84      0.82       398\n",
      "\n",
      "           avg / total       0.82      0.82      0.82      1502\n",
      "\n"
     ]
    }
   ],
   "source": [
    "from sklearn import metrics\n",
    "\n",
    "print(metrics.classification_report(twenty_test.target, \n",
    "                                    predicted,\n",
    "                                    target_names=twenty_test.target_names))"
   ]
  },
  {
   "cell_type": "code",
   "execution_count": 18,
   "metadata": {},
   "outputs": [
    {
     "data": {
      "text/plain": [
       "array([[194,  21,  26,  78],\n",
       "       [ 12, 358,  17,   2],\n",
       "       [ 13,  30, 343,  10],\n",
       "       [ 30,  23,   9, 336]])"
      ]
     },
     "execution_count": 18,
     "metadata": {},
     "output_type": "execute_result"
    }
   ],
   "source": [
    "metrics.confusion_matrix(twenty_test.target, predicted)"
   ]
  },
  {
   "cell_type": "code",
   "execution_count": null,
   "metadata": {
    "collapsed": true
   },
   "outputs": [],
   "source": []
  }
 ],
 "metadata": {
  "anaconda-cloud": {},
  "kernelspec": {
   "display_name": "Python [default]",
   "language": "python",
   "name": "python3"
  },
  "language_info": {
   "codemirror_mode": {
    "name": "ipython",
    "version": 3
   },
   "file_extension": ".py",
   "mimetype": "text/x-python",
   "name": "python",
   "nbconvert_exporter": "python",
   "pygments_lexer": "ipython3",
   "version": "3.6.4"
  }
 },
 "nbformat": 4,
 "nbformat_minor": 2
}
